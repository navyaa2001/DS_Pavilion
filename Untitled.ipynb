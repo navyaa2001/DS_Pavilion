{
 "cells": [
  {
   "cell_type": "markdown",
   "id": "14860ce4",
   "metadata": {},
   "source": [
    "# About this Project"
   ]
  },
  {
   "cell_type": "markdown",
   "id": "0224e6e4",
   "metadata": {},
   "source": [
    "This is a Machine Learning Capstone Project ,\n",
    "\n",
    "done for completion of the Capstone Project for Master's in Science in Business Intelligence and Analystics ,"
   ]
  },
  {
   "cell_type": "markdown",
   "id": "29364f44",
   "metadata": {},
   "source": [
    "This Project is done by:\n",
    "    \n",
    "    * Priyesha Solanki\n",
    "    * Navyaa Kanaujia\n",
    "    * Priyanshi Zala\n",
    "    * Prachi Rathod"
   ]
  },
  {
   "cell_type": "markdown",
   "id": "9d3bfb04",
   "metadata": {},
   "source": [
    "# Problem Statement"
   ]
  },
  {
   "cell_type": "markdown",
   "id": "e485224b",
   "metadata": {},
   "source": [
    "# TED is devoted to spreading powerful ideas on just about any topic. This dataset contain over 4,005 TED talks including transcripts in many languages.\n",
    "\n",
    "Founded in 1984 by Richard Salman as a nonprofit organization that aimed at bringing experts from the fields of Technology, Entertainment, and Design together, TED Conferences have gone on to become the Mecca of ideas from virtually all walks of life. As of 2015, TED and its sister TEDx chapters have published more than 2000 talks for free consumption by the masses and its speaker list boasts of the likes of Al Gore, Jimmy Wales, Shahrukh Khan, and Bill Gates.\n",
    "\n",
    "TED talks have been given for many years with the platform of \"Ideas Worth Spreading\". In the digital world we live in today, TED is a great platform to get your idea out there. But how do you know if your idea will be heard or appreciated.\n",
    "\n",
    "The main objective is to build a predictive model, which could help in predicting the views of the videos uploaded on the TEDx website."
   ]
  },
  {
   "cell_type": "markdown",
   "id": "7c61b590",
   "metadata": {},
   "source": [
    "# The Structure of this notebook\n"
   ]
  },
  {
   "cell_type": "markdown",
   "id": "b00f7a10",
   "metadata": {},
   "source": [
    "# Project Work flow"
   ]
  },
  {
   "cell_type": "markdown",
   "id": "59a9c8df",
   "metadata": {},
   "source": [
    "* Importing Libraries\n",
    "\n",
    "* Loading the Dataset\n",
    "\n",
    "* EDA on features\n",
    "\n",
    "* Feature Engineering\n",
    "\n",
    "* Data Cleaning\n",
    "\n",
    "* Feature selection\n",
    "\n",
    "* Fitting the regression models and HyperParameter Tuning\n",
    "\n",
    "* Comparison of Models\n",
    "\n",
    "* Final selection of the model\n",
    "\n",
    "* Conclusion"
   ]
  },
  {
   "cell_type": "markdown",
   "id": "864e1982",
   "metadata": {},
   "source": [
    "# Understanding the given Data\n"
   ]
  },
  {
   "cell_type": "markdown",
   "id": "9c4778ba",
   "metadata": {},
   "source": [
    "For each feature in the given dataset ,\n",
    "\n",
    "What is the meaning of the feature and its data type"
   ]
  },
  {
   "cell_type": "markdown",
   "id": "acd8d939",
   "metadata": {},
   "source": [
    "# Initial Code : Initliaing the Data and Modules\n"
   ]
  },
  {
   "cell_type": "markdown",
   "id": "cbb8c78f",
   "metadata": {},
   "source": [
    "Indented block\n",
    "\n"
   ]
  },
  {
   "cell_type": "markdown",
   "id": "f843bbed",
   "metadata": {},
   "source": [
    "# Installing and Importing Libraries\n"
   ]
  },
  {
   "cell_type": "markdown",
   "id": "919ee00a",
   "metadata": {},
   "source": [
    "# Libraries used in this Project:"
   ]
  },
  {
   "cell_type": "markdown",
   "id": "f7d3d2ea",
   "metadata": {},
   "source": [
    "Datawrangling :\n",
    "\n",
    "* Numpy\n",
    "* Pandas\n",
    "\n",
    "For Graphing :\n",
    "\n",
    "* Matplotib\n",
    "* Seaborn\n",
    "\n",
    "Machine learning :\n",
    "\n",
    "* Scikit-Learn\n",
    "* SK-Opt\n",
    "* XGBoost\n",
    "* CatBoost\n",
    "\n",
    "Miscellaneous :\n",
    "\n",
    "* Google colab tools"
   ]
  },
  {
   "cell_type": "markdown",
   "id": "9f7b38c7",
   "metadata": {},
   "source": [
    "# Importing Libraries"
   ]
  },
  {
   "cell_type": "code",
   "execution_count": 1,
   "id": "eb15c52c",
   "metadata": {},
   "outputs": [
    {
     "name": "stdout",
     "output_type": "stream",
     "text": [
      "Requirement already satisfied: xgboost in c:\\users\\vagab\\appdata\\local\\programs\\python\\python37\\lib\\site-packages (1.6.2)\n",
      "Requirement already satisfied: scipy in c:\\users\\vagab\\appdata\\local\\programs\\python\\python37\\lib\\site-packages (from xgboost) (1.7.3)\n",
      "Requirement already satisfied: numpy in c:\\users\\vagab\\appdata\\local\\programs\\python\\python37\\lib\\site-packages (from xgboost) (1.21.5)\n",
      "Note: you may need to restart the kernel to use updated packages.\n"
     ]
    }
   ],
   "source": [
    "pip install xgboost"
   ]
  },
  {
   "cell_type": "code",
   "execution_count": 2,
   "id": "1bddb891",
   "metadata": {},
   "outputs": [
    {
     "name": "stdout",
     "output_type": "stream",
     "text": [
      "Requirement already satisfied: WordCloud in c:\\users\\vagab\\appdata\\local\\programs\\python\\python37\\lib\\site-packages (1.8.2.2)\n",
      "Requirement already satisfied: pillow in c:\\users\\vagab\\appdata\\local\\programs\\python\\python37\\lib\\site-packages (from WordCloud) (9.0.1)\n",
      "Requirement already satisfied: numpy>=1.6.1 in c:\\users\\vagab\\appdata\\local\\programs\\python\\python37\\lib\\site-packages (from WordCloud) (1.21.5)\n",
      "Requirement already satisfied: matplotlib in c:\\users\\vagab\\appdata\\local\\programs\\python\\python37\\lib\\site-packages (from WordCloud) (3.5.1)\n",
      "Requirement already satisfied: python-dateutil>=2.7 in c:\\users\\vagab\\appdata\\local\\programs\\python\\python37\\lib\\site-packages (from matplotlib->WordCloud) (2.8.2)\n",
      "Requirement already satisfied: cycler>=0.10 in c:\\users\\vagab\\appdata\\local\\programs\\python\\python37\\lib\\site-packages (from matplotlib->WordCloud) (0.11.0)\n",
      "Requirement already satisfied: packaging>=20.0 in c:\\users\\vagab\\appdata\\local\\programs\\python\\python37\\lib\\site-packages (from matplotlib->WordCloud) (21.3)\n",
      "Requirement already satisfied: pyparsing>=2.2.1 in c:\\users\\vagab\\appdata\\local\\programs\\python\\python37\\lib\\site-packages (from matplotlib->WordCloud) (3.0.7)\n",
      "Requirement already satisfied: fonttools>=4.22.0 in c:\\users\\vagab\\appdata\\local\\programs\\python\\python37\\lib\\site-packages (from matplotlib->WordCloud) (4.31.2)\n",
      "Requirement already satisfied: kiwisolver>=1.0.1 in c:\\users\\vagab\\appdata\\local\\programs\\python\\python37\\lib\\site-packages (from matplotlib->WordCloud) (1.4.2)\n",
      "Requirement already satisfied: typing-extensions in c:\\users\\vagab\\appdata\\local\\programs\\python\\python37\\lib\\site-packages (from kiwisolver>=1.0.1->matplotlib->WordCloud) (4.1.1)\n",
      "Requirement already satisfied: six>=1.5 in c:\\users\\vagab\\appdata\\local\\programs\\python\\python37\\lib\\site-packages (from python-dateutil>=2.7->matplotlib->WordCloud) (1.16.0)\n",
      "Note: you may need to restart the kernel to use updated packages.\n"
     ]
    }
   ],
   "source": [
    "pip install WordCloud"
   ]
  },
  {
   "cell_type": "markdown",
   "id": "384de84e",
   "metadata": {},
   "source": [
    "# Importing Libraries"
   ]
  },
  {
   "cell_type": "code",
   "execution_count": 3,
   "id": "b3ca4590",
   "metadata": {},
   "outputs": [],
   "source": [
    "import pandas as pd\n",
    "import numpy as np\n",
    "import seaborn as sns\n",
    "import matplotlib\n",
    "import matplotlib.pyplot as plt\n",
    "%matplotlib inline\n",
    "# to reduce model complexity and prevent over-fitting which may result from simple linear regression\n",
    "from sklearn.linear_model import Ridge, Lasso \n",
    "from sklearn.ensemble import RandomForestRegressor, GradientBoostingRegressor, ExtraTreesRegressor\n",
    "from sklearn.neural_network import MLPRegressor\n",
    "import xgboost as xgb\n",
    "from sklearn import neighbors\n",
    "from sklearn.svm import SVR\n",
    "from sklearn import metrics\n",
    "from sklearn.metrics import mean_squared_error, r2_score,mean_absolute_error\n",
    "from sklearn.preprocessing import StandardScaler, MinMaxScaler\n",
    "from sklearn.model_selection import train_test_split, KFold\n",
    "from sklearn.preprocessing import OneHotEncoder\n",
    "from sklearn.model_selection import GridSearchCV\n",
    "from sklearn.model_selection import RandomizedSearchCV\n",
    "from sklearn import ensemble\n",
    "\n",
    "sns.set_style('darkgrid')\n",
    "matplotlib.rcParams['font.size'] = 14\n",
    "matplotlib.rcParams['figure.figsize'] = (7,4)\n",
    "matplotlib.rcParams['figure.facecolor'] = '#00000000'\n",
    "\n",
    "import warnings\n",
    "warnings.filterwarnings('ignore')"
   ]
  },
  {
   "cell_type": "markdown",
   "id": "d5c4bc61",
   "metadata": {},
   "source": [
    "Ridge = This model solves a regression model where the loss function is the linear least squares function and regularization is given by the l2-norm\n",
    "\n",
    "Lasso =  It modifies the loss function by adding the penalty (shrinkage quantity) equivalent to the summation of the absolute value of coefficients.\n",
    "\n",
    "Multi-layer Perceptron regressor(MLP regressor) = This model optimizes the squared error using LBFGS or stochastic gradient descent.\n",
    "\n",
    "neighbors = provides functionality for unsupervised and supervised neighbors-based learning methods.\n",
    "\n",
    "XGBoost = is able to load data from many different types of data format\n",
    "\n",
    "SVR = Support Vector regression is a type of Support vector machine that supports linear and non-linear regression\n",
    "\n",
    "metrics = to evaluate your machine learning algorithms\n",
    "\n",
    "mean_squared_error = mse is used to check how close estimates or forecasts are to actual values\n",
    "\n",
    "r2 score = is a statistical measure that represents the goodness of fit of a regression model.\n",
    "\n",
    "mean_absolute_error = MAE can help measure the accuracy of a given machine learning model.\n",
    "\n",
    "StandardScaler = to standardize the data values into a standard format\n",
    "\n",
    "minmaxscaler = it  preserves the shape of the original distribution\n",
    "\n",
    "KFold = Provides train/test indices to split data in train/test sets. Split dataset into k consecutive folds (without shuffling by default).\n",
    "\n",
    "OneHotEncoding = a common way of preprocessing categorical features for machine learning models\n",
    "\n",
    "GrisSearchCV = to search through the best parameter values from the given set of the grid of parameters.\n",
    "\n",
    "RandomizedSearchCV = Randomized search on hyper parameters.\n",
    "\n",
    "ensemble = to improve the performance of machine learning models.\n",
    "\n",
    "RandomForestRegressor = A random forest is a meta estimator that fits a number of classifying decision trees on various sub-samples of the dataset and uses averaging to improve the predictive accuracy and control over-fitting\n",
    "\n",
    "GradientBoostingRegressor = This estimator builds an additive model in a forward stage-wise fashion; it allows for the optimization of arbitrary differentiable loss functions. In each stage a regression tree is fit on the negative gradient of the given loss function.\n",
    "\n",
    "ExtraTreesRegressor = This class implements a meta estimator that fits a number of randomized decision trees (a.k.a. extra-trees) on various sub-samples of the dataset and uses averaging to improve the predictive accuracy and control over-fitting.\n"
   ]
  },
  {
   "cell_type": "code",
   "execution_count": 4,
   "id": "b1d23bb8",
   "metadata": {},
   "outputs": [],
   "source": [
    "from wordcloud import WordCloud,ImageColorGenerator\n",
    "pd.plotting.register_matplotlib_converters()\n",
    "import calendar"
   ]
  },
  {
   "cell_type": "markdown",
   "id": "9de288a6",
   "metadata": {},
   "source": [
    "Wordcloud  = it is basically a visualization technique to represent the frequency of words in a text where the size of the word represents its frequency.\n",
    "\n",
    "register_matpotlib_coverters = Register pandas formatters and converters with matplotlib."
   ]
  },
  {
   "cell_type": "code",
   "execution_count": 5,
   "id": "244101f3",
   "metadata": {},
   "outputs": [
    {
     "name": "stdout",
     "output_type": "stream",
     "text": [
      "Requirement already satisfied: scikit-optimize in c:\\users\\vagab\\appdata\\local\\programs\\python\\python37\\lib\\site-packages (0.9.0)\n",
      "Requirement already satisfied: scikit-learn>=0.20.0 in c:\\users\\vagab\\appdata\\local\\programs\\python\\python37\\lib\\site-packages (from scikit-optimize) (1.0.2)\n",
      "Requirement already satisfied: scipy>=0.19.1 in c:\\users\\vagab\\appdata\\local\\programs\\python\\python37\\lib\\site-packages (from scikit-optimize) (1.7.3)\n",
      "Requirement already satisfied: pyaml>=16.9 in c:\\users\\vagab\\appdata\\local\\programs\\python\\python37\\lib\\site-packages (from scikit-optimize) (21.10.1)\n",
      "Requirement already satisfied: numpy>=1.13.3 in c:\\users\\vagab\\appdata\\local\\programs\\python\\python37\\lib\\site-packages (from scikit-optimize) (1.21.5)\n",
      "Requirement already satisfied: joblib>=0.11 in c:\\users\\vagab\\appdata\\local\\programs\\python\\python37\\lib\\site-packages (from scikit-optimize) (1.1.0)\n",
      "Requirement already satisfied: PyYAML in c:\\users\\vagab\\appdata\\local\\programs\\python\\python37\\lib\\site-packages (from pyaml>=16.9->scikit-optimize) (6.0)\n",
      "Requirement already satisfied: threadpoolctl>=2.0.0 in c:\\users\\vagab\\appdata\\local\\programs\\python\\python37\\lib\\site-packages (from scikit-learn>=0.20.0->scikit-optimize) (3.1.0)\n"
     ]
    }
   ],
   "source": [
    "!pip install scikit-optimize\n"
   ]
  },
  {
   "cell_type": "code",
   "execution_count": 6,
   "id": "82147ca4",
   "metadata": {},
   "outputs": [
    {
     "name": "stdout",
     "output_type": "stream",
     "text": [
      "Requirement already satisfied: catboost in c:\\users\\vagab\\appdata\\local\\programs\\python\\python37\\lib\\site-packages (1.1)\n",
      "Requirement already satisfied: six in c:\\users\\vagab\\appdata\\local\\programs\\python\\python37\\lib\\site-packages (from catboost) (1.16.0)\n",
      "Requirement already satisfied: graphviz in c:\\users\\vagab\\appdata\\local\\programs\\python\\python37\\lib\\site-packages (from catboost) (0.20.1)\n",
      "Requirement already satisfied: scipy in c:\\users\\vagab\\appdata\\local\\programs\\python\\python37\\lib\\site-packages (from catboost) (1.7.3)\n",
      "Requirement already satisfied: plotly in c:\\users\\vagab\\appdata\\local\\programs\\python\\python37\\lib\\site-packages (from catboost) (5.10.0)\n",
      "Requirement already satisfied: matplotlib in c:\\users\\vagab\\appdata\\local\\programs\\python\\python37\\lib\\site-packages (from catboost) (3.5.1)\n",
      "Requirement already satisfied: pandas>=0.24.0 in c:\\users\\vagab\\appdata\\local\\programs\\python\\python37\\lib\\site-packages (from catboost) (1.3.5)\n",
      "Requirement already satisfied: numpy>=1.16.0 in c:\\users\\vagab\\appdata\\local\\programs\\python\\python37\\lib\\site-packages (from catboost) (1.21.5)\n",
      "Requirement already satisfied: python-dateutil>=2.7.3 in c:\\users\\vagab\\appdata\\local\\programs\\python\\python37\\lib\\site-packages (from pandas>=0.24.0->catboost) (2.8.2)\n",
      "Requirement already satisfied: pytz>=2017.3 in c:\\users\\vagab\\appdata\\local\\programs\\python\\python37\\lib\\site-packages (from pandas>=0.24.0->catboost) (2022.1)\n",
      "Requirement already satisfied: packaging>=20.0 in c:\\users\\vagab\\appdata\\local\\programs\\python\\python37\\lib\\site-packages (from matplotlib->catboost) (21.3)\n",
      "Requirement already satisfied: kiwisolver>=1.0.1 in c:\\users\\vagab\\appdata\\local\\programs\\python\\python37\\lib\\site-packages (from matplotlib->catboost) (1.4.2)\n",
      "Requirement already satisfied: pyparsing>=2.2.1 in c:\\users\\vagab\\appdata\\local\\programs\\python\\python37\\lib\\site-packages (from matplotlib->catboost) (3.0.7)\n",
      "Requirement already satisfied: pillow>=6.2.0 in c:\\users\\vagab\\appdata\\local\\programs\\python\\python37\\lib\\site-packages (from matplotlib->catboost) (9.0.1)\n",
      "Requirement already satisfied: fonttools>=4.22.0 in c:\\users\\vagab\\appdata\\local\\programs\\python\\python37\\lib\\site-packages (from matplotlib->catboost) (4.31.2)\n",
      "Requirement already satisfied: cycler>=0.10 in c:\\users\\vagab\\appdata\\local\\programs\\python\\python37\\lib\\site-packages (from matplotlib->catboost) (0.11.0)\n",
      "Requirement already satisfied: tenacity>=6.2.0 in c:\\users\\vagab\\appdata\\local\\programs\\python\\python37\\lib\\site-packages (from plotly->catboost) (8.1.0)\n",
      "Requirement already satisfied: typing-extensions in c:\\users\\vagab\\appdata\\local\\programs\\python\\python37\\lib\\site-packages (from kiwisolver>=1.0.1->matplotlib->catboost) (4.1.1)\n"
     ]
    }
   ],
   "source": [
    "!pip install catboost"
   ]
  },
  {
   "cell_type": "markdown",
   "id": "95df2833",
   "metadata": {},
   "source": [
    "# Importing ML Libraries"
   ]
  },
  {
   "cell_type": "code",
   "execution_count": 7,
   "id": "7e3491c0",
   "metadata": {},
   "outputs": [],
   "source": [
    "import sklearn\n",
    "\n",
    "from sklearn.model_selection import ShuffleSplit , StratifiedKFold , RepeatedStratifiedKFold ,train_test_split\n",
    "from sklearn.model_selection import cross_val_score , cross_validate ,cross_val_predict\n",
    "\n",
    "from sklearn.metrics import plot_roc_curve\n",
    "from sklearn.metrics import plot_precision_recall_curve\n",
    "from sklearn.metrics import confusion_matrix as confmat\n",
    "from sklearn.metrics import precision_recall_curve , classification_report\n",
    "\n",
    "from sklearn.preprocessing import RobustScaler\n",
    "from sklearn.pipeline import Pipeline"
   ]
  },
  {
   "cell_type": "markdown",
   "id": "911d47cf",
   "metadata": {},
   "source": [
    "Shufflesplit = ShuffleSplit will randomly sample your entire dataset during each iteration to generate a training set and a test set. \n",
    "\n",
    "RepeatedStratifiedKFold = each time running the procedure would result in a different split of the dataset into stratified k-folds, and hence, the performance results would be different.\n",
    "\n",
    "cross_val_score = it  is a function in the scikit-learn package which trains and tests a model over multiple folds of your dataset.\n",
    "\n",
    "cross_validate = It allows specifying multiple metrics for evaluation. It returns a dict containing fit-times, score-times (and optionally training scores as well as fitted estimators) in addition to the test score\n",
    "\n",
    "cross_val_predict = Generate cross-validated estimates for each input data point.\n",
    "\n",
    "plot_roc_curve = Recieving Operating Characteristic curve can efficiently give us the score that how our model is performing in classifing the labels.\n",
    "\n",
    "plot_precision_recall_curve = The precision-recall curve shows the tradeoff between precision and recall for different threshold\n",
    "\n",
    "Confusion matrix = helps us describe the performance of a classification model. \n",
    "\n",
    "Classification_report = It is a performance evaluation metric in machine learning which is used to show the precision, recall, F1 Score, and support score of your trained classification model.\n",
    "\n",
    "RobustScaler = removes the outliers and then use either StandardScaler or MinMaxScaler for preprocessing the dataset\n",
    "\n",
    "Pipeline = It ensure that data preparation, such as normalization, is restricted to each fold of your cross-validation operation, minimizing data leaks in your test harness."
   ]
  },
  {
   "cell_type": "code",
   "execution_count": 8,
   "id": "8d5f4eb0",
   "metadata": {},
   "outputs": [],
   "source": [
    "# Reading the csv\n",
    "dataset1=pd.read_csv('data_ted_talks.csv')"
   ]
  },
  {
   "cell_type": "code",
   "execution_count": 9,
   "id": "21bf3e5b",
   "metadata": {},
   "outputs": [],
   "source": [
    "# data copy\n",
    "data=dataset1.copy()"
   ]
  },
  {
   "cell_type": "markdown",
   "id": "41cf92b1",
   "metadata": {},
   "source": [
    "# Dataset Information:"
   ]
  },
  {
   "cell_type": "code",
   "execution_count": 10,
   "id": "be8d7daf",
   "metadata": {},
   "outputs": [
    {
     "name": "stdout",
     "output_type": "stream",
     "text": [
      "Dataset Shape: (4005, 19)\n"
     ]
    }
   ],
   "source": [
    "def resumetable(df):\n",
    "    print(f\"Dataset Shape: {df.shape}\")\n",
    "    summary = pd.DataFrame(df.dtypes,columns=['dtypes'])\n",
    "    summary = summary.reset_index()\n",
    "    summary['Name'] = summary['index']\n",
    "    summary = summary[['Name','dtypes']]\n",
    "    summary['Missing'] = df.isnull().sum().values    \n",
    "    summary['Uniques'] = df.nunique().values\n",
    "    summary['First Value'] = df.loc[0].values\n",
    "    summary['Second Value'] = df.loc[1].values\n",
    "    return summary\n",
    "result = resumetable(data)"
   ]
  },
  {
   "cell_type": "code",
   "execution_count": 11,
   "id": "36cb1f39",
   "metadata": {},
   "outputs": [
    {
     "data": {
      "text/html": [
       "<div>\n",
       "<style scoped>\n",
       "    .dataframe tbody tr th:only-of-type {\n",
       "        vertical-align: middle;\n",
       "    }\n",
       "\n",
       "    .dataframe tbody tr th {\n",
       "        vertical-align: top;\n",
       "    }\n",
       "\n",
       "    .dataframe thead th {\n",
       "        text-align: right;\n",
       "    }\n",
       "</style>\n",
       "<table border=\"1\" class=\"dataframe\">\n",
       "  <thead>\n",
       "    <tr style=\"text-align: right;\">\n",
       "      <th></th>\n",
       "      <th>talk_id</th>\n",
       "      <th>title</th>\n",
       "      <th>speaker_1</th>\n",
       "      <th>all_speakers</th>\n",
       "      <th>occupations</th>\n",
       "      <th>about_speakers</th>\n",
       "      <th>views</th>\n",
       "      <th>recorded_date</th>\n",
       "      <th>published_date</th>\n",
       "      <th>event</th>\n",
       "      <th>native_lang</th>\n",
       "      <th>available_lang</th>\n",
       "      <th>comments</th>\n",
       "      <th>duration</th>\n",
       "      <th>topics</th>\n",
       "      <th>related_talks</th>\n",
       "      <th>url</th>\n",
       "      <th>description</th>\n",
       "      <th>transcript</th>\n",
       "    </tr>\n",
       "  </thead>\n",
       "  <tbody>\n",
       "    <tr>\n",
       "      <th>0</th>\n",
       "      <td>1</td>\n",
       "      <td>Averting the climate crisis</td>\n",
       "      <td>Al Gore</td>\n",
       "      <td>{0: 'Al Gore'}</td>\n",
       "      <td>{0: ['climate advocate']}</td>\n",
       "      <td>{0: 'Nobel Laureate Al Gore focused the world’...</td>\n",
       "      <td>3523392</td>\n",
       "      <td>2006-02-25</td>\n",
       "      <td>2006-06-27</td>\n",
       "      <td>TED2006</td>\n",
       "      <td>en</td>\n",
       "      <td>['ar', 'bg', 'cs', 'de', 'el', 'en', 'es', 'fa...</td>\n",
       "      <td>272.0</td>\n",
       "      <td>977</td>\n",
       "      <td>['alternative energy', 'cars', 'climate change...</td>\n",
       "      <td>{243: 'New thinking on the climate crisis', 54...</td>\n",
       "      <td>https://www.ted.com/talks/al_gore_averting_the...</td>\n",
       "      <td>With the same humor and humanity he exuded in ...</td>\n",
       "      <td>Thank you so much, Chris. And it's truly a gre...</td>\n",
       "    </tr>\n",
       "    <tr>\n",
       "      <th>1</th>\n",
       "      <td>92</td>\n",
       "      <td>The best stats you've ever seen</td>\n",
       "      <td>Hans Rosling</td>\n",
       "      <td>{0: 'Hans Rosling'}</td>\n",
       "      <td>{0: ['global health expert; data visionary']}</td>\n",
       "      <td>{0: 'In Hans Rosling’s hands, data sings. Glob...</td>\n",
       "      <td>14501685</td>\n",
       "      <td>2006-02-22</td>\n",
       "      <td>2006-06-27</td>\n",
       "      <td>TED2006</td>\n",
       "      <td>en</td>\n",
       "      <td>['ar', 'az', 'bg', 'bn', 'bs', 'cs', 'da', 'de...</td>\n",
       "      <td>628.0</td>\n",
       "      <td>1190</td>\n",
       "      <td>['Africa', 'Asia', 'Google', 'demo', 'economic...</td>\n",
       "      <td>{2056: \"Own your body's data\", 2296: 'A visual...</td>\n",
       "      <td>https://www.ted.com/talks/hans_rosling_the_bes...</td>\n",
       "      <td>You've never seen data presented like this. Wi...</td>\n",
       "      <td>About 10 years ago, I took on the task to teac...</td>\n",
       "    </tr>\n",
       "    <tr>\n",
       "      <th>2</th>\n",
       "      <td>7</td>\n",
       "      <td>Simplicity sells</td>\n",
       "      <td>David Pogue</td>\n",
       "      <td>{0: 'David Pogue'}</td>\n",
       "      <td>{0: ['technology columnist']}</td>\n",
       "      <td>{0: 'David Pogue is the personal technology co...</td>\n",
       "      <td>1920832</td>\n",
       "      <td>2006-02-24</td>\n",
       "      <td>2006-06-27</td>\n",
       "      <td>TED2006</td>\n",
       "      <td>en</td>\n",
       "      <td>['ar', 'bg', 'de', 'el', 'en', 'es', 'fa', 'fr...</td>\n",
       "      <td>124.0</td>\n",
       "      <td>1286</td>\n",
       "      <td>['computers', 'entertainment', 'interface desi...</td>\n",
       "      <td>{1725: '10 top time-saving tech tips', 2274: '...</td>\n",
       "      <td>https://www.ted.com/talks/david_pogue_simplici...</td>\n",
       "      <td>New York Times columnist David Pogue takes aim...</td>\n",
       "      <td>(Music: \"The Sound of Silence,\" Simon &amp; Garfun...</td>\n",
       "    </tr>\n",
       "    <tr>\n",
       "      <th>3</th>\n",
       "      <td>53</td>\n",
       "      <td>Greening the ghetto</td>\n",
       "      <td>Majora Carter</td>\n",
       "      <td>{0: 'Majora Carter'}</td>\n",
       "      <td>{0: ['activist for environmental justice']}</td>\n",
       "      <td>{0: 'Majora Carter redefined the field of envi...</td>\n",
       "      <td>2664069</td>\n",
       "      <td>2006-02-26</td>\n",
       "      <td>2006-06-27</td>\n",
       "      <td>TED2006</td>\n",
       "      <td>en</td>\n",
       "      <td>['ar', 'bg', 'bn', 'ca', 'cs', 'de', 'en', 'es...</td>\n",
       "      <td>219.0</td>\n",
       "      <td>1116</td>\n",
       "      <td>['MacArthur grant', 'activism', 'business', 'c...</td>\n",
       "      <td>{1041: '3 stories of local eco-entrepreneurshi...</td>\n",
       "      <td>https://www.ted.com/talks/majora_carter_greeni...</td>\n",
       "      <td>In an emotionally charged talk, MacArthur-winn...</td>\n",
       "      <td>If you're here today — and I'm very happy that...</td>\n",
       "    </tr>\n",
       "    <tr>\n",
       "      <th>4</th>\n",
       "      <td>66</td>\n",
       "      <td>Do schools kill creativity?</td>\n",
       "      <td>Sir Ken Robinson</td>\n",
       "      <td>{0: 'Sir Ken Robinson'}</td>\n",
       "      <td>{0: ['author', 'educator']}</td>\n",
       "      <td>{0: \"Creativity expert Sir Ken Robinson challe...</td>\n",
       "      <td>65051954</td>\n",
       "      <td>2006-02-25</td>\n",
       "      <td>2006-06-27</td>\n",
       "      <td>TED2006</td>\n",
       "      <td>en</td>\n",
       "      <td>['af', 'ar', 'az', 'be', 'bg', 'bn', 'ca', 'cs...</td>\n",
       "      <td>4931.0</td>\n",
       "      <td>1164</td>\n",
       "      <td>['children', 'creativity', 'culture', 'dance',...</td>\n",
       "      <td>{865: 'Bring on the learning revolution!', 173...</td>\n",
       "      <td>https://www.ted.com/talks/sir_ken_robinson_do_...</td>\n",
       "      <td>Sir Ken Robinson makes an entertaining and pro...</td>\n",
       "      <td>Good morning. How are you? (Audience) Good. It...</td>\n",
       "    </tr>\n",
       "  </tbody>\n",
       "</table>\n",
       "</div>"
      ],
      "text/plain": [
       "   talk_id                            title         speaker_1  \\\n",
       "0        1      Averting the climate crisis           Al Gore   \n",
       "1       92  The best stats you've ever seen      Hans Rosling   \n",
       "2        7                 Simplicity sells       David Pogue   \n",
       "3       53              Greening the ghetto     Majora Carter   \n",
       "4       66      Do schools kill creativity?  Sir Ken Robinson   \n",
       "\n",
       "              all_speakers                                    occupations  \\\n",
       "0           {0: 'Al Gore'}                      {0: ['climate advocate']}   \n",
       "1      {0: 'Hans Rosling'}  {0: ['global health expert; data visionary']}   \n",
       "2       {0: 'David Pogue'}                  {0: ['technology columnist']}   \n",
       "3     {0: 'Majora Carter'}    {0: ['activist for environmental justice']}   \n",
       "4  {0: 'Sir Ken Robinson'}                    {0: ['author', 'educator']}   \n",
       "\n",
       "                                      about_speakers     views recorded_date  \\\n",
       "0  {0: 'Nobel Laureate Al Gore focused the world’...   3523392    2006-02-25   \n",
       "1  {0: 'In Hans Rosling’s hands, data sings. Glob...  14501685    2006-02-22   \n",
       "2  {0: 'David Pogue is the personal technology co...   1920832    2006-02-24   \n",
       "3  {0: 'Majora Carter redefined the field of envi...   2664069    2006-02-26   \n",
       "4  {0: \"Creativity expert Sir Ken Robinson challe...  65051954    2006-02-25   \n",
       "\n",
       "  published_date    event native_lang  \\\n",
       "0     2006-06-27  TED2006          en   \n",
       "1     2006-06-27  TED2006          en   \n",
       "2     2006-06-27  TED2006          en   \n",
       "3     2006-06-27  TED2006          en   \n",
       "4     2006-06-27  TED2006          en   \n",
       "\n",
       "                                      available_lang  comments  duration  \\\n",
       "0  ['ar', 'bg', 'cs', 'de', 'el', 'en', 'es', 'fa...     272.0       977   \n",
       "1  ['ar', 'az', 'bg', 'bn', 'bs', 'cs', 'da', 'de...     628.0      1190   \n",
       "2  ['ar', 'bg', 'de', 'el', 'en', 'es', 'fa', 'fr...     124.0      1286   \n",
       "3  ['ar', 'bg', 'bn', 'ca', 'cs', 'de', 'en', 'es...     219.0      1116   \n",
       "4  ['af', 'ar', 'az', 'be', 'bg', 'bn', 'ca', 'cs...    4931.0      1164   \n",
       "\n",
       "                                              topics  \\\n",
       "0  ['alternative energy', 'cars', 'climate change...   \n",
       "1  ['Africa', 'Asia', 'Google', 'demo', 'economic...   \n",
       "2  ['computers', 'entertainment', 'interface desi...   \n",
       "3  ['MacArthur grant', 'activism', 'business', 'c...   \n",
       "4  ['children', 'creativity', 'culture', 'dance',...   \n",
       "\n",
       "                                       related_talks  \\\n",
       "0  {243: 'New thinking on the climate crisis', 54...   \n",
       "1  {2056: \"Own your body's data\", 2296: 'A visual...   \n",
       "2  {1725: '10 top time-saving tech tips', 2274: '...   \n",
       "3  {1041: '3 stories of local eco-entrepreneurshi...   \n",
       "4  {865: 'Bring on the learning revolution!', 173...   \n",
       "\n",
       "                                                 url  \\\n",
       "0  https://www.ted.com/talks/al_gore_averting_the...   \n",
       "1  https://www.ted.com/talks/hans_rosling_the_bes...   \n",
       "2  https://www.ted.com/talks/david_pogue_simplici...   \n",
       "3  https://www.ted.com/talks/majora_carter_greeni...   \n",
       "4  https://www.ted.com/talks/sir_ken_robinson_do_...   \n",
       "\n",
       "                                         description  \\\n",
       "0  With the same humor and humanity he exuded in ...   \n",
       "1  You've never seen data presented like this. Wi...   \n",
       "2  New York Times columnist David Pogue takes aim...   \n",
       "3  In an emotionally charged talk, MacArthur-winn...   \n",
       "4  Sir Ken Robinson makes an entertaining and pro...   \n",
       "\n",
       "                                          transcript  \n",
       "0  Thank you so much, Chris. And it's truly a gre...  \n",
       "1  About 10 years ago, I took on the task to teac...  \n",
       "2  (Music: \"The Sound of Silence,\" Simon & Garfun...  \n",
       "3  If you're here today — and I'm very happy that...  \n",
       "4  Good morning. How are you? (Audience) Good. It...  "
      ]
     },
     "execution_count": 11,
     "metadata": {},
     "output_type": "execute_result"
    }
   ],
   "source": [
    "# Printing the dataset\n",
    "data.head()"
   ]
  },
  {
   "cell_type": "code",
   "execution_count": 12,
   "id": "09b41c14",
   "metadata": {},
   "outputs": [
    {
     "data": {
      "text/html": [
       "<div>\n",
       "<style scoped>\n",
       "    .dataframe tbody tr th:only-of-type {\n",
       "        vertical-align: middle;\n",
       "    }\n",
       "\n",
       "    .dataframe tbody tr th {\n",
       "        vertical-align: top;\n",
       "    }\n",
       "\n",
       "    .dataframe thead th {\n",
       "        text-align: right;\n",
       "    }\n",
       "</style>\n",
       "<table border=\"1\" class=\"dataframe\">\n",
       "  <thead>\n",
       "    <tr style=\"text-align: right;\">\n",
       "      <th></th>\n",
       "      <th>Name</th>\n",
       "      <th>dtypes</th>\n",
       "      <th>Missing</th>\n",
       "      <th>Uniques</th>\n",
       "      <th>First Value</th>\n",
       "      <th>Second Value</th>\n",
       "    </tr>\n",
       "  </thead>\n",
       "  <tbody>\n",
       "    <tr>\n",
       "      <th>12</th>\n",
       "      <td>comments</td>\n",
       "      <td>float64</td>\n",
       "      <td>655</td>\n",
       "      <td>601</td>\n",
       "      <td>272.0</td>\n",
       "      <td>628.0</td>\n",
       "    </tr>\n",
       "    <tr>\n",
       "      <th>4</th>\n",
       "      <td>occupations</td>\n",
       "      <td>object</td>\n",
       "      <td>522</td>\n",
       "      <td>2049</td>\n",
       "      <td>{0: ['climate advocate']}</td>\n",
       "      <td>{0: ['global health expert; data visionary']}</td>\n",
       "    </tr>\n",
       "    <tr>\n",
       "      <th>5</th>\n",
       "      <td>about_speakers</td>\n",
       "      <td>object</td>\n",
       "      <td>503</td>\n",
       "      <td>2977</td>\n",
       "      <td>{0: 'Nobel Laureate Al Gore focused the world’...</td>\n",
       "      <td>{0: 'In Hans Rosling’s hands, data sings. Glob...</td>\n",
       "    </tr>\n",
       "    <tr>\n",
       "      <th>3</th>\n",
       "      <td>all_speakers</td>\n",
       "      <td>object</td>\n",
       "      <td>4</td>\n",
       "      <td>3306</td>\n",
       "      <td>{0: 'Al Gore'}</td>\n",
       "      <td>{0: 'Hans Rosling'}</td>\n",
       "    </tr>\n",
       "    <tr>\n",
       "      <th>7</th>\n",
       "      <td>recorded_date</td>\n",
       "      <td>object</td>\n",
       "      <td>1</td>\n",
       "      <td>1334</td>\n",
       "      <td>2006-02-25</td>\n",
       "      <td>2006-02-22</td>\n",
       "    </tr>\n",
       "    <tr>\n",
       "      <th>0</th>\n",
       "      <td>talk_id</td>\n",
       "      <td>int64</td>\n",
       "      <td>0</td>\n",
       "      <td>4005</td>\n",
       "      <td>1</td>\n",
       "      <td>92</td>\n",
       "    </tr>\n",
       "    <tr>\n",
       "      <th>17</th>\n",
       "      <td>description</td>\n",
       "      <td>object</td>\n",
       "      <td>0</td>\n",
       "      <td>4005</td>\n",
       "      <td>With the same humor and humanity he exuded in ...</td>\n",
       "      <td>You've never seen data presented like this. Wi...</td>\n",
       "    </tr>\n",
       "    <tr>\n",
       "      <th>16</th>\n",
       "      <td>url</td>\n",
       "      <td>object</td>\n",
       "      <td>0</td>\n",
       "      <td>4005</td>\n",
       "      <td>https://www.ted.com/talks/al_gore_averting_the...</td>\n",
       "      <td>https://www.ted.com/talks/hans_rosling_the_bes...</td>\n",
       "    </tr>\n",
       "    <tr>\n",
       "      <th>15</th>\n",
       "      <td>related_talks</td>\n",
       "      <td>object</td>\n",
       "      <td>0</td>\n",
       "      <td>4005</td>\n",
       "      <td>{243: 'New thinking on the climate crisis', 54...</td>\n",
       "      <td>{2056: \"Own your body's data\", 2296: 'A visual...</td>\n",
       "    </tr>\n",
       "    <tr>\n",
       "      <th>14</th>\n",
       "      <td>topics</td>\n",
       "      <td>object</td>\n",
       "      <td>0</td>\n",
       "      <td>3977</td>\n",
       "      <td>['alternative energy', 'cars', 'climate change...</td>\n",
       "      <td>['Africa', 'Asia', 'Google', 'demo', 'economic...</td>\n",
       "    </tr>\n",
       "    <tr>\n",
       "      <th>13</th>\n",
       "      <td>duration</td>\n",
       "      <td>int64</td>\n",
       "      <td>0</td>\n",
       "      <td>1188</td>\n",
       "      <td>977</td>\n",
       "      <td>1190</td>\n",
       "    </tr>\n",
       "    <tr>\n",
       "      <th>9</th>\n",
       "      <td>event</td>\n",
       "      <td>object</td>\n",
       "      <td>0</td>\n",
       "      <td>459</td>\n",
       "      <td>TED2006</td>\n",
       "      <td>TED2006</td>\n",
       "    </tr>\n",
       "    <tr>\n",
       "      <th>11</th>\n",
       "      <td>available_lang</td>\n",
       "      <td>object</td>\n",
       "      <td>0</td>\n",
       "      <td>3902</td>\n",
       "      <td>['ar', 'bg', 'cs', 'de', 'el', 'en', 'es', 'fa...</td>\n",
       "      <td>['ar', 'az', 'bg', 'bn', 'bs', 'cs', 'da', 'de...</td>\n",
       "    </tr>\n",
       "    <tr>\n",
       "      <th>10</th>\n",
       "      <td>native_lang</td>\n",
       "      <td>object</td>\n",
       "      <td>0</td>\n",
       "      <td>12</td>\n",
       "      <td>en</td>\n",
       "      <td>en</td>\n",
       "    </tr>\n",
       "    <tr>\n",
       "      <th>1</th>\n",
       "      <td>title</td>\n",
       "      <td>object</td>\n",
       "      <td>0</td>\n",
       "      <td>4005</td>\n",
       "      <td>Averting the climate crisis</td>\n",
       "      <td>The best stats you've ever seen</td>\n",
       "    </tr>\n",
       "    <tr>\n",
       "      <th>8</th>\n",
       "      <td>published_date</td>\n",
       "      <td>object</td>\n",
       "      <td>0</td>\n",
       "      <td>2962</td>\n",
       "      <td>2006-06-27</td>\n",
       "      <td>2006-06-27</td>\n",
       "    </tr>\n",
       "    <tr>\n",
       "      <th>6</th>\n",
       "      <td>views</td>\n",
       "      <td>int64</td>\n",
       "      <td>0</td>\n",
       "      <td>3996</td>\n",
       "      <td>3523392</td>\n",
       "      <td>14501685</td>\n",
       "    </tr>\n",
       "    <tr>\n",
       "      <th>2</th>\n",
       "      <td>speaker_1</td>\n",
       "      <td>object</td>\n",
       "      <td>0</td>\n",
       "      <td>3274</td>\n",
       "      <td>Al Gore</td>\n",
       "      <td>Hans Rosling</td>\n",
       "    </tr>\n",
       "    <tr>\n",
       "      <th>18</th>\n",
       "      <td>transcript</td>\n",
       "      <td>object</td>\n",
       "      <td>0</td>\n",
       "      <td>4005</td>\n",
       "      <td>Thank you so much, Chris. And it's truly a gre...</td>\n",
       "      <td>About 10 years ago, I took on the task to teac...</td>\n",
       "    </tr>\n",
       "  </tbody>\n",
       "</table>\n",
       "</div>"
      ],
      "text/plain": [
       "              Name   dtypes  Missing  Uniques  \\\n",
       "12        comments  float64      655      601   \n",
       "4      occupations   object      522     2049   \n",
       "5   about_speakers   object      503     2977   \n",
       "3     all_speakers   object        4     3306   \n",
       "7    recorded_date   object        1     1334   \n",
       "0          talk_id    int64        0     4005   \n",
       "17     description   object        0     4005   \n",
       "16             url   object        0     4005   \n",
       "15   related_talks   object        0     4005   \n",
       "14          topics   object        0     3977   \n",
       "13        duration    int64        0     1188   \n",
       "9            event   object        0      459   \n",
       "11  available_lang   object        0     3902   \n",
       "10     native_lang   object        0       12   \n",
       "1            title   object        0     4005   \n",
       "8   published_date   object        0     2962   \n",
       "6            views    int64        0     3996   \n",
       "2        speaker_1   object        0     3274   \n",
       "18      transcript   object        0     4005   \n",
       "\n",
       "                                          First Value  \\\n",
       "12                                              272.0   \n",
       "4                           {0: ['climate advocate']}   \n",
       "5   {0: 'Nobel Laureate Al Gore focused the world’...   \n",
       "3                                      {0: 'Al Gore'}   \n",
       "7                                          2006-02-25   \n",
       "0                                                   1   \n",
       "17  With the same humor and humanity he exuded in ...   \n",
       "16  https://www.ted.com/talks/al_gore_averting_the...   \n",
       "15  {243: 'New thinking on the climate crisis', 54...   \n",
       "14  ['alternative energy', 'cars', 'climate change...   \n",
       "13                                                977   \n",
       "9                                             TED2006   \n",
       "11  ['ar', 'bg', 'cs', 'de', 'el', 'en', 'es', 'fa...   \n",
       "10                                                 en   \n",
       "1                         Averting the climate crisis   \n",
       "8                                          2006-06-27   \n",
       "6                                             3523392   \n",
       "2                                             Al Gore   \n",
       "18  Thank you so much, Chris. And it's truly a gre...   \n",
       "\n",
       "                                         Second Value  \n",
       "12                                              628.0  \n",
       "4       {0: ['global health expert; data visionary']}  \n",
       "5   {0: 'In Hans Rosling’s hands, data sings. Glob...  \n",
       "3                                 {0: 'Hans Rosling'}  \n",
       "7                                          2006-02-22  \n",
       "0                                                  92  \n",
       "17  You've never seen data presented like this. Wi...  \n",
       "16  https://www.ted.com/talks/hans_rosling_the_bes...  \n",
       "15  {2056: \"Own your body's data\", 2296: 'A visual...  \n",
       "14  ['Africa', 'Asia', 'Google', 'demo', 'economic...  \n",
       "13                                               1190  \n",
       "9                                             TED2006  \n",
       "11  ['ar', 'az', 'bg', 'bn', 'bs', 'cs', 'da', 'de...  \n",
       "10                                                 en  \n",
       "1                     The best stats you've ever seen  \n",
       "8                                          2006-06-27  \n",
       "6                                            14501685  \n",
       "2                                        Hans Rosling  \n",
       "18  About 10 years ago, I took on the task to teac...  "
      ]
     },
     "execution_count": 12,
     "metadata": {},
     "output_type": "execute_result"
    }
   ],
   "source": [
    "# Summary about dataset\n",
    "result.sort_values('Missing', ascending= False)"
   ]
  },
  {
   "cell_type": "markdown",
   "id": "9bb282e9",
   "metadata": {},
   "source": [
    "This is the dataset summary where we have seen\n",
    "\n",
    "Dataset is loaded. So, let's go with EDA on features."
   ]
  },
  {
   "cell_type": "markdown",
   "id": "4a675d31",
   "metadata": {},
   "source": [
    "# Exploratory Data Analysis"
   ]
  },
  {
   "cell_type": "code",
   "execution_count": 13,
   "id": "3b28df9f",
   "metadata": {},
   "outputs": [
    {
     "data": {
      "text/plain": [
       "(4005, 19)"
      ]
     },
     "execution_count": 13,
     "metadata": {},
     "output_type": "execute_result"
    }
   ],
   "source": [
    "#printing the shape of the dataset.\n",
    "data.shape"
   ]
  },
  {
   "cell_type": "code",
   "execution_count": 14,
   "id": "69c4fffb",
   "metadata": {},
   "outputs": [],
   "source": [
    "dataset=data.copy()"
   ]
  },
  {
   "cell_type": "code",
   "execution_count": 15,
   "id": "f8513293",
   "metadata": {},
   "outputs": [
    {
     "data": {
      "text/plain": [
       "1.0"
      ]
     },
     "execution_count": 15,
     "metadata": {},
     "output_type": "execute_result"
    }
   ],
   "source": [
    "dataset['talk_id'].nunique()/(len(dataset))"
   ]
  },
  {
   "cell_type": "markdown",
   "id": "4f97c8ea",
   "metadata": {},
   "source": [
    "There are missing value in the data By looking at the info of the dataset we can get a rough idea on the numeric and the string columns By looking at the summary of the data we can infer the mean,standard deviation, min and max of the We will be able to get an idea about the outliers here by the percentiles"
   ]
  },
  {
   "cell_type": "code",
   "execution_count": 16,
   "id": "4c97e053",
   "metadata": {},
   "outputs": [
    {
     "data": {
      "text/html": [
       "<div>\n",
       "<style scoped>\n",
       "    .dataframe tbody tr th:only-of-type {\n",
       "        vertical-align: middle;\n",
       "    }\n",
       "\n",
       "    .dataframe tbody tr th {\n",
       "        vertical-align: top;\n",
       "    }\n",
       "\n",
       "    .dataframe thead th {\n",
       "        text-align: right;\n",
       "    }\n",
       "</style>\n",
       "<table border=\"1\" class=\"dataframe\">\n",
       "  <thead>\n",
       "    <tr style=\"text-align: right;\">\n",
       "      <th></th>\n",
       "      <th>count</th>\n",
       "      <th>mean</th>\n",
       "      <th>std</th>\n",
       "      <th>min</th>\n",
       "      <th>25%</th>\n",
       "      <th>50%</th>\n",
       "      <th>75%</th>\n",
       "      <th>95%</th>\n",
       "      <th>99%</th>\n",
       "      <th>max</th>\n",
       "    </tr>\n",
       "  </thead>\n",
       "  <tbody>\n",
       "    <tr>\n",
       "      <th>talk_id</th>\n",
       "      <td>4005.0</td>\n",
       "      <td>1.243254e+04</td>\n",
       "      <td>1.744758e+04</td>\n",
       "      <td>1.0</td>\n",
       "      <td>1252.0</td>\n",
       "      <td>2333.0</td>\n",
       "      <td>23777.0</td>\n",
       "      <td>52465.80</td>\n",
       "      <td>60751.60</td>\n",
       "      <td>62794.0</td>\n",
       "    </tr>\n",
       "    <tr>\n",
       "      <th>views</th>\n",
       "      <td>4005.0</td>\n",
       "      <td>2.148006e+06</td>\n",
       "      <td>3.451226e+06</td>\n",
       "      <td>0.0</td>\n",
       "      <td>882069.0</td>\n",
       "      <td>1375508.0</td>\n",
       "      <td>2133110.0</td>\n",
       "      <td>6182301.40</td>\n",
       "      <td>16299833.68</td>\n",
       "      <td>65051954.0</td>\n",
       "    </tr>\n",
       "    <tr>\n",
       "      <th>comments</th>\n",
       "      <td>3350.0</td>\n",
       "      <td>1.619970e+02</td>\n",
       "      <td>2.688389e+02</td>\n",
       "      <td>0.0</td>\n",
       "      <td>38.0</td>\n",
       "      <td>89.0</td>\n",
       "      <td>188.0</td>\n",
       "      <td>531.65</td>\n",
       "      <td>1038.73</td>\n",
       "      <td>6449.0</td>\n",
       "    </tr>\n",
       "    <tr>\n",
       "      <th>duration</th>\n",
       "      <td>4005.0</td>\n",
       "      <td>7.240112e+02</td>\n",
       "      <td>3.617755e+02</td>\n",
       "      <td>60.0</td>\n",
       "      <td>393.0</td>\n",
       "      <td>738.0</td>\n",
       "      <td>974.0</td>\n",
       "      <td>1230.80</td>\n",
       "      <td>1601.12</td>\n",
       "      <td>3922.0</td>\n",
       "    </tr>\n",
       "  </tbody>\n",
       "</table>\n",
       "</div>"
      ],
      "text/plain": [
       "           count          mean           std   min       25%        50%  \\\n",
       "talk_id   4005.0  1.243254e+04  1.744758e+04   1.0    1252.0     2333.0   \n",
       "views     4005.0  2.148006e+06  3.451226e+06   0.0  882069.0  1375508.0   \n",
       "comments  3350.0  1.619970e+02  2.688389e+02   0.0      38.0       89.0   \n",
       "duration  4005.0  7.240112e+02  3.617755e+02  60.0     393.0      738.0   \n",
       "\n",
       "                75%         95%          99%         max  \n",
       "talk_id     23777.0    52465.80     60751.60     62794.0  \n",
       "views     2133110.0  6182301.40  16299833.68  65051954.0  \n",
       "comments      188.0      531.65      1038.73      6449.0  \n",
       "duration      974.0     1230.80      1601.12      3922.0  "
      ]
     },
     "execution_count": 16,
     "metadata": {},
     "output_type": "execute_result"
    }
   ],
   "source": [
    "dataset.describe(percentiles = [.25,.50,.75,.95,.99]).T"
   ]
  },
  {
   "cell_type": "markdown",
   "id": "55a6baed",
   "metadata": {},
   "source": [
    "Returns 25th, 50th , 75th, 95th, 99th percentile"
   ]
  },
  {
   "cell_type": "code",
   "execution_count": 17,
   "id": "c4f04897",
   "metadata": {},
   "outputs": [
    {
     "data": {
      "text/html": [
       "<div>\n",
       "<style scoped>\n",
       "    .dataframe tbody tr th:only-of-type {\n",
       "        vertical-align: middle;\n",
       "    }\n",
       "\n",
       "    .dataframe tbody tr th {\n",
       "        vertical-align: top;\n",
       "    }\n",
       "\n",
       "    .dataframe thead th {\n",
       "        text-align: right;\n",
       "    }\n",
       "</style>\n",
       "<table border=\"1\" class=\"dataframe\">\n",
       "  <thead>\n",
       "    <tr style=\"text-align: right;\">\n",
       "      <th></th>\n",
       "      <th>count</th>\n",
       "      <th>unique</th>\n",
       "      <th>top</th>\n",
       "      <th>freq</th>\n",
       "    </tr>\n",
       "  </thead>\n",
       "  <tbody>\n",
       "    <tr>\n",
       "      <th>title</th>\n",
       "      <td>4005</td>\n",
       "      <td>4005</td>\n",
       "      <td>Averting the climate crisis</td>\n",
       "      <td>1</td>\n",
       "    </tr>\n",
       "    <tr>\n",
       "      <th>speaker_1</th>\n",
       "      <td>4005</td>\n",
       "      <td>3274</td>\n",
       "      <td>Alex Gendler</td>\n",
       "      <td>34</td>\n",
       "    </tr>\n",
       "    <tr>\n",
       "      <th>all_speakers</th>\n",
       "      <td>4001</td>\n",
       "      <td>3306</td>\n",
       "      <td>{0: 'Alex Gendler'}</td>\n",
       "      <td>34</td>\n",
       "    </tr>\n",
       "    <tr>\n",
       "      <th>occupations</th>\n",
       "      <td>3483</td>\n",
       "      <td>2049</td>\n",
       "      <td>{0: ['writer']}</td>\n",
       "      <td>53</td>\n",
       "    </tr>\n",
       "    <tr>\n",
       "      <th>about_speakers</th>\n",
       "      <td>3502</td>\n",
       "      <td>2977</td>\n",
       "      <td>{0: 'Alex Rosenthal takes everyday experiences...</td>\n",
       "      <td>10</td>\n",
       "    </tr>\n",
       "    <tr>\n",
       "      <th>recorded_date</th>\n",
       "      <td>4004</td>\n",
       "      <td>1334</td>\n",
       "      <td>2017-04-24</td>\n",
       "      <td>97</td>\n",
       "    </tr>\n",
       "    <tr>\n",
       "      <th>published_date</th>\n",
       "      <td>4005</td>\n",
       "      <td>2962</td>\n",
       "      <td>2017-09-07</td>\n",
       "      <td>27</td>\n",
       "    </tr>\n",
       "    <tr>\n",
       "      <th>event</th>\n",
       "      <td>4005</td>\n",
       "      <td>459</td>\n",
       "      <td>TED-Ed</td>\n",
       "      <td>556</td>\n",
       "    </tr>\n",
       "    <tr>\n",
       "      <th>native_lang</th>\n",
       "      <td>4005</td>\n",
       "      <td>12</td>\n",
       "      <td>en</td>\n",
       "      <td>3957</td>\n",
       "    </tr>\n",
       "    <tr>\n",
       "      <th>available_lang</th>\n",
       "      <td>4005</td>\n",
       "      <td>3902</td>\n",
       "      <td>['en']</td>\n",
       "      <td>24</td>\n",
       "    </tr>\n",
       "    <tr>\n",
       "      <th>topics</th>\n",
       "      <td>4005</td>\n",
       "      <td>3977</td>\n",
       "      <td>['TED-Ed', 'math']</td>\n",
       "      <td>8</td>\n",
       "    </tr>\n",
       "    <tr>\n",
       "      <th>related_talks</th>\n",
       "      <td>4005</td>\n",
       "      <td>4005</td>\n",
       "      <td>{243: 'New thinking on the climate crisis', 54...</td>\n",
       "      <td>1</td>\n",
       "    </tr>\n",
       "    <tr>\n",
       "      <th>url</th>\n",
       "      <td>4005</td>\n",
       "      <td>4005</td>\n",
       "      <td>https://www.ted.com/talks/al_gore_averting_the...</td>\n",
       "      <td>1</td>\n",
       "    </tr>\n",
       "    <tr>\n",
       "      <th>description</th>\n",
       "      <td>4005</td>\n",
       "      <td>4005</td>\n",
       "      <td>With the same humor and humanity he exuded in ...</td>\n",
       "      <td>1</td>\n",
       "    </tr>\n",
       "    <tr>\n",
       "      <th>transcript</th>\n",
       "      <td>4005</td>\n",
       "      <td>4005</td>\n",
       "      <td>Thank you so much, Chris. And it's truly a gre...</td>\n",
       "      <td>1</td>\n",
       "    </tr>\n",
       "  </tbody>\n",
       "</table>\n",
       "</div>"
      ],
      "text/plain": [
       "               count unique  \\\n",
       "title           4005   4005   \n",
       "speaker_1       4005   3274   \n",
       "all_speakers    4001   3306   \n",
       "occupations     3483   2049   \n",
       "about_speakers  3502   2977   \n",
       "recorded_date   4004   1334   \n",
       "published_date  4005   2962   \n",
       "event           4005    459   \n",
       "native_lang     4005     12   \n",
       "available_lang  4005   3902   \n",
       "topics          4005   3977   \n",
       "related_talks   4005   4005   \n",
       "url             4005   4005   \n",
       "description     4005   4005   \n",
       "transcript      4005   4005   \n",
       "\n",
       "                                                              top  freq  \n",
       "title                                 Averting the climate crisis     1  \n",
       "speaker_1                                            Alex Gendler    34  \n",
       "all_speakers                                  {0: 'Alex Gendler'}    34  \n",
       "occupations                                       {0: ['writer']}    53  \n",
       "about_speakers  {0: 'Alex Rosenthal takes everyday experiences...    10  \n",
       "recorded_date                                          2017-04-24    97  \n",
       "published_date                                         2017-09-07    27  \n",
       "event                                                      TED-Ed   556  \n",
       "native_lang                                                    en  3957  \n",
       "available_lang                                             ['en']    24  \n",
       "topics                                         ['TED-Ed', 'math']     8  \n",
       "related_talks   {243: 'New thinking on the climate crisis', 54...     1  \n",
       "url             https://www.ted.com/talks/al_gore_averting_the...     1  \n",
       "description     With the same humor and humanity he exuded in ...     1  \n",
       "transcript      Thank you so much, Chris. And it's truly a gre...     1  "
      ]
     },
     "execution_count": 17,
     "metadata": {},
     "output_type": "execute_result"
    }
   ],
   "source": [
    "dataset.describe(include='object').T"
   ]
  },
  {
   "cell_type": "markdown",
   "id": "96c9632c",
   "metadata": {},
   "source": [
    "In order to study the dataset more accurately, we use dataframe.T(transpose) property.\n",
    "It returns Transposed Data Frame"
   ]
  },
  {
   "cell_type": "markdown",
   "id": "217a8c9e",
   "metadata": {},
   "source": [
    "# Visualization"
   ]
  },
  {
   "cell_type": "markdown",
   "id": "cf607e4d",
   "metadata": {},
   "source": [
    "distplot = It is used basically for univariant set of observations and visualizes it through a histogram i.e. only one observation and hence we choose one particular column of the dataset"
   ]
  },
  {
   "cell_type": "code",
   "execution_count": 18,
   "id": "7dde1926",
   "metadata": {},
   "outputs": [
    {
     "data": {
      "text/plain": [
       "<AxesSubplot:xlabel='views', ylabel='Density'>"
      ]
     },
     "execution_count": 18,
     "metadata": {},
     "output_type": "execute_result"
    },
    {
     "data": {
      "image/png": "[encoded data removed]",
      "text/plain": [
       "<Figure size 1080x360 with 1 Axes>"
      ]
     },
     "metadata": {
      "needs_background": "light"
     },
     "output_type": "display_data"
    }
   ],
   "source": [
    "#visualizing the distplot of views:\n",
    "plt.figure(figsize=(15,5))\n",
    "sns.distplot(data['views'])"
   ]
  },
  {
   "cell_type": "markdown",
   "id": "f82f7bc9",
   "metadata": {},
   "source": [
    "Normally Distributed: In this, the skewness is always equated to zero.\n",
    "       Skewness=0\n",
    "       \n",
    "Positively skewed distribution: In this, A Positively-skewed distribution has a long right tail, that’s why this is also known as right-skewed distribution. the reason behind it, in this value of mode is highest and mean is least which leads to right peak.\n",
    "        Skessness >o\n",
    "        \n",
    "        \n",
    "        \n",
    "\n",
    "Negatively skewed distribution: In this, a negatively skewed distribution has a long left tail, that’s why this is also known as left-skewed distribution. the reason behind it, in this value of mode is least and mean is highest just reverse to right-skewed which leads to the left peak.\n",
    "                Skewness<0\n",
    "\n",
    "\n",
    "\n",
    "\n",
    "# As shown from the graph 'views' feature is positively skewed."
   ]
  },
  {
   "cell_type": "markdown",
   "id": "b83a1757",
   "metadata": {},
   "source": [
    "distplot = It is used basically for univariant set of observations and visualizes it through a histogram i.e. only one observation and hence we choose one particular column of the dataset"
   ]
  },
  {
   "cell_type": "code",
   "execution_count": 19,
   "id": "0c394a61",
   "metadata": {},
   "outputs": [
    {
     "data": {
      "text/plain": [
       "<AxesSubplot:xlabel='duration', ylabel='Density'>"
      ]
     },
     "execution_count": 19,
     "metadata": {},
     "output_type": "execute_result"
    },
    {
     "data": {
      "image/png": "[encoded data removed]",
      "text/plain": [
       "<Figure size 720x360 with 1 Axes>"
      ]
     },
     "metadata": {
      "needs_background": "light"
     },
     "output_type": "display_data"
    }
   ],
   "source": [
    "#visualization of duration\n",
    "plt.figure(figsize=(10,5))\n",
    "sns.distplot(data['duration'])"
   ]
  },
  {
   "cell_type": "code",
   "execution_count": 20,
   "id": "76cb8eb1",
   "metadata": {},
   "outputs": [
    {
     "data": {
      "text/plain": [
       "<AxesSubplot:xlabel='comments', ylabel='Density'>"
      ]
     },
     "execution_count": 20,
     "metadata": {},
     "output_type": "execute_result"
    },
    {
     "data": {
      "image/png": "[encoded data removed]",
      "text/plain": [
       "<Figure size 720x360 with 1 Axes>"
      ]
     },
     "metadata": {
      "needs_background": "light"
     },
     "output_type": "display_data"
    }
   ],
   "source": [
    "##visualization of the comments\n",
    "plt.figure(figsize=(10,5))\n",
    "sns.distplot(data['comments'])"
   ]
  },
  {
   "cell_type": "markdown",
   "id": "893af8e7",
   "metadata": {},
   "source": [
    "# Data Preprocessing and Feature Engineering"
   ]
  },
  {
   "cell_type": "markdown",
   "id": "78f51141",
   "metadata": {},
   "source": [
    "Feature engineering is an informal topic, but one that is absolutely known and agreed to be key to success in applied machine learning."
   ]
  },
  {
   "cell_type": "markdown",
   "id": "74d5929b",
   "metadata": {},
   "source": [
    "# Adding a daily views column for further analysis:\n",
    "# Formatting Datetime type:"
   ]
  },
  {
   "cell_type": "code",
   "execution_count": 21,
   "id": "93119549",
   "metadata": {},
   "outputs": [
    {
     "data": {
      "text/plain": [
       "'2022-10-11'"
      ]
     },
     "execution_count": 21,
     "metadata": {},
     "output_type": "execute_result"
    }
   ],
   "source": [
    "# importing Datetime\n",
    "from datetime import datetime\n",
    "import calendar\n",
    "# Setting the Datetime formate: \n",
    "today = datetime.now()\n",
    "today.strftime('%Y-%m-%d')"
   ]
  },
  {
   "cell_type": "code",
   "execution_count": 22,
   "id": "97eef036",
   "metadata": {},
   "outputs": [],
   "source": [
    "# Recorded date fromate:\n",
    "data['recorded_date']= pd.to_datetime(data['recorded_date'])\n",
    "# Formating the published date time:\n",
    "data['published_date']= pd.to_datetime(data['published_date'])\n",
    "\n",
    "# Period of day's talk has been published:\n",
    "last_publishing_date = data['published_date'].max()\n",
    "\n",
    "data['time_since_published'] = last_publishing_date - pd.DatetimeIndex(data['published_date'])"
   ]
  },
  {
   "cell_type": "code",
   "execution_count": 23,
   "id": "48a84abc",
   "metadata": {},
   "outputs": [],
   "source": [
    "month_order = ['Jan', 'Feb', 'Mar', 'Apr', 'May', 'Jun', 'Jul', 'Aug', 'Sep', 'Oct', 'Nov', 'Dec']\n",
    "day_order   = ['Mon', 'Tue', 'Wed', 'Thu', 'Fri', 'Sat', 'Sun']"
   ]
  },
  {
   "cell_type": "code",
   "execution_count": 24,
   "id": "8caef647",
   "metadata": {},
   "outputs": [],
   "source": [
    "import datetime\n",
    "data['month'] = pd.DatetimeIndex(data['published_date']).month\n",
    "data['month'] = data['month'].apply(lambda x: calendar.month_abbr[x])\n",
    "data['year'] = pd.DatetimeIndex(data['published_date']).year\n",
    "data['day'] = pd.DatetimeIndex(data['published_date']).day\n",
    "data['week_day']= data['published_date'].apply(lambda x: day_order[datetime.date(x.year, x.month, x.day).weekday()])"
   ]
  },
  {
   "cell_type": "markdown",
   "id": "b4c127c3",
   "metadata": {},
   "source": [
    "# Creating daily views column:"
   ]
  },
  {
   "cell_type": "code",
   "execution_count": 25,
   "id": "a97b6204",
   "metadata": {},
   "outputs": [],
   "source": [
    "# Daily views/Talk:\n",
    "data['daily_views'] = data['views'] / ( data['time_since_published'].apply(lambda x : x.days) + 1 )"
   ]
  },
  {
   "cell_type": "markdown",
   "id": "875ea233",
   "metadata": {},
   "source": [
    "# Categarising Variable types:\n",
    "data_categorical= data[['title', 'speaker_1', 'all_speakers', 'occupations', 'about_speakers', 'native_lang', 'available_lang', 'comments', 'topics', 'related_talks', 'url', 'description', 'transcript']] data_numerical= data[['talk_id','views', 'duration']]\n",
    "\n",
    "data_target_variable= data[['views']]"
   ]
  },
  {
   "cell_type": "markdown",
   "id": "8132bce1",
   "metadata": {},
   "source": [
    "# Bivariate Analysis of different features vs. target variable:\n",
    "Speaker_1 vs. daily_views:"
   ]
  },
  {
   "cell_type": "code",
   "execution_count": 26,
   "id": "8035beb0",
   "metadata": {},
   "outputs": [
    {
     "data": {
      "image/png": "[encoded data removed]",
      "text/plain": [
       "<Figure size 576x432 with 1 Axes>"
      ]
     },
     "metadata": {
      "needs_background": "light"
     },
     "output_type": "display_data"
    }
   ],
   "source": [
    "#top 25 speakers\n",
    "temp=data.groupby(['speaker_1'],as_index=False)['daily_views'].sum().sort_values('daily_views',ascending=False)[:5]\n",
    "plt.figure(figsize=(8,6))\n",
    "ax=sns.barplot(x='speaker_1', y='daily_views',data=temp)\n",
    "plt.setp(ax.get_xticklabels(), rotation=50);\n",
    "plt.title('Top 5 speaker according to daily_views')\n",
    "ax.grid(False)"
   ]
  },
  {
   "cell_type": "markdown",
   "id": "41e6003d",
   "metadata": {},
   "source": [
    "Relationship between the columns speaker_1 and daily_views to calculate top 5 speakers"
   ]
  },
  {
   "cell_type": "markdown",
   "id": "27854c35",
   "metadata": {},
   "source": [
    "speaker vs. talks delivered:"
   ]
  },
  {
   "cell_type": "code",
   "execution_count": 27,
   "id": "f57119c2",
   "metadata": {
    "scrolled": true
   },
   "outputs": [
    {
     "data": {
      "text/plain": [
       "<AxesSubplot:xlabel='Speaker_name', ylabel='talks_delivered'>"
      ]
     },
     "execution_count": 27,
     "metadata": {},
     "output_type": "execute_result"
    },
    {
     "data": {
      "image/png": "[encoded data removed]",
      "text/plain": [
       "<Figure size 720x432 with 1 Axes>"
      ]
     },
     "metadata": {
      "needs_background": "light"
     },
     "output_type": "display_data"
    }
   ],
   "source": [
    "# Speaker vs. talks delivered:\n",
    "speaker_count = data['speaker_1'].value_counts().to_frame()\n",
    "data_speaker_count = pd.DataFrame(speaker_count)\n",
    "data_speaker_count = data_speaker_count.reset_index()\n",
    "data_speaker_count.columns = ['Speaker_name', 'talks_delivered']\n",
    "most_talks = data_speaker_count.nlargest(5, 'talks_delivered')\n",
    "plt.figure(figsize=(10,6))\n",
    "sns.barplot(x = 'Speaker_name', y = 'talks_delivered', data = most_talks)"
   ]
  },
  {
   "cell_type": "markdown",
   "id": "230238d4",
   "metadata": {},
   "source": [
    "Replationship between the  columns Speaker_name and talks_delivered to calculate who delivered most talks"
   ]
  },
  {
   "cell_type": "markdown",
   "id": "f870d889",
   "metadata": {},
   "source": [
    "speaker vs. duration"
   ]
  },
  {
   "cell_type": "code",
   "execution_count": 28,
   "id": "cdab88b3",
   "metadata": {},
   "outputs": [
    {
     "data": {
      "image/png": "[encoded data removed]",
      "text/plain": [
       "<Figure size 1080x432 with 1 Axes>"
      ]
     },
     "metadata": {
      "needs_background": "light"
     },
     "output_type": "display_data"
    }
   ],
   "source": [
    "temp=data.groupby(['speaker_1'],as_index=False)['duration'].sum().sort_values('duration',ascending=False)[:25]\n",
    "temp=data.groupby(['speaker_1'],as_index=False).agg({'duration':'sum','talk_id':'count'}).sort_values('duration',ascending=False).reset_index()[:8]\n",
    "temp['talk_id']=temp['duration']/temp['talk_id']\n",
    "plt.figure(figsize=(15,6))\n",
    "ax=sns.barplot(x='speaker_1',y='duration',data=temp)\n",
    "labels=ax.get_xticklabels()\n",
    "plt.setp(labels, rotation=70);"
   ]
  },
  {
   "cell_type": "markdown",
   "id": "c83e90ba",
   "metadata": {},
   "source": [
    "Relationship between the columns Speaker_1 and talk_id to calculate the talk duration of the speakers"
   ]
  },
  {
   "cell_type": "markdown",
   "id": "c56e0fcd",
   "metadata": {},
   "source": [
    "speaker1 vs. comments"
   ]
  },
  {
   "cell_type": "code",
   "execution_count": 29,
   "id": "c5bf1d0b",
   "metadata": {},
   "outputs": [
    {
     "data": {
      "text/plain": [
       "Text(0.5, 1.0, 'Most popular speaker according to views')"
      ]
     },
     "execution_count": 29,
     "metadata": {},
     "output_type": "execute_result"
    },
    {
     "data": {
      "image/png": "[encoded data removed]",
      "text/plain": [
       "<Figure size 720x432 with 1 Axes>"
      ]
     },
     "metadata": {
      "needs_background": "light"
     },
     "output_type": "display_data"
    }
   ],
   "source": [
    "temp=data.groupby(['speaker_1'],as_index=False)['comments'].sum().sort_values('comments',ascending=False)[:5]\n",
    "plt.figure(figsize=(10,6))\n",
    "ax=sns.barplot(x='speaker_1',y='comments',data=temp);\n",
    "plt.setp(ax.get_xticklabels(), rotation=90);\n",
    "plt.title('Most popular speaker according to views')"
   ]
  },
  {
   "cell_type": "markdown",
   "id": "40cc5f82",
   "metadata": {},
   "source": [
    "Relationship between the columns speaker_1 and comments to calculate the most popular speaker according to the views"
   ]
  },
  {
   "cell_type": "markdown",
   "id": "2d4f5dbb",
   "metadata": {},
   "source": [
    "Speaker most popular video"
   ]
  },
  {
   "cell_type": "code",
   "execution_count": 30,
   "id": "b3e649b8",
   "metadata": {},
   "outputs": [
    {
     "data": {
      "image/png": "[encoded data removed]",
      "text/plain": [
       "<Figure size 576x432 with 1 Axes>"
      ]
     },
     "metadata": {
      "needs_background": "light"
     },
     "output_type": "display_data"
    }
   ],
   "source": [
    "# Speaker most popular video\n",
    "temp=data[['speaker_1','views']].sort_values('views',ascending=False)[:5]\n",
    "plt.figure(figsize=(8,6))\n",
    "ax=sns.barplot(x='speaker_1',y='views',data=temp)\n",
    "plt.setp(ax.get_xticklabels(), rotation=60);\n",
    "plt.title('Speaker_1 with most popular video')\n",
    "plt.ylabel('Avg views in ten millions')\n",
    "ax.grid(False)"
   ]
  },
  {
   "cell_type": "markdown",
   "id": "a9fcd7b1",
   "metadata": {},
   "source": [
    "Figuring out the most popular video of the speaker by sorting the views "
   ]
  },
  {
   "cell_type": "markdown",
   "id": "fc35cbb8",
   "metadata": {},
   "source": [
    "# Applying target encoding on speaker1"
   ]
  },
  {
   "cell_type": "code",
   "execution_count": 31,
   "id": "411acd25",
   "metadata": {},
   "outputs": [],
   "source": [
    "speaker=data.groupby('speaker_1').agg({'daily_views' : 'mean'}).sort_values(['daily_views'],ascending=False)\n",
    "speaker=speaker.to_dict()\n",
    "speaker=speaker.values()\n",
    "speaker=  list(speaker)[0]\n",
    "data['speaker_1_avg_views']=data['speaker_1'].map(speaker)"
   ]
  },
  {
   "cell_type": "markdown",
   "id": "cafe83a8",
   "metadata": {},
   "source": [
    "Relationship between speaker_1 and daily_views to get the average views of the ted talk speakers"
   ]
  },
  {
   "cell_type": "markdown",
   "id": "4714ef83",
   "metadata": {},
   "source": [
    "# plot of speaker_1_avg_views:"
   ]
  },
  {
   "cell_type": "code",
   "execution_count": 32,
   "id": "739ba462",
   "metadata": {},
   "outputs": [
    {
     "data": {
      "text/plain": [
       "<AxesSubplot:xlabel='speaker_1_avg_views', ylabel='Density'>"
      ]
     },
     "execution_count": 32,
     "metadata": {},
     "output_type": "execute_result"
    },
    {
     "data": {
      "image/png": "[encoded data removed]",
      "text/plain": [
       "<Figure size 720x360 with 1 Axes>"
      ]
     },
     "metadata": {
      "needs_background": "light"
     },
     "output_type": "display_data"
    }
   ],
   "source": [
    "plt.figure(figsize=(10,5))\n",
    "sns.distplot(data['speaker_1_avg_views'])"
   ]
  },
  {
   "cell_type": "markdown",
   "id": "343d70fb",
   "metadata": {},
   "source": [
    "# Event"
   ]
  },
  {
   "cell_type": "markdown",
   "id": "b998ccd5",
   "metadata": {},
   "source": [
    "As event is also a categorical feature, we have done target encoding on it:\n",
    "1. List item\n",
    "2. List item"
   ]
  },
  {
   "cell_type": "code",
   "execution_count": 33,
   "id": "60db7c67",
   "metadata": {},
   "outputs": [],
   "source": [
    "event=data.groupby('event').agg({'daily_views' : 'mean'}).sort_values(['daily_views'],ascending=False)\n",
    "event=event.to_dict()\n",
    "event=event.values()\n",
    "event=  list(event)[0]\n",
    "data['event_wise_avg_views']=data['event'].map(event)"
   ]
  },
  {
   "cell_type": "markdown",
   "id": "3bff7e70",
   "metadata": {},
   "source": [
    "Figuring out the average views of ted talks eventwise"
   ]
  },
  {
   "cell_type": "markdown",
   "id": "e95881e0",
   "metadata": {},
   "source": [
    "# Plot of event_wise_avg_views "
   ]
  },
  {
   "cell_type": "code",
   "execution_count": 34,
   "id": "22c5a8c4",
   "metadata": {},
   "outputs": [
    {
     "data": {
      "text/plain": [
       "<AxesSubplot:xlabel='event_wise_avg_views', ylabel='Density'>"
      ]
     },
     "execution_count": 34,
     "metadata": {},
     "output_type": "execute_result"
    },
    {
     "data": {
      "image/png": "[encoded data removed]",
      "text/plain": [
       "<Figure size 720x360 with 1 Axes>"
      ]
     },
     "metadata": {
      "needs_background": "light"
     },
     "output_type": "display_data"
    }
   ],
   "source": [
    "plt.figure(figsize=(10,5))\n",
    "sns.distplot(data['event_wise_avg_views'])"
   ]
  },
  {
   "cell_type": "code",
   "execution_count": 35,
   "id": "217ff5ac",
   "metadata": {},
   "outputs": [
    {
     "data": {
      "image/png": "[encoded data removed]",
      "text/plain": [
       "<Figure size 720x432 with 1 Axes>"
      ]
     },
     "metadata": {
      "needs_background": "light"
     },
     "output_type": "display_data"
    }
   ],
   "source": [
    "temp=data.groupby(['event','year'],as_index=False).agg({'daily_views':'sum','talk_id':'count'}).sort_values('daily_views',ascending=False).reset_index()[:8]\n",
    "temp['talk_id']=temp['daily_views']/temp['talk_id']\n",
    "plt.figure(figsize=(10,6))\n",
    "ax=sns.barplot(x='event',y='daily_views',data=temp)\n",
    "labels=ax.get_xticklabels()\n",
    "plt.title('Top TED Events by daily_views')\n",
    "plt.ylabel('daily_views in million')\n",
    "plt.setp(labels, rotation=50);"
   ]
  },
  {
   "cell_type": "markdown",
   "id": "efa6fc01",
   "metadata": {},
   "source": [
    "Relationship between columns event,year,daily_views and talk_id to figure out Top Ted Events."
   ]
  },
  {
   "cell_type": "code",
   "execution_count": 36,
   "id": "d78c3e53",
   "metadata": {},
   "outputs": [
    {
     "data": {
      "image/png": "[encoded data removed]",
      "text/plain": [
       "<Figure size 720x432 with 1 Axes>"
      ]
     },
     "metadata": {
      "needs_background": "light"
     },
     "output_type": "display_data"
    }
   ],
   "source": [
    "plt.figure(figsize=(10,6))\n",
    "ax=sns.barplot(x='event',y='talk_id',data=temp)\n",
    "labels=ax.get_xticklabels()\n",
    "plt.title('Top TED Events by Average daily_views')\n",
    "plt.xlabel('Events')\n",
    "plt.ylabel('Avg daily_views in millions')\n",
    "\n",
    "plt.setp(labels, rotation=30);"
   ]
  },
  {
   "cell_type": "markdown",
   "id": "eaf8dd24",
   "metadata": {},
   "source": [
    "Relationship between columns event and talk_id to figure out Average of Top TED talk events"
   ]
  },
  {
   "cell_type": "code",
   "execution_count": 37,
   "id": "3642011b",
   "metadata": {},
   "outputs": [
    {
     "data": {
      "image/png": "[encoded data removed]",
      "text/plain": [
       "<Figure size 720x432 with 1 Axes>"
      ]
     },
     "metadata": {
      "needs_background": "light"
     },
     "output_type": "display_data"
    }
   ],
   "source": [
    "temp=data.groupby(['event','year'],as_index=False).agg({'daily_views':'sum','talk_id':'count'}).sort_values('daily_views',ascending=False).reset_index()[:8]\n",
    "plt.figure(figsize=(10,6))\n",
    "ax=sns.barplot(x='event',y='daily_views',data=temp)\n",
    "labels=ax.get_xticklabels()\n",
    "plt.title('Top TED Events by daily_views')\n",
    "plt.ylabel('daily_views in millions')\n",
    "plt.setp(labels, rotation=90);"
   ]
  },
  {
   "cell_type": "markdown",
   "id": "0b0ba053",
   "metadata": {},
   "source": [
    "# Applying eval for casting on available_lang column:"
   ]
  },
  {
   "cell_type": "markdown",
   "id": "413d2ba9",
   "metadata": {},
   "source": [
    "eval = This function can be handy when you’re trying to dynamically evaluate Python expressions from any input that comes as a string or a compiled code object."
   ]
  },
  {
   "cell_type": "code",
   "execution_count": 38,
   "id": "82298f9f",
   "metadata": {},
   "outputs": [
    {
     "data": {
      "text/plain": [
       "Index(['talk_id', 'title', 'speaker_1', 'all_speakers', 'occupations',\n",
       "       'about_speakers', 'views', 'recorded_date', 'published_date', 'event',\n",
       "       'native_lang', 'available_lang', 'comments', 'duration', 'topics',\n",
       "       'related_talks', 'url', 'description', 'transcript',\n",
       "       'time_since_published', 'month', 'year', 'day', 'week_day',\n",
       "       'daily_views', 'speaker_1_avg_views', 'event_wise_avg_views'],\n",
       "      dtype='object')"
      ]
     },
     "execution_count": 38,
     "metadata": {},
     "output_type": "execute_result"
    }
   ],
   "source": [
    "data.columns"
   ]
  },
  {
   "cell_type": "markdown",
   "id": "ded704f1",
   "metadata": {},
   "source": [
    "# Density plot of available language column:"
   ]
  },
  {
   "cell_type": "code",
   "execution_count": 39,
   "id": "d35b96b1",
   "metadata": {},
   "outputs": [],
   "source": [
    "data['number_of_lang'] = data['available_lang'].apply(lambda x: len(x))"
   ]
  },
  {
   "cell_type": "code",
   "execution_count": 40,
   "id": "9f6a22c1",
   "metadata": {},
   "outputs": [
    {
     "data": {
      "text/plain": [
       "<AxesSubplot:xlabel='number_of_lang', ylabel='Density'>"
      ]
     },
     "execution_count": 40,
     "metadata": {},
     "output_type": "execute_result"
    },
    {
     "data": {
      "image/png": "[encoded data removed]",
      "text/plain": [
       "<Figure size 504x288 with 1 Axes>"
      ]
     },
     "metadata": {
      "needs_background": "light"
     },
     "output_type": "display_data"
    }
   ],
   "source": [
    "sns.distplot(data['number_of_lang'])"
   ]
  },
  {
   "cell_type": "code",
   "execution_count": 41,
   "id": "eb4a78a5",
   "metadata": {},
   "outputs": [
    {
     "data": {
      "text/plain": [
       "0       ['alternative energy', 'cars', 'climate change...\n",
       "1       ['Africa', 'Asia', 'Google', 'demo', 'economic...\n",
       "2       ['computers', 'entertainment', 'interface desi...\n",
       "3       ['MacArthur grant', 'activism', 'business', 'c...\n",
       "4       ['children', 'creativity', 'culture', 'dance',...\n",
       "                              ...                        \n",
       "4000    ['activism', 'data', 'technology', 'mental hea...\n",
       "4001    ['TED-Ed', 'education', 'history', 'animation'...\n",
       "4002    ['society', 'law', 'policy', 'justice system',...\n",
       "4003    ['TED-Ed', 'education', 'animation', 'United S...\n",
       "4004    ['animals', 'TED-Ed', 'animation', 'oceans', '...\n",
       "Name: topics, Length: 4005, dtype: object"
      ]
     },
     "execution_count": 41,
     "metadata": {},
     "output_type": "execute_result"
    }
   ],
   "source": [
    "data['topics']"
   ]
  },
  {
   "cell_type": "code",
   "execution_count": 42,
   "id": "b29ef5a7",
   "metadata": {},
   "outputs": [],
   "source": [
    "data['topics'] = data.apply(lambda x: eval(x['topics']), axis=1)"
   ]
  },
  {
   "cell_type": "markdown",
   "id": "9dfcf762",
   "metadata": {},
   "source": [
    "** Number of topics"
   ]
  },
  {
   "cell_type": "code",
   "execution_count": 43,
   "id": "dab26e09",
   "metadata": {},
   "outputs": [],
   "source": [
    "data['num_of_topics'] = data.apply(lambda x: len(x['topics']), axis=1)"
   ]
  },
  {
   "cell_type": "markdown",
   "id": "32721c18",
   "metadata": {},
   "source": [
    "# Density plot of num of topics:"
   ]
  },
  {
   "cell_type": "code",
   "execution_count": 44,
   "id": "a2b1c661",
   "metadata": {},
   "outputs": [
    {
     "data": {
      "text/plain": [
       "<AxesSubplot:xlabel='num_of_topics', ylabel='Density'>"
      ]
     },
     "execution_count": 44,
     "metadata": {},
     "output_type": "execute_result"
    },
    {
     "data": {
      "image/png": "[encoded data removed]",
      "text/plain": [
       "<Figure size 720x360 with 1 Axes>"
      ]
     },
     "metadata": {
      "needs_background": "light"
     },
     "output_type": "display_data"
    }
   ],
   "source": [
    "# graph:\n",
    "plt.figure(figsize=(10,5))\n",
    "sns.distplot(data['num_of_topics'])"
   ]
  },
  {
   "cell_type": "markdown",
   "id": "c81f3d17",
   "metadata": {},
   "source": [
    "# Unique topics:"
   ]
  },
  {
   "cell_type": "code",
   "execution_count": 45,
   "id": "b960355c",
   "metadata": {},
   "outputs": [
    {
     "data": {
      "text/plain": [
       "457"
      ]
     },
     "execution_count": 45,
     "metadata": {},
     "output_type": "execute_result"
    }
   ],
   "source": [
    "#Checking for unique topic\n",
    "unique_topics=[]\n",
    "for i in range(0,len(data)):\n",
    "    temp=data['topics'][i]\n",
    "    for i in temp:\n",
    "        if(i not in unique_topics):\n",
    "            unique_topics.append(i)\n",
    "len(unique_topics)"
   ]
  },
  {
   "cell_type": "code",
   "execution_count": 46,
   "id": "b7241f88",
   "metadata": {},
   "outputs": [],
   "source": [
    "#fetching the avg views w.r.t each topic in another dict unique_topics_avg_view_dict\n",
    "unique_topics_avg_view_dict={}\n",
    "for topic in unique_topics:\n",
    "    temp=0\n",
    "    count=0\n",
    "    for i in range(0,len(data)):\n",
    "        temp2=data['topics'][i]\n",
    "        if(topic in temp2):\n",
    "            temp+=data['daily_views'][i]\n",
    "            count+=1\n",
    "    unique_topics_avg_view_dict[topic]=temp//count"
   ]
  },
  {
   "cell_type": "code",
   "execution_count": null,
   "id": "47898ea6",
   "metadata": {},
   "outputs": [],
   "source": []
  },
  {
   "cell_type": "code",
   "execution_count": 47,
   "id": "7f6ffd86",
   "metadata": {},
   "outputs": [],
   "source": [
    "#storing the avg views w.r.t topic for each talk\n",
    "topics_wise_avg_views=[]\n",
    "for i in range(0,len(data)):\n",
    "    temp=0\n",
    "    temp_topic=data['topics'][i]\n",
    "    for ele in temp_topic:\n",
    "        temp+=unique_topics_avg_view_dict[ele]\n",
    "        \n",
    "    topics_wise_avg_views.append(temp//len(temp_topic))\n",
    "se=pd.Series(topics_wise_avg_views)\n",
    "data['topics_wise_avg_views']=se.values"
   ]
  },
  {
   "cell_type": "markdown",
   "id": "b6c80445",
   "metadata": {},
   "source": [
    "# Density plot for topic_wise_views:"
   ]
  },
  {
   "cell_type": "code",
   "execution_count": 48,
   "id": "5051347b",
   "metadata": {},
   "outputs": [
    {
     "data": {
      "text/plain": [
       "<AxesSubplot:xlabel='topics_wise_avg_views', ylabel='Density'>"
      ]
     },
     "execution_count": 48,
     "metadata": {},
     "output_type": "execute_result"
    },
    {
     "data": {
      "image/png": "[encoded data removed]",
      "text/plain": [
       "<Figure size 720x288 with 1 Axes>"
      ]
     },
     "metadata": {
      "needs_background": "light"
     },
     "output_type": "display_data"
    }
   ],
   "source": [
    "# Graph\n",
    "plt.figure(figsize=(10,4))\n",
    "sns.distplot(data['topics_wise_avg_views'])\n"
   ]
  },
  {
   "cell_type": "markdown",
   "id": "414eece0",
   "metadata": {},
   "source": [
    "# related_talks column."
   ]
  },
  {
   "cell_type": "code",
   "execution_count": 49,
   "id": "1c87389c",
   "metadata": {},
   "outputs": [],
   "source": [
    "#applying eval function related talk column:\n",
    "import ast\n",
    "data['related_talks'] = data['related_talks'].apply(lambda x: ast.literal_eval(x))"
   ]
  },
  {
   "cell_type": "markdown",
   "id": "936e46ae",
   "metadata": {},
   "source": [
    "# Related Talk\n",
    "Related talk column contains a dictionary containing information about related videos with talk_id as key and video name as it's value. taking mean of all realated talk videos views:"
   ]
  },
  {
   "cell_type": "code",
   "execution_count": 50,
   "id": "daf00134",
   "metadata": {},
   "outputs": [],
   "source": [
    "#defining a new feature called related_views\n",
    "data['related_views']=0\n",
    "# iterating through the each row and extracting the value of related_talks\n",
    "for index , row in data.iterrows():\n",
    "    id_list=list(row['related_talks'].keys())\n",
    "    temp=0\n",
    "    for i in range (len(data)):\n",
    "        if(data.loc[i,'talk_id'])in id_list:\n",
    "            temp+=data.loc[i,'daily_views']\n",
    "    data.loc[index,'related_views']=temp//6"
   ]
  },
  {
   "cell_type": "markdown",
   "id": "e3dc088b",
   "metadata": {},
   "source": [
    "# Density plot of related_views:"
   ]
  },
  {
   "cell_type": "code",
   "execution_count": 51,
   "id": "0d1ffede",
   "metadata": {},
   "outputs": [
    {
     "data": {
      "text/plain": [
       "<AxesSubplot:xlabel='related_views', ylabel='Density'>"
      ]
     },
     "execution_count": 51,
     "metadata": {},
     "output_type": "execute_result"
    },
    {
     "data": {
      "image/png": "[encoded data removed]",
      "text/plain": [
       "<Figure size 720x360 with 1 Axes>"
      ]
     },
     "metadata": {
      "needs_background": "light"
     },
     "output_type": "display_data"
    }
   ],
   "source": [
    "#Graph of related_views column\n",
    "plt.figure(figsize=(10,5))\n",
    "sns.distplot(data['related_views'])"
   ]
  },
  {
   "cell_type": "markdown",
   "id": "8160588f",
   "metadata": {},
   "source": [
    "# Data Cleaning."
   ]
  },
  {
   "cell_type": "markdown",
   "id": "2f923012",
   "metadata": {},
   "source": [
    " # Outlier Treatment on numerical columns.\n",
    "Outliers are present in few columns which needs to be treated. We are replacing the outliers with the mean values."
   ]
  },
  {
   "cell_type": "code",
   "execution_count": 52,
   "id": "4d8f7a8e",
   "metadata": {},
   "outputs": [],
   "source": [
    "# Aplying Outlier treatment on duration and number of Languages:"
   ]
  },
  {
   "cell_type": "code",
   "execution_count": 53,
   "id": "3878e649",
   "metadata": {},
   "outputs": [
    {
     "data": {
      "text/plain": [
       "<AxesSubplot:xlabel='duration'>"
      ]
     },
     "execution_count": 53,
     "metadata": {},
     "output_type": "execute_result"
    },
    {
     "data": {
      "image/png": "[encoded data removed]",
      "text/plain": [
       "<Figure size 504x288 with 1 Axes>"
      ]
     },
     "metadata": {
      "needs_background": "light"
     },
     "output_type": "display_data"
    }
   ],
   "source": [
    "sns.boxplot(data['duration'], data= data)"
   ]
  },
  {
   "cell_type": "code",
   "execution_count": 54,
   "id": "6bf39397",
   "metadata": {},
   "outputs": [],
   "source": [
    "data_duration_iqr=  data['duration'].quantile(0.75)-data['duration'].quantile(0.25)\n",
    "data['duration']= data['duration'].mask(data['duration']>(data['duration'].quantile(0.75)+1.5*data_duration_iqr), data['duration'].mean())"
   ]
  },
  {
   "cell_type": "code",
   "execution_count": 55,
   "id": "1f1ce4b8",
   "metadata": {},
   "outputs": [
    {
     "data": {
      "text/plain": [
       "<AxesSubplot:xlabel='number_of_lang'>"
      ]
     },
     "execution_count": 55,
     "metadata": {},
     "output_type": "execute_result"
    },
    {
     "data": {
      "image/png": "[encoded data removed]",
      "text/plain": [
       "<Figure size 504x288 with 1 Axes>"
      ]
     },
     "metadata": {
      "needs_background": "light"
     },
     "output_type": "display_data"
    }
   ],
   "source": [
    "sns.boxenplot(data['number_of_lang'], data= data)"
   ]
  },
  {
   "cell_type": "markdown",
   "id": "0a1b2e9f",
   "metadata": {},
   "source": [
    "Now, we don't have any outliers."
   ]
  },
  {
   "cell_type": "code",
   "execution_count": 56,
   "id": "0d3743b5",
   "metadata": {},
   "outputs": [
    {
     "data": {
      "text/plain": [
       "Index(['talk_id', 'title', 'speaker_1', 'all_speakers', 'occupations',\n",
       "       'about_speakers', 'views', 'recorded_date', 'published_date', 'event',\n",
       "       'native_lang', 'available_lang', 'comments', 'duration', 'topics',\n",
       "       'related_talks', 'url', 'description', 'transcript',\n",
       "       'time_since_published', 'month', 'year', 'day', 'week_day',\n",
       "       'daily_views', 'speaker_1_avg_views', 'event_wise_avg_views',\n",
       "       'number_of_lang', 'num_of_topics', 'topics_wise_avg_views',\n",
       "       'related_views'],\n",
       "      dtype='object')"
      ]
     },
     "execution_count": 56,
     "metadata": {},
     "output_type": "execute_result"
    }
   ],
   "source": [
    "data.columns"
   ]
  },
  {
   "cell_type": "markdown",
   "id": "80a3f0c6",
   "metadata": {},
   "source": [
    "# Dataset For Natural language Processing"
   ]
  },
  {
   "cell_type": "markdown",
   "id": "ff852c7c",
   "metadata": {},
   "source": [
    "NLP =  is a complex field of machine learning that focuses on enabling machines to understand and interpret human languages just like the programming languages."
   ]
  },
  {
   "cell_type": "code",
   "execution_count": 57,
   "id": "ce008a17",
   "metadata": {},
   "outputs": [],
   "source": [
    "nlp_dataset= data.copy()"
   ]
  },
  {
   "cell_type": "code",
   "execution_count": 58,
   "id": "41bb9340",
   "metadata": {},
   "outputs": [
    {
     "data": {
      "text/plain": [
       "Index(['talk_id', 'title', 'speaker_1', 'all_speakers', 'occupations',\n",
       "       'about_speakers', 'views', 'recorded_date', 'published_date', 'event',\n",
       "       'native_lang', 'available_lang', 'comments', 'duration', 'topics',\n",
       "       'related_talks', 'url', 'description', 'transcript',\n",
       "       'time_since_published', 'month', 'year', 'day', 'week_day',\n",
       "       'daily_views', 'speaker_1_avg_views', 'event_wise_avg_views',\n",
       "       'number_of_lang', 'num_of_topics', 'topics_wise_avg_views',\n",
       "       'related_views'],\n",
       "      dtype='object')"
      ]
     },
     "execution_count": 58,
     "metadata": {},
     "output_type": "execute_result"
    }
   ],
   "source": [
    "nlp_dataset.columns"
   ]
  },
  {
   "cell_type": "code",
   "execution_count": 59,
   "id": "d33e1d4f",
   "metadata": {},
   "outputs": [],
   "source": [
    "temp_data1 = nlp_dataset[['talk_id', 'title', 'speaker_1', 'all_speakers', 'occupations',\n",
    "       'about_speakers', 'views', 'recorded_date', 'published_date', 'event',\n",
    "       'native_lang', 'comments', 'duration', 'topics', 'related_talks', 'url',\n",
    "       'description', 'transcript', 'time_since_published', 'month', 'year',\n",
    "       'day', 'daily_views', 'speaker_1_avg_views', 'number_of_lang',\n",
    "       'num_of_topics', 'topics_wise_avg_views', 'related_views']]"
   ]
  },
  {
   "cell_type": "code",
   "execution_count": 60,
   "id": "7e0625cc",
   "metadata": {},
   "outputs": [
    {
     "data": {
      "text/plain": [
       "<AxesSubplot:>"
      ]
     },
     "execution_count": 60,
     "metadata": {},
     "output_type": "execute_result"
    },
    {
     "data": {
      "image/png": "[encoded data removed]",
      "text/plain": [
       "<Figure size 1080x720 with 2 Axes>"
      ]
     },
     "metadata": {
      "needs_background": "light"
     },
     "output_type": "display_data"
    }
   ],
   "source": [
    "fig, ax = plt.subplots(figsize=(15,10))\n",
    "sns.heatmap(temp_data1.corr(), annot= True, cmap= \"autumn\",ax=ax)\n",
    "# plt.figure(figsize=(10,8))"
   ]
  },
  {
   "cell_type": "markdown",
   "id": "62f24378",
   "metadata": {},
   "source": [
    "# Removing Irrelevant columns:"
   ]
  },
  {
   "cell_type": "code",
   "execution_count": 61,
   "id": "8b23b8c6",
   "metadata": {},
   "outputs": [
    {
     "data": {
      "text/plain": [
       "Index(['talk_id', 'title', 'speaker_1', 'all_speakers', 'occupations',\n",
       "       'about_speakers', 'views', 'recorded_date', 'published_date', 'event',\n",
       "       'native_lang', 'available_lang', 'comments', 'duration', 'topics',\n",
       "       'related_talks', 'url', 'description', 'transcript',\n",
       "       'time_since_published', 'month', 'year', 'day', 'week_day',\n",
       "       'daily_views', 'speaker_1_avg_views', 'event_wise_avg_views',\n",
       "       'number_of_lang', 'num_of_topics', 'topics_wise_avg_views',\n",
       "       'related_views'],\n",
       "      dtype='object')"
      ]
     },
     "execution_count": 61,
     "metadata": {},
     "output_type": "execute_result"
    }
   ],
   "source": [
    "data.columns"
   ]
  },
  {
   "cell_type": "code",
   "execution_count": 62,
   "id": "bc41f444",
   "metadata": {},
   "outputs": [],
   "source": [
    "unwanted_features=['talk_id', 'title', 'speaker_1', 'all_speakers', 'occupations',\n",
    "       'about_speakers', 'views', 'recorded_date', 'published_date', 'event',\n",
    "       'native_lang', 'available_lang', 'topics',\n",
    "       'related_talks', 'url', 'description', 'transcript',\n",
    "     'topics_wise_avg_views', 'related_views']"
   ]
  },
  {
   "cell_type": "code",
   "execution_count": 63,
   "id": "89a89f32",
   "metadata": {},
   "outputs": [],
   "source": [
    "df=data.copy()"
   ]
  },
  {
   "cell_type": "code",
   "execution_count": 64,
   "id": "220353f1",
   "metadata": {},
   "outputs": [
    {
     "data": {
      "text/html": [
       "<div>\n",
       "<style scoped>\n",
       "    .dataframe tbody tr th:only-of-type {\n",
       "        vertical-align: middle;\n",
       "    }\n",
       "\n",
       "    .dataframe tbody tr th {\n",
       "        vertical-align: top;\n",
       "    }\n",
       "\n",
       "    .dataframe thead th {\n",
       "        text-align: right;\n",
       "    }\n",
       "</style>\n",
       "<table border=\"1\" class=\"dataframe\">\n",
       "  <thead>\n",
       "    <tr style=\"text-align: right;\">\n",
       "      <th></th>\n",
       "      <th>talk_id</th>\n",
       "      <th>title</th>\n",
       "      <th>speaker_1</th>\n",
       "      <th>all_speakers</th>\n",
       "      <th>occupations</th>\n",
       "      <th>about_speakers</th>\n",
       "      <th>views</th>\n",
       "      <th>recorded_date</th>\n",
       "      <th>published_date</th>\n",
       "      <th>event</th>\n",
       "      <th>...</th>\n",
       "      <th>year</th>\n",
       "      <th>day</th>\n",
       "      <th>week_day</th>\n",
       "      <th>daily_views</th>\n",
       "      <th>speaker_1_avg_views</th>\n",
       "      <th>event_wise_avg_views</th>\n",
       "      <th>number_of_lang</th>\n",
       "      <th>num_of_topics</th>\n",
       "      <th>topics_wise_avg_views</th>\n",
       "      <th>related_views</th>\n",
       "    </tr>\n",
       "  </thead>\n",
       "  <tbody>\n",
       "    <tr>\n",
       "      <th>0</th>\n",
       "      <td>1</td>\n",
       "      <td>Averting the climate crisis</td>\n",
       "      <td>Al Gore</td>\n",
       "      <td>{0: 'Al Gore'}</td>\n",
       "      <td>{0: ['climate advocate']}</td>\n",
       "      <td>{0: 'Nobel Laureate Al Gore focused the world’...</td>\n",
       "      <td>3523392</td>\n",
       "      <td>2006-02-25</td>\n",
       "      <td>2006-06-27</td>\n",
       "      <td>TED2006</td>\n",
       "      <td>...</td>\n",
       "      <td>2006</td>\n",
       "      <td>27</td>\n",
       "      <td>Tue</td>\n",
       "      <td>696.735614</td>\n",
       "      <td>699.725014</td>\n",
       "      <td>782.72889</td>\n",
       "      <td>270</td>\n",
       "      <td>9</td>\n",
       "      <td>2432.0</td>\n",
       "      <td>3093</td>\n",
       "    </tr>\n",
       "  </tbody>\n",
       "</table>\n",
       "<p>1 rows × 31 columns</p>\n",
       "</div>"
      ],
      "text/plain": [
       "   talk_id                        title speaker_1    all_speakers  \\\n",
       "0        1  Averting the climate crisis   Al Gore  {0: 'Al Gore'}   \n",
       "\n",
       "                 occupations  \\\n",
       "0  {0: ['climate advocate']}   \n",
       "\n",
       "                                      about_speakers    views recorded_date  \\\n",
       "0  {0: 'Nobel Laureate Al Gore focused the world’...  3523392    2006-02-25   \n",
       "\n",
       "  published_date    event  ...  year day  week_day  daily_views  \\\n",
       "0     2006-06-27  TED2006  ...  2006  27       Tue   696.735614   \n",
       "\n",
       "  speaker_1_avg_views event_wise_avg_views number_of_lang num_of_topics  \\\n",
       "0          699.725014            782.72889            270             9   \n",
       "\n",
       "  topics_wise_avg_views related_views  \n",
       "0                2432.0          3093  \n",
       "\n",
       "[1 rows x 31 columns]"
      ]
     },
     "execution_count": 64,
     "metadata": {},
     "output_type": "execute_result"
    }
   ],
   "source": [
    "df.head(1)"
   ]
  },
  {
   "cell_type": "code",
   "execution_count": 65,
   "id": "64a414a7",
   "metadata": {},
   "outputs": [],
   "source": [
    "#dropping unimportant columns from the datasets.\n",
    "df.drop(columns=unwanted_features,inplace=True)"
   ]
  },
  {
   "cell_type": "markdown",
   "id": "3c46666e",
   "metadata": {},
   "source": [
    "Defining the dependent and independent variables."
   ]
  },
  {
   "cell_type": "code",
   "execution_count": 66,
   "id": "03e24333",
   "metadata": {},
   "outputs": [],
   "source": [
    "#separating the dependent and independent variables\n",
    "y=df['daily_views']\n",
    "X=df.drop(columns='daily_views')"
   ]
  },
  {
   "cell_type": "code",
   "execution_count": 67,
   "id": "ce401fa0",
   "metadata": {},
   "outputs": [],
   "source": [
    "X2=X"
   ]
  },
  {
   "cell_type": "markdown",
   "id": "fdbe06fd",
   "metadata": {},
   "source": [
    "Doing one hot encoding using get_dummies function\n",
    "\n",
    "get_dummies = The get_dummies() function is used to convert categorical variable into dummy/indicator variables."
   ]
  },
  {
   "cell_type": "code",
   "execution_count": 68,
   "id": "4e62fd80",
   "metadata": {},
   "outputs": [
    {
     "data": {
      "text/plain": [
       "Index(['comments', 'duration', 'time_since_published', 'month', 'year', 'day',\n",
       "       'week_day', 'speaker_1_avg_views', 'event_wise_avg_views',\n",
       "       'number_of_lang', 'num_of_topics'],\n",
       "      dtype='object')"
      ]
     },
     "execution_count": 68,
     "metadata": {},
     "output_type": "execute_result"
    }
   ],
   "source": [
    "X.columns"
   ]
  },
  {
   "cell_type": "code",
   "execution_count": 69,
   "id": "f5b8b3e9",
   "metadata": {},
   "outputs": [
    {
     "data": {
      "text/plain": [
       "(4005, 28)"
      ]
     },
     "execution_count": 69,
     "metadata": {},
     "output_type": "execute_result"
    }
   ],
   "source": [
    "#one hot encoding on categorical features\n",
    "X=pd.get_dummies(X)\n",
    "X.shape"
   ]
  },
  {
   "cell_type": "code",
   "execution_count": 70,
   "id": "43a5f1e2",
   "metadata": {},
   "outputs": [
    {
     "data": {
      "text/html": [
       "<div>\n",
       "<style scoped>\n",
       "    .dataframe tbody tr th:only-of-type {\n",
       "        vertical-align: middle;\n",
       "    }\n",
       "\n",
       "    .dataframe tbody tr th {\n",
       "        vertical-align: top;\n",
       "    }\n",
       "\n",
       "    .dataframe thead th {\n",
       "        text-align: right;\n",
       "    }\n",
       "</style>\n",
       "<table border=\"1\" class=\"dataframe\">\n",
       "  <thead>\n",
       "    <tr style=\"text-align: right;\">\n",
       "      <th></th>\n",
       "      <th>comments</th>\n",
       "      <th>duration</th>\n",
       "      <th>time_since_published</th>\n",
       "      <th>year</th>\n",
       "      <th>day</th>\n",
       "      <th>speaker_1_avg_views</th>\n",
       "      <th>event_wise_avg_views</th>\n",
       "      <th>number_of_lang</th>\n",
       "      <th>num_of_topics</th>\n",
       "      <th>month_Apr</th>\n",
       "      <th>...</th>\n",
       "      <th>month_Nov</th>\n",
       "      <th>month_Oct</th>\n",
       "      <th>month_Sep</th>\n",
       "      <th>week_day_Fri</th>\n",
       "      <th>week_day_Mon</th>\n",
       "      <th>week_day_Sat</th>\n",
       "      <th>week_day_Sun</th>\n",
       "      <th>week_day_Thu</th>\n",
       "      <th>week_day_Tue</th>\n",
       "      <th>week_day_Wed</th>\n",
       "    </tr>\n",
       "  </thead>\n",
       "  <tbody>\n",
       "    <tr>\n",
       "      <th>0</th>\n",
       "      <td>272.0</td>\n",
       "      <td>977.0</td>\n",
       "      <td>5056 days</td>\n",
       "      <td>2006</td>\n",
       "      <td>27</td>\n",
       "      <td>699.725014</td>\n",
       "      <td>782.72889</td>\n",
       "      <td>270</td>\n",
       "      <td>9</td>\n",
       "      <td>0</td>\n",
       "      <td>...</td>\n",
       "      <td>0</td>\n",
       "      <td>0</td>\n",
       "      <td>0</td>\n",
       "      <td>0</td>\n",
       "      <td>0</td>\n",
       "      <td>0</td>\n",
       "      <td>0</td>\n",
       "      <td>0</td>\n",
       "      <td>1</td>\n",
       "      <td>0</td>\n",
       "    </tr>\n",
       "    <tr>\n",
       "      <th>1</th>\n",
       "      <td>628.0</td>\n",
       "      <td>1190.0</td>\n",
       "      <td>5056 days</td>\n",
       "      <td>2006</td>\n",
       "      <td>27</td>\n",
       "      <td>1098.925286</td>\n",
       "      <td>782.72889</td>\n",
       "      <td>303</td>\n",
       "      <td>11</td>\n",
       "      <td>0</td>\n",
       "      <td>...</td>\n",
       "      <td>0</td>\n",
       "      <td>0</td>\n",
       "      <td>0</td>\n",
       "      <td>0</td>\n",
       "      <td>0</td>\n",
       "      <td>0</td>\n",
       "      <td>0</td>\n",
       "      <td>0</td>\n",
       "      <td>1</td>\n",
       "      <td>0</td>\n",
       "    </tr>\n",
       "  </tbody>\n",
       "</table>\n",
       "<p>2 rows × 28 columns</p>\n",
       "</div>"
      ],
      "text/plain": [
       "   comments  duration time_since_published  year  day  speaker_1_avg_views  \\\n",
       "0     272.0     977.0            5056 days  2006   27           699.725014   \n",
       "1     628.0    1190.0            5056 days  2006   27          1098.925286   \n",
       "\n",
       "   event_wise_avg_views  number_of_lang  num_of_topics  month_Apr  ...  \\\n",
       "0             782.72889             270              9          0  ...   \n",
       "1             782.72889             303             11          0  ...   \n",
       "\n",
       "   month_Nov  month_Oct  month_Sep  week_day_Fri  week_day_Mon  week_day_Sat  \\\n",
       "0          0          0          0             0             0             0   \n",
       "1          0          0          0             0             0             0   \n",
       "\n",
       "   week_day_Sun  week_day_Thu  week_day_Tue  week_day_Wed  \n",
       "0             0             0             1             0  \n",
       "1             0             0             1             0  \n",
       "\n",
       "[2 rows x 28 columns]"
      ]
     },
     "execution_count": 70,
     "metadata": {},
     "output_type": "execute_result"
    }
   ],
   "source": [
    "X.head(2)"
   ]
  },
  {
   "cell_type": "markdown",
   "id": "b76b7dd9",
   "metadata": {},
   "source": [
    "Applying proper feature selection is must here to get rid of unimportant features."
   ]
  },
  {
   "cell_type": "markdown",
   "id": "747b17f4",
   "metadata": {},
   "source": [
    "# Let's treat nan values of numerical columns using KNNImputer"
   ]
  },
  {
   "cell_type": "markdown",
   "id": "8ec60152",
   "metadata": {},
   "source": [
    "The KNNImputer is used to fill in missing values in a dataset using the k-Nearest Neighbors method"
   ]
  },
  {
   "cell_type": "code",
   "execution_count": 71,
   "id": "d57f330b",
   "metadata": {},
   "outputs": [
    {
     "data": {
      "text/plain": [
       "duration      0\n",
       "comments    655\n",
       "dtype: int64"
      ]
     },
     "execution_count": 71,
     "metadata": {},
     "output_type": "execute_result"
    }
   ],
   "source": [
    "#checking for null values\n",
    "X[['duration','comments']].isna().sum()"
   ]
  },
  {
   "cell_type": "markdown",
   "id": "eefb2454",
   "metadata": {},
   "source": [
    "Comments has around 655 NaN values\n",
    "\n",
    "Let's treat it using KNNImputer."
   ]
  },
  {
   "cell_type": "code",
   "execution_count": 72,
   "id": "949d9534",
   "metadata": {},
   "outputs": [],
   "source": [
    "#Taking features for using in KNNImputer\n",
    "outlier_data=['duration','comments','speaker_1_avg_views','event_wise_avg_views']"
   ]
  },
  {
   "cell_type": "code",
   "execution_count": 73,
   "id": "590deea9",
   "metadata": {},
   "outputs": [],
   "source": [
    "# Before applying KNNImputer, we have to scale features so avoid bias.\n",
    "scaler = MinMaxScaler()\n",
    "#Import libraries\n",
    "from sklearn.impute import KNNImputer\n",
    "# define imputer\n",
    "imputer = KNNImputer()\n",
    "#fitting the model\n",
    "imputer.fit(scaler.fit_transform(X[outlier_data]))\n",
    "# transform the dataset\n",
    "X[outlier_data] = imputer.transform(scaler.fit_transform(X[outlier_data]))\n",
    "#again applying inverse_transform on the data\n",
    "X[outlier_data] = scaler.inverse_transform(X[outlier_data])"
   ]
  },
  {
   "cell_type": "code",
   "execution_count": 74,
   "id": "b75ee548",
   "metadata": {},
   "outputs": [
    {
     "data": {
      "text/plain": [
       "duration    0\n",
       "comments    0\n",
       "dtype: int64"
      ]
     },
     "execution_count": 74,
     "metadata": {},
     "output_type": "execute_result"
    }
   ],
   "source": [
    "# Checking Nan values:\n",
    "X[['duration','comments']].isna().sum()"
   ]
  },
  {
   "cell_type": "markdown",
   "id": "5ddc93d0",
   "metadata": {},
   "source": [
    "Comments has no null values"
   ]
  },
  {
   "cell_type": "code",
   "execution_count": 75,
   "id": "c3715b7a",
   "metadata": {},
   "outputs": [
    {
     "data": {
      "text/html": [
       "<div>\n",
       "<style scoped>\n",
       "    .dataframe tbody tr th:only-of-type {\n",
       "        vertical-align: middle;\n",
       "    }\n",
       "\n",
       "    .dataframe tbody tr th {\n",
       "        vertical-align: top;\n",
       "    }\n",
       "\n",
       "    .dataframe thead th {\n",
       "        text-align: right;\n",
       "    }\n",
       "</style>\n",
       "<table border=\"1\" class=\"dataframe\">\n",
       "  <thead>\n",
       "    <tr style=\"text-align: right;\">\n",
       "      <th></th>\n",
       "      <th>comments</th>\n",
       "      <th>duration</th>\n",
       "      <th>time_since_published</th>\n",
       "      <th>year</th>\n",
       "      <th>day</th>\n",
       "      <th>speaker_1_avg_views</th>\n",
       "      <th>event_wise_avg_views</th>\n",
       "      <th>number_of_lang</th>\n",
       "      <th>num_of_topics</th>\n",
       "      <th>month_Apr</th>\n",
       "      <th>...</th>\n",
       "      <th>month_Nov</th>\n",
       "      <th>month_Oct</th>\n",
       "      <th>month_Sep</th>\n",
       "      <th>week_day_Fri</th>\n",
       "      <th>week_day_Mon</th>\n",
       "      <th>week_day_Sat</th>\n",
       "      <th>week_day_Sun</th>\n",
       "      <th>week_day_Thu</th>\n",
       "      <th>week_day_Tue</th>\n",
       "      <th>week_day_Wed</th>\n",
       "    </tr>\n",
       "  </thead>\n",
       "  <tbody>\n",
       "    <tr>\n",
       "      <th>0</th>\n",
       "      <td>272.0</td>\n",
       "      <td>977.0</td>\n",
       "      <td>5056 days</td>\n",
       "      <td>2006</td>\n",
       "      <td>27</td>\n",
       "      <td>699.725014</td>\n",
       "      <td>782.72889</td>\n",
       "      <td>270</td>\n",
       "      <td>9</td>\n",
       "      <td>0</td>\n",
       "      <td>...</td>\n",
       "      <td>0</td>\n",
       "      <td>0</td>\n",
       "      <td>0</td>\n",
       "      <td>0</td>\n",
       "      <td>0</td>\n",
       "      <td>0</td>\n",
       "      <td>0</td>\n",
       "      <td>0</td>\n",
       "      <td>1</td>\n",
       "      <td>0</td>\n",
       "    </tr>\n",
       "    <tr>\n",
       "      <th>1</th>\n",
       "      <td>628.0</td>\n",
       "      <td>1190.0</td>\n",
       "      <td>5056 days</td>\n",
       "      <td>2006</td>\n",
       "      <td>27</td>\n",
       "      <td>1098.925286</td>\n",
       "      <td>782.72889</td>\n",
       "      <td>303</td>\n",
       "      <td>11</td>\n",
       "      <td>0</td>\n",
       "      <td>...</td>\n",
       "      <td>0</td>\n",
       "      <td>0</td>\n",
       "      <td>0</td>\n",
       "      <td>0</td>\n",
       "      <td>0</td>\n",
       "      <td>0</td>\n",
       "      <td>0</td>\n",
       "      <td>0</td>\n",
       "      <td>1</td>\n",
       "      <td>0</td>\n",
       "    </tr>\n",
       "    <tr>\n",
       "      <th>2</th>\n",
       "      <td>124.0</td>\n",
       "      <td>1286.0</td>\n",
       "      <td>5056 days</td>\n",
       "      <td>2006</td>\n",
       "      <td>27</td>\n",
       "      <td>687.917181</td>\n",
       "      <td>782.72889</td>\n",
       "      <td>165</td>\n",
       "      <td>9</td>\n",
       "      <td>0</td>\n",
       "      <td>...</td>\n",
       "      <td>0</td>\n",
       "      <td>0</td>\n",
       "      <td>0</td>\n",
       "      <td>0</td>\n",
       "      <td>0</td>\n",
       "      <td>0</td>\n",
       "      <td>0</td>\n",
       "      <td>0</td>\n",
       "      <td>1</td>\n",
       "      <td>0</td>\n",
       "    </tr>\n",
       "    <tr>\n",
       "      <th>3</th>\n",
       "      <td>219.0</td>\n",
       "      <td>1116.0</td>\n",
       "      <td>5056 days</td>\n",
       "      <td>2006</td>\n",
       "      <td>27</td>\n",
       "      <td>452.806229</td>\n",
       "      <td>782.72889</td>\n",
       "      <td>219</td>\n",
       "      <td>9</td>\n",
       "      <td>0</td>\n",
       "      <td>...</td>\n",
       "      <td>0</td>\n",
       "      <td>0</td>\n",
       "      <td>0</td>\n",
       "      <td>0</td>\n",
       "      <td>0</td>\n",
       "      <td>0</td>\n",
       "      <td>0</td>\n",
       "      <td>0</td>\n",
       "      <td>1</td>\n",
       "      <td>0</td>\n",
       "    </tr>\n",
       "    <tr>\n",
       "      <th>4</th>\n",
       "      <td>4931.0</td>\n",
       "      <td>1164.0</td>\n",
       "      <td>5056 days</td>\n",
       "      <td>2006</td>\n",
       "      <td>27</td>\n",
       "      <td>6453.203121</td>\n",
       "      <td>782.72889</td>\n",
       "      <td>387</td>\n",
       "      <td>7</td>\n",
       "      <td>0</td>\n",
       "      <td>...</td>\n",
       "      <td>0</td>\n",
       "      <td>0</td>\n",
       "      <td>0</td>\n",
       "      <td>0</td>\n",
       "      <td>0</td>\n",
       "      <td>0</td>\n",
       "      <td>0</td>\n",
       "      <td>0</td>\n",
       "      <td>1</td>\n",
       "      <td>0</td>\n",
       "    </tr>\n",
       "  </tbody>\n",
       "</table>\n",
       "<p>5 rows × 28 columns</p>\n",
       "</div>"
      ],
      "text/plain": [
       "   comments  duration time_since_published  year  day  speaker_1_avg_views  \\\n",
       "0     272.0     977.0            5056 days  2006   27           699.725014   \n",
       "1     628.0    1190.0            5056 days  2006   27          1098.925286   \n",
       "2     124.0    1286.0            5056 days  2006   27           687.917181   \n",
       "3     219.0    1116.0            5056 days  2006   27           452.806229   \n",
       "4    4931.0    1164.0            5056 days  2006   27          6453.203121   \n",
       "\n",
       "   event_wise_avg_views  number_of_lang  num_of_topics  month_Apr  ...  \\\n",
       "0             782.72889             270              9          0  ...   \n",
       "1             782.72889             303             11          0  ...   \n",
       "2             782.72889             165              9          0  ...   \n",
       "3             782.72889             219              9          0  ...   \n",
       "4             782.72889             387              7          0  ...   \n",
       "\n",
       "   month_Nov  month_Oct  month_Sep  week_day_Fri  week_day_Mon  week_day_Sat  \\\n",
       "0          0          0          0             0             0             0   \n",
       "1          0          0          0             0             0             0   \n",
       "2          0          0          0             0             0             0   \n",
       "3          0          0          0             0             0             0   \n",
       "4          0          0          0             0             0             0   \n",
       "\n",
       "   week_day_Sun  week_day_Thu  week_day_Tue  week_day_Wed  \n",
       "0             0             0             1             0  \n",
       "1             0             0             1             0  \n",
       "2             0             0             1             0  \n",
       "3             0             0             1             0  \n",
       "4             0             0             1             0  \n",
       "\n",
       "[5 rows x 28 columns]"
      ]
     },
     "execution_count": 75,
     "metadata": {},
     "output_type": "execute_result"
    }
   ],
   "source": [
    "X.head()"
   ]
  },
  {
   "cell_type": "markdown",
   "id": "5d0ca060",
   "metadata": {},
   "source": [
    "# Cleaned Dataset"
   ]
  },
  {
   "cell_type": "code",
   "execution_count": 76,
   "id": "740e6907",
   "metadata": {},
   "outputs": [
    {
     "data": {
      "text/html": [
       "<div>\n",
       "<style scoped>\n",
       "    .dataframe tbody tr th:only-of-type {\n",
       "        vertical-align: middle;\n",
       "    }\n",
       "\n",
       "    .dataframe tbody tr th {\n",
       "        vertical-align: top;\n",
       "    }\n",
       "\n",
       "    .dataframe thead th {\n",
       "        text-align: right;\n",
       "    }\n",
       "</style>\n",
       "<table border=\"1\" class=\"dataframe\">\n",
       "  <thead>\n",
       "    <tr style=\"text-align: right;\">\n",
       "      <th></th>\n",
       "      <th>talk_id</th>\n",
       "      <th>title</th>\n",
       "      <th>speaker_1</th>\n",
       "      <th>all_speakers</th>\n",
       "      <th>occupations</th>\n",
       "      <th>about_speakers</th>\n",
       "      <th>views</th>\n",
       "      <th>recorded_date</th>\n",
       "      <th>published_date</th>\n",
       "      <th>event</th>\n",
       "      <th>...</th>\n",
       "      <th>year</th>\n",
       "      <th>day</th>\n",
       "      <th>week_day</th>\n",
       "      <th>daily_views</th>\n",
       "      <th>speaker_1_avg_views</th>\n",
       "      <th>event_wise_avg_views</th>\n",
       "      <th>number_of_lang</th>\n",
       "      <th>num_of_topics</th>\n",
       "      <th>topics_wise_avg_views</th>\n",
       "      <th>related_views</th>\n",
       "    </tr>\n",
       "  </thead>\n",
       "  <tbody>\n",
       "    <tr>\n",
       "      <th>0</th>\n",
       "      <td>1</td>\n",
       "      <td>Averting the climate crisis</td>\n",
       "      <td>Al Gore</td>\n",
       "      <td>{0: 'Al Gore'}</td>\n",
       "      <td>{0: ['climate advocate']}</td>\n",
       "      <td>{0: 'Nobel Laureate Al Gore focused the world’...</td>\n",
       "      <td>3523392</td>\n",
       "      <td>2006-02-25</td>\n",
       "      <td>2006-06-27</td>\n",
       "      <td>TED2006</td>\n",
       "      <td>...</td>\n",
       "      <td>2006</td>\n",
       "      <td>27</td>\n",
       "      <td>Tue</td>\n",
       "      <td>696.735614</td>\n",
       "      <td>699.725014</td>\n",
       "      <td>782.72889</td>\n",
       "      <td>270</td>\n",
       "      <td>9</td>\n",
       "      <td>2432.0</td>\n",
       "      <td>3093</td>\n",
       "    </tr>\n",
       "    <tr>\n",
       "      <th>1</th>\n",
       "      <td>92</td>\n",
       "      <td>The best stats you've ever seen</td>\n",
       "      <td>Hans Rosling</td>\n",
       "      <td>{0: 'Hans Rosling'}</td>\n",
       "      <td>{0: ['global health expert; data visionary']}</td>\n",
       "      <td>{0: 'In Hans Rosling’s hands, data sings. Glob...</td>\n",
       "      <td>14501685</td>\n",
       "      <td>2006-02-22</td>\n",
       "      <td>2006-06-27</td>\n",
       "      <td>TED2006</td>\n",
       "      <td>...</td>\n",
       "      <td>2006</td>\n",
       "      <td>27</td>\n",
       "      <td>Tue</td>\n",
       "      <td>2867.645837</td>\n",
       "      <td>1098.925286</td>\n",
       "      <td>782.72889</td>\n",
       "      <td>303</td>\n",
       "      <td>11</td>\n",
       "      <td>2546.0</td>\n",
       "      <td>865</td>\n",
       "    </tr>\n",
       "    <tr>\n",
       "      <th>2</th>\n",
       "      <td>7</td>\n",
       "      <td>Simplicity sells</td>\n",
       "      <td>David Pogue</td>\n",
       "      <td>{0: 'David Pogue'}</td>\n",
       "      <td>{0: ['technology columnist']}</td>\n",
       "      <td>{0: 'David Pogue is the personal technology co...</td>\n",
       "      <td>1920832</td>\n",
       "      <td>2006-02-24</td>\n",
       "      <td>2006-06-27</td>\n",
       "      <td>TED2006</td>\n",
       "      <td>...</td>\n",
       "      <td>2006</td>\n",
       "      <td>27</td>\n",
       "      <td>Tue</td>\n",
       "      <td>379.836267</td>\n",
       "      <td>687.917181</td>\n",
       "      <td>782.72889</td>\n",
       "      <td>165</td>\n",
       "      <td>9</td>\n",
       "      <td>1876.0</td>\n",
       "      <td>1528</td>\n",
       "    </tr>\n",
       "    <tr>\n",
       "      <th>3</th>\n",
       "      <td>53</td>\n",
       "      <td>Greening the ghetto</td>\n",
       "      <td>Majora Carter</td>\n",
       "      <td>{0: 'Majora Carter'}</td>\n",
       "      <td>{0: ['activist for environmental justice']}</td>\n",
       "      <td>{0: 'Majora Carter redefined the field of envi...</td>\n",
       "      <td>2664069</td>\n",
       "      <td>2006-02-26</td>\n",
       "      <td>2006-06-27</td>\n",
       "      <td>TED2006</td>\n",
       "      <td>...</td>\n",
       "      <td>2006</td>\n",
       "      <td>27</td>\n",
       "      <td>Tue</td>\n",
       "      <td>526.808187</td>\n",
       "      <td>452.806229</td>\n",
       "      <td>782.72889</td>\n",
       "      <td>219</td>\n",
       "      <td>9</td>\n",
       "      <td>2166.0</td>\n",
       "      <td>799</td>\n",
       "    </tr>\n",
       "    <tr>\n",
       "      <th>4</th>\n",
       "      <td>66</td>\n",
       "      <td>Do schools kill creativity?</td>\n",
       "      <td>Sir Ken Robinson</td>\n",
       "      <td>{0: 'Sir Ken Robinson'}</td>\n",
       "      <td>{0: ['author', 'educator']}</td>\n",
       "      <td>{0: \"Creativity expert Sir Ken Robinson challe...</td>\n",
       "      <td>65051954</td>\n",
       "      <td>2006-02-25</td>\n",
       "      <td>2006-06-27</td>\n",
       "      <td>TED2006</td>\n",
       "      <td>...</td>\n",
       "      <td>2006</td>\n",
       "      <td>27</td>\n",
       "      <td>Tue</td>\n",
       "      <td>12863.744117</td>\n",
       "      <td>6453.203121</td>\n",
       "      <td>782.72889</td>\n",
       "      <td>387</td>\n",
       "      <td>7</td>\n",
       "      <td>3238.0</td>\n",
       "      <td>2524</td>\n",
       "    </tr>\n",
       "  </tbody>\n",
       "</table>\n",
       "<p>5 rows × 31 columns</p>\n",
       "</div>"
      ],
      "text/plain": [
       "   talk_id                            title         speaker_1  \\\n",
       "0        1      Averting the climate crisis           Al Gore   \n",
       "1       92  The best stats you've ever seen      Hans Rosling   \n",
       "2        7                 Simplicity sells       David Pogue   \n",
       "3       53              Greening the ghetto     Majora Carter   \n",
       "4       66      Do schools kill creativity?  Sir Ken Robinson   \n",
       "\n",
       "              all_speakers                                    occupations  \\\n",
       "0           {0: 'Al Gore'}                      {0: ['climate advocate']}   \n",
       "1      {0: 'Hans Rosling'}  {0: ['global health expert; data visionary']}   \n",
       "2       {0: 'David Pogue'}                  {0: ['technology columnist']}   \n",
       "3     {0: 'Majora Carter'}    {0: ['activist for environmental justice']}   \n",
       "4  {0: 'Sir Ken Robinson'}                    {0: ['author', 'educator']}   \n",
       "\n",
       "                                      about_speakers     views recorded_date  \\\n",
       "0  {0: 'Nobel Laureate Al Gore focused the world’...   3523392    2006-02-25   \n",
       "1  {0: 'In Hans Rosling’s hands, data sings. Glob...  14501685    2006-02-22   \n",
       "2  {0: 'David Pogue is the personal technology co...   1920832    2006-02-24   \n",
       "3  {0: 'Majora Carter redefined the field of envi...   2664069    2006-02-26   \n",
       "4  {0: \"Creativity expert Sir Ken Robinson challe...  65051954    2006-02-25   \n",
       "\n",
       "  published_date    event  ...  year day  week_day   daily_views  \\\n",
       "0     2006-06-27  TED2006  ...  2006  27       Tue    696.735614   \n",
       "1     2006-06-27  TED2006  ...  2006  27       Tue   2867.645837   \n",
       "2     2006-06-27  TED2006  ...  2006  27       Tue    379.836267   \n",
       "3     2006-06-27  TED2006  ...  2006  27       Tue    526.808187   \n",
       "4     2006-06-27  TED2006  ...  2006  27       Tue  12863.744117   \n",
       "\n",
       "  speaker_1_avg_views event_wise_avg_views number_of_lang num_of_topics  \\\n",
       "0          699.725014            782.72889            270             9   \n",
       "1         1098.925286            782.72889            303            11   \n",
       "2          687.917181            782.72889            165             9   \n",
       "3          452.806229            782.72889            219             9   \n",
       "4         6453.203121            782.72889            387             7   \n",
       "\n",
       "  topics_wise_avg_views related_views  \n",
       "0                2432.0          3093  \n",
       "1                2546.0           865  \n",
       "2                1876.0          1528  \n",
       "3                2166.0           799  \n",
       "4                3238.0          2524  \n",
       "\n",
       "[5 rows x 31 columns]"
      ]
     },
     "execution_count": 76,
     "metadata": {},
     "output_type": "execute_result"
    }
   ],
   "source": [
    "data.head()"
   ]
  },
  {
   "cell_type": "code",
   "execution_count": 77,
   "id": "d86488a0",
   "metadata": {},
   "outputs": [
    {
     "name": "stdout",
     "output_type": "stream",
     "text": [
      "<class 'pandas.core.frame.DataFrame'>\n",
      "RangeIndex: 4005 entries, 0 to 4004\n",
      "Data columns (total 31 columns):\n",
      " #   Column                 Non-Null Count  Dtype          \n",
      "---  ------                 --------------  -----          \n",
      " 0   talk_id                4005 non-null   int64          \n",
      " 1   title                  4005 non-null   object         \n",
      " 2   speaker_1              4005 non-null   object         \n",
      " 3   all_speakers           4001 non-null   object         \n",
      " 4   occupations            3483 non-null   object         \n",
      " 5   about_speakers         3502 non-null   object         \n",
      " 6   views                  4005 non-null   int64          \n",
      " 7   recorded_date          4004 non-null   datetime64[ns] \n",
      " 8   published_date         4005 non-null   datetime64[ns] \n",
      " 9   event                  4005 non-null   object         \n",
      " 10  native_lang            4005 non-null   object         \n",
      " 11  available_lang         4005 non-null   object         \n",
      " 12  comments               3350 non-null   float64        \n",
      " 13  duration               4005 non-null   float64        \n",
      " 14  topics                 4005 non-null   object         \n",
      " 15  related_talks          4005 non-null   object         \n",
      " 16  url                    4005 non-null   object         \n",
      " 17  description            4005 non-null   object         \n",
      " 18  transcript             4005 non-null   object         \n",
      " 19  time_since_published   4005 non-null   timedelta64[ns]\n",
      " 20  month                  4005 non-null   object         \n",
      " 21  year                   4005 non-null   int64          \n",
      " 22  day                    4005 non-null   int64          \n",
      " 23  week_day               4005 non-null   object         \n",
      " 24  daily_views            4005 non-null   float64        \n",
      " 25  speaker_1_avg_views    4005 non-null   float64        \n",
      " 26  event_wise_avg_views   4005 non-null   float64        \n",
      " 27  number_of_lang         4005 non-null   int64          \n",
      " 28  num_of_topics          4005 non-null   int64          \n",
      " 29  topics_wise_avg_views  4005 non-null   float64        \n",
      " 30  related_views          4005 non-null   int64          \n",
      "dtypes: datetime64[ns](2), float64(6), int64(7), object(15), timedelta64[ns](1)\n",
      "memory usage: 970.1+ KB\n"
     ]
    }
   ],
   "source": [
    "data.info()"
   ]
  },
  {
   "cell_type": "code",
   "execution_count": 78,
   "id": "a0eab44e",
   "metadata": {},
   "outputs": [
    {
     "data": {
      "text/html": [
       "<div>\n",
       "<style scoped>\n",
       "    .dataframe tbody tr th:only-of-type {\n",
       "        vertical-align: middle;\n",
       "    }\n",
       "\n",
       "    .dataframe tbody tr th {\n",
       "        vertical-align: top;\n",
       "    }\n",
       "\n",
       "    .dataframe thead th {\n",
       "        text-align: right;\n",
       "    }\n",
       "</style>\n",
       "<table border=\"1\" class=\"dataframe\">\n",
       "  <thead>\n",
       "    <tr style=\"text-align: right;\">\n",
       "      <th></th>\n",
       "      <th>count</th>\n",
       "      <th>unique</th>\n",
       "      <th>top</th>\n",
       "      <th>freq</th>\n",
       "      <th>first</th>\n",
       "      <th>last</th>\n",
       "      <th>mean</th>\n",
       "      <th>std</th>\n",
       "      <th>min</th>\n",
       "      <th>25%</th>\n",
       "      <th>50%</th>\n",
       "      <th>75%</th>\n",
       "      <th>max</th>\n",
       "    </tr>\n",
       "  </thead>\n",
       "  <tbody>\n",
       "    <tr>\n",
       "      <th>talk_id</th>\n",
       "      <td>4005.0</td>\n",
       "      <td>NaN</td>\n",
       "      <td>NaN</td>\n",
       "      <td>NaN</td>\n",
       "      <td>NaT</td>\n",
       "      <td>NaT</td>\n",
       "      <td>12432.538327</td>\n",
       "      <td>17447.576262</td>\n",
       "      <td>1.0</td>\n",
       "      <td>1252.0</td>\n",
       "      <td>2333.0</td>\n",
       "      <td>23777.0</td>\n",
       "      <td>62794.0</td>\n",
       "    </tr>\n",
       "    <tr>\n",
       "      <th>title</th>\n",
       "      <td>4005</td>\n",
       "      <td>4005</td>\n",
       "      <td>Averting the climate crisis</td>\n",
       "      <td>1</td>\n",
       "      <td>NaT</td>\n",
       "      <td>NaT</td>\n",
       "      <td>NaN</td>\n",
       "      <td>NaN</td>\n",
       "      <td>NaN</td>\n",
       "      <td>NaN</td>\n",
       "      <td>NaN</td>\n",
       "      <td>NaN</td>\n",
       "      <td>NaN</td>\n",
       "    </tr>\n",
       "    <tr>\n",
       "      <th>speaker_1</th>\n",
       "      <td>4005</td>\n",
       "      <td>3274</td>\n",
       "      <td>Alex Gendler</td>\n",
       "      <td>34</td>\n",
       "      <td>NaT</td>\n",
       "      <td>NaT</td>\n",
       "      <td>NaN</td>\n",
       "      <td>NaN</td>\n",
       "      <td>NaN</td>\n",
       "      <td>NaN</td>\n",
       "      <td>NaN</td>\n",
       "      <td>NaN</td>\n",
       "      <td>NaN</td>\n",
       "    </tr>\n",
       "    <tr>\n",
       "      <th>all_speakers</th>\n",
       "      <td>4001</td>\n",
       "      <td>3306</td>\n",
       "      <td>{0: 'Alex Gendler'}</td>\n",
       "      <td>34</td>\n",
       "      <td>NaT</td>\n",
       "      <td>NaT</td>\n",
       "      <td>NaN</td>\n",
       "      <td>NaN</td>\n",
       "      <td>NaN</td>\n",
       "      <td>NaN</td>\n",
       "      <td>NaN</td>\n",
       "      <td>NaN</td>\n",
       "      <td>NaN</td>\n",
       "    </tr>\n",
       "    <tr>\n",
       "      <th>occupations</th>\n",
       "      <td>3483</td>\n",
       "      <td>2049</td>\n",
       "      <td>{0: ['writer']}</td>\n",
       "      <td>53</td>\n",
       "      <td>NaT</td>\n",
       "      <td>NaT</td>\n",
       "      <td>NaN</td>\n",
       "      <td>NaN</td>\n",
       "      <td>NaN</td>\n",
       "      <td>NaN</td>\n",
       "      <td>NaN</td>\n",
       "      <td>NaN</td>\n",
       "      <td>NaN</td>\n",
       "    </tr>\n",
       "    <tr>\n",
       "      <th>about_speakers</th>\n",
       "      <td>3502</td>\n",
       "      <td>2977</td>\n",
       "      <td>{0: 'Alex Rosenthal takes everyday experiences...</td>\n",
       "      <td>10</td>\n",
       "      <td>NaT</td>\n",
       "      <td>NaT</td>\n",
       "      <td>NaN</td>\n",
       "      <td>NaN</td>\n",
       "      <td>NaN</td>\n",
       "      <td>NaN</td>\n",
       "      <td>NaN</td>\n",
       "      <td>NaN</td>\n",
       "      <td>NaN</td>\n",
       "    </tr>\n",
       "    <tr>\n",
       "      <th>views</th>\n",
       "      <td>4005.0</td>\n",
       "      <td>NaN</td>\n",
       "      <td>NaN</td>\n",
       "      <td>NaN</td>\n",
       "      <td>NaT</td>\n",
       "      <td>NaT</td>\n",
       "      <td>2148005.573783</td>\n",
       "      <td>3451225.523659</td>\n",
       "      <td>0.0</td>\n",
       "      <td>882069.0</td>\n",
       "      <td>1375508.0</td>\n",
       "      <td>2133110.0</td>\n",
       "      <td>65051954.0</td>\n",
       "    </tr>\n",
       "    <tr>\n",
       "      <th>recorded_date</th>\n",
       "      <td>4004</td>\n",
       "      <td>1334</td>\n",
       "      <td>2017-04-24 00:00:00</td>\n",
       "      <td>97</td>\n",
       "      <td>1984-02-02</td>\n",
       "      <td>2020-04-30</td>\n",
       "      <td>NaN</td>\n",
       "      <td>NaN</td>\n",
       "      <td>NaN</td>\n",
       "      <td>NaN</td>\n",
       "      <td>NaN</td>\n",
       "      <td>NaN</td>\n",
       "      <td>NaN</td>\n",
       "    </tr>\n",
       "    <tr>\n",
       "      <th>published_date</th>\n",
       "      <td>4005</td>\n",
       "      <td>2962</td>\n",
       "      <td>2017-09-07 00:00:00</td>\n",
       "      <td>27</td>\n",
       "      <td>2006-06-27</td>\n",
       "      <td>2020-04-30</td>\n",
       "      <td>NaN</td>\n",
       "      <td>NaN</td>\n",
       "      <td>NaN</td>\n",
       "      <td>NaN</td>\n",
       "      <td>NaN</td>\n",
       "      <td>NaN</td>\n",
       "      <td>NaN</td>\n",
       "    </tr>\n",
       "    <tr>\n",
       "      <th>event</th>\n",
       "      <td>4005</td>\n",
       "      <td>459</td>\n",
       "      <td>TED-Ed</td>\n",
       "      <td>556</td>\n",
       "      <td>NaT</td>\n",
       "      <td>NaT</td>\n",
       "      <td>NaN</td>\n",
       "      <td>NaN</td>\n",
       "      <td>NaN</td>\n",
       "      <td>NaN</td>\n",
       "      <td>NaN</td>\n",
       "      <td>NaN</td>\n",
       "      <td>NaN</td>\n",
       "    </tr>\n",
       "    <tr>\n",
       "      <th>native_lang</th>\n",
       "      <td>4005</td>\n",
       "      <td>12</td>\n",
       "      <td>en</td>\n",
       "      <td>3957</td>\n",
       "      <td>NaT</td>\n",
       "      <td>NaT</td>\n",
       "      <td>NaN</td>\n",
       "      <td>NaN</td>\n",
       "      <td>NaN</td>\n",
       "      <td>NaN</td>\n",
       "      <td>NaN</td>\n",
       "      <td>NaN</td>\n",
       "      <td>NaN</td>\n",
       "    </tr>\n",
       "    <tr>\n",
       "      <th>available_lang</th>\n",
       "      <td>4005</td>\n",
       "      <td>3902</td>\n",
       "      <td>['en']</td>\n",
       "      <td>24</td>\n",
       "      <td>NaT</td>\n",
       "      <td>NaT</td>\n",
       "      <td>NaN</td>\n",
       "      <td>NaN</td>\n",
       "      <td>NaN</td>\n",
       "      <td>NaN</td>\n",
       "      <td>NaN</td>\n",
       "      <td>NaN</td>\n",
       "      <td>NaN</td>\n",
       "    </tr>\n",
       "    <tr>\n",
       "      <th>comments</th>\n",
       "      <td>3350.0</td>\n",
       "      <td>NaN</td>\n",
       "      <td>NaN</td>\n",
       "      <td>NaN</td>\n",
       "      <td>NaT</td>\n",
       "      <td>NaT</td>\n",
       "      <td>161.997015</td>\n",
       "      <td>268.838922</td>\n",
       "      <td>0.0</td>\n",
       "      <td>38.0</td>\n",
       "      <td>89.0</td>\n",
       "      <td>188.0</td>\n",
       "      <td>6449.0</td>\n",
       "    </tr>\n",
       "    <tr>\n",
       "      <th>duration</th>\n",
       "      <td>4005.0</td>\n",
       "      <td>NaN</td>\n",
       "      <td>NaN</td>\n",
       "      <td>NaN</td>\n",
       "      <td>NaT</td>\n",
       "      <td>NaT</td>\n",
       "      <td>713.837762</td>\n",
       "      <td>329.259358</td>\n",
       "      <td>60.0</td>\n",
       "      <td>393.0</td>\n",
       "      <td>732.0</td>\n",
       "      <td>968.0</td>\n",
       "      <td>1831.0</td>\n",
       "    </tr>\n",
       "    <tr>\n",
       "      <th>topics</th>\n",
       "      <td>4005</td>\n",
       "      <td>3977</td>\n",
       "      <td>[TED-Ed, math]</td>\n",
       "      <td>8</td>\n",
       "      <td>NaT</td>\n",
       "      <td>NaT</td>\n",
       "      <td>NaN</td>\n",
       "      <td>NaN</td>\n",
       "      <td>NaN</td>\n",
       "      <td>NaN</td>\n",
       "      <td>NaN</td>\n",
       "      <td>NaN</td>\n",
       "      <td>NaN</td>\n",
       "    </tr>\n",
       "    <tr>\n",
       "      <th>related_talks</th>\n",
       "      <td>4005</td>\n",
       "      <td>4005</td>\n",
       "      <td>{243: 'New thinking on the climate crisis', 54...</td>\n",
       "      <td>1</td>\n",
       "      <td>NaT</td>\n",
       "      <td>NaT</td>\n",
       "      <td>NaN</td>\n",
       "      <td>NaN</td>\n",
       "      <td>NaN</td>\n",
       "      <td>NaN</td>\n",
       "      <td>NaN</td>\n",
       "      <td>NaN</td>\n",
       "      <td>NaN</td>\n",
       "    </tr>\n",
       "    <tr>\n",
       "      <th>url</th>\n",
       "      <td>4005</td>\n",
       "      <td>4005</td>\n",
       "      <td>https://www.ted.com/talks/al_gore_averting_the...</td>\n",
       "      <td>1</td>\n",
       "      <td>NaT</td>\n",
       "      <td>NaT</td>\n",
       "      <td>NaN</td>\n",
       "      <td>NaN</td>\n",
       "      <td>NaN</td>\n",
       "      <td>NaN</td>\n",
       "      <td>NaN</td>\n",
       "      <td>NaN</td>\n",
       "      <td>NaN</td>\n",
       "    </tr>\n",
       "    <tr>\n",
       "      <th>description</th>\n",
       "      <td>4005</td>\n",
       "      <td>4005</td>\n",
       "      <td>With the same humor and humanity he exuded in ...</td>\n",
       "      <td>1</td>\n",
       "      <td>NaT</td>\n",
       "      <td>NaT</td>\n",
       "      <td>NaN</td>\n",
       "      <td>NaN</td>\n",
       "      <td>NaN</td>\n",
       "      <td>NaN</td>\n",
       "      <td>NaN</td>\n",
       "      <td>NaN</td>\n",
       "      <td>NaN</td>\n",
       "    </tr>\n",
       "    <tr>\n",
       "      <th>transcript</th>\n",
       "      <td>4005</td>\n",
       "      <td>4005</td>\n",
       "      <td>Thank you so much, Chris. And it's truly a gre...</td>\n",
       "      <td>1</td>\n",
       "      <td>NaT</td>\n",
       "      <td>NaT</td>\n",
       "      <td>NaN</td>\n",
       "      <td>NaN</td>\n",
       "      <td>NaN</td>\n",
       "      <td>NaN</td>\n",
       "      <td>NaN</td>\n",
       "      <td>NaN</td>\n",
       "      <td>NaN</td>\n",
       "    </tr>\n",
       "    <tr>\n",
       "      <th>time_since_published</th>\n",
       "      <td>4005</td>\n",
       "      <td>NaN</td>\n",
       "      <td>NaN</td>\n",
       "      <td>NaN</td>\n",
       "      <td>NaT</td>\n",
       "      <td>NaT</td>\n",
       "      <td>1923 days 16:18:41.797752832</td>\n",
       "      <td>1446 days 09:32:04.389727216</td>\n",
       "      <td>0 days 00:00:00</td>\n",
       "      <td>554 days 00:00:00</td>\n",
       "      <td>1675 days 00:00:00</td>\n",
       "      <td>3104 days 00:00:00</td>\n",
       "      <td>5056 days 00:00:00</td>\n",
       "    </tr>\n",
       "    <tr>\n",
       "      <th>month</th>\n",
       "      <td>4005</td>\n",
       "      <td>12</td>\n",
       "      <td>Apr</td>\n",
       "      <td>423</td>\n",
       "      <td>NaT</td>\n",
       "      <td>NaT</td>\n",
       "      <td>NaN</td>\n",
       "      <td>NaN</td>\n",
       "      <td>NaN</td>\n",
       "      <td>NaN</td>\n",
       "      <td>NaN</td>\n",
       "      <td>NaN</td>\n",
       "      <td>NaN</td>\n",
       "    </tr>\n",
       "    <tr>\n",
       "      <th>year</th>\n",
       "      <td>4005.0</td>\n",
       "      <td>NaN</td>\n",
       "      <td>NaN</td>\n",
       "      <td>NaN</td>\n",
       "      <td>NaT</td>\n",
       "      <td>NaT</td>\n",
       "      <td>2014.596754</td>\n",
       "      <td>3.99193</td>\n",
       "      <td>2006.0</td>\n",
       "      <td>2011.0</td>\n",
       "      <td>2015.0</td>\n",
       "      <td>2018.0</td>\n",
       "      <td>2020.0</td>\n",
       "    </tr>\n",
       "    <tr>\n",
       "      <th>day</th>\n",
       "      <td>4005.0</td>\n",
       "      <td>NaN</td>\n",
       "      <td>NaN</td>\n",
       "      <td>NaN</td>\n",
       "      <td>NaT</td>\n",
       "      <td>NaT</td>\n",
       "      <td>15.212984</td>\n",
       "      <td>8.613515</td>\n",
       "      <td>1.0</td>\n",
       "      <td>8.0</td>\n",
       "      <td>15.0</td>\n",
       "      <td>22.0</td>\n",
       "      <td>31.0</td>\n",
       "    </tr>\n",
       "    <tr>\n",
       "      <th>week_day</th>\n",
       "      <td>4005</td>\n",
       "      <td>7</td>\n",
       "      <td>Tue</td>\n",
       "      <td>857</td>\n",
       "      <td>NaT</td>\n",
       "      <td>NaT</td>\n",
       "      <td>NaN</td>\n",
       "      <td>NaN</td>\n",
       "      <td>NaN</td>\n",
       "      <td>NaN</td>\n",
       "      <td>NaN</td>\n",
       "      <td>NaN</td>\n",
       "      <td>NaN</td>\n",
       "    </tr>\n",
       "    <tr>\n",
       "      <th>daily_views</th>\n",
       "      <td>4005.0</td>\n",
       "      <td>NaN</td>\n",
       "      <td>NaN</td>\n",
       "      <td>NaN</td>\n",
       "      <td>NaT</td>\n",
       "      <td>NaT</td>\n",
       "      <td>3103.617844</td>\n",
       "      <td>7463.261324</td>\n",
       "      <td>0.0</td>\n",
       "      <td>417.693951</td>\n",
       "      <td>1060.176027</td>\n",
       "      <td>2798.85654</td>\n",
       "      <td>166072.837838</td>\n",
       "    </tr>\n",
       "    <tr>\n",
       "      <th>speaker_1_avg_views</th>\n",
       "      <td>4005.0</td>\n",
       "      <td>NaN</td>\n",
       "      <td>NaN</td>\n",
       "      <td>NaN</td>\n",
       "      <td>NaT</td>\n",
       "      <td>NaT</td>\n",
       "      <td>3103.617844</td>\n",
       "      <td>6284.865529</td>\n",
       "      <td>0.0</td>\n",
       "      <td>480.10854</td>\n",
       "      <td>1168.038131</td>\n",
       "      <td>3077.077592</td>\n",
       "      <td>154804.666667</td>\n",
       "    </tr>\n",
       "    <tr>\n",
       "      <th>event_wise_avg_views</th>\n",
       "      <td>4005.0</td>\n",
       "      <td>NaN</td>\n",
       "      <td>NaN</td>\n",
       "      <td>NaN</td>\n",
       "      <td>NaT</td>\n",
       "      <td>NaT</td>\n",
       "      <td>3103.617844</td>\n",
       "      <td>5149.490183</td>\n",
       "      <td>21.282438</td>\n",
       "      <td>704.246976</td>\n",
       "      <td>1499.333894</td>\n",
       "      <td>3947.896101</td>\n",
       "      <td>98747.78373</td>\n",
       "    </tr>\n",
       "    <tr>\n",
       "      <th>number_of_lang</th>\n",
       "      <td>4005.0</td>\n",
       "      <td>NaN</td>\n",
       "      <td>NaN</td>\n",
       "      <td>NaN</td>\n",
       "      <td>NaT</td>\n",
       "      <td>NaT</td>\n",
       "      <td>160.720599</td>\n",
       "      <td>55.422837</td>\n",
       "      <td>6.0</td>\n",
       "      <td>129.0</td>\n",
       "      <td>159.0</td>\n",
       "      <td>195.0</td>\n",
       "      <td>454.0</td>\n",
       "    </tr>\n",
       "    <tr>\n",
       "      <th>num_of_topics</th>\n",
       "      <td>4005.0</td>\n",
       "      <td>NaN</td>\n",
       "      <td>NaN</td>\n",
       "      <td>NaN</td>\n",
       "      <td>NaT</td>\n",
       "      <td>NaT</td>\n",
       "      <td>7.915106</td>\n",
       "      <td>3.904362</td>\n",
       "      <td>1.0</td>\n",
       "      <td>5.0</td>\n",
       "      <td>7.0</td>\n",
       "      <td>10.0</td>\n",
       "      <td>33.0</td>\n",
       "    </tr>\n",
       "    <tr>\n",
       "      <th>topics_wise_avg_views</th>\n",
       "      <td>4005.0</td>\n",
       "      <td>NaN</td>\n",
       "      <td>NaN</td>\n",
       "      <td>NaN</td>\n",
       "      <td>NaT</td>\n",
       "      <td>NaT</td>\n",
       "      <td>3208.539076</td>\n",
       "      <td>1298.926245</td>\n",
       "      <td>878.0</td>\n",
       "      <td>2433.0</td>\n",
       "      <td>2999.0</td>\n",
       "      <td>3759.0</td>\n",
       "      <td>25532.0</td>\n",
       "    </tr>\n",
       "    <tr>\n",
       "      <th>related_views</th>\n",
       "      <td>4005.0</td>\n",
       "      <td>NaN</td>\n",
       "      <td>NaN</td>\n",
       "      <td>NaN</td>\n",
       "      <td>NaT</td>\n",
       "      <td>NaT</td>\n",
       "      <td>2888.834956</td>\n",
       "      <td>3561.939651</td>\n",
       "      <td>0.0</td>\n",
       "      <td>893.0</td>\n",
       "      <td>1891.0</td>\n",
       "      <td>3693.0</td>\n",
       "      <td>60782.0</td>\n",
       "    </tr>\n",
       "  </tbody>\n",
       "</table>\n",
       "</div>"
      ],
      "text/plain": [
       "                        count unique  \\\n",
       "talk_id                4005.0    NaN   \n",
       "title                    4005   4005   \n",
       "speaker_1                4005   3274   \n",
       "all_speakers             4001   3306   \n",
       "occupations              3483   2049   \n",
       "about_speakers           3502   2977   \n",
       "views                  4005.0    NaN   \n",
       "recorded_date            4004   1334   \n",
       "published_date           4005   2962   \n",
       "event                    4005    459   \n",
       "native_lang              4005     12   \n",
       "available_lang           4005   3902   \n",
       "comments               3350.0    NaN   \n",
       "duration               4005.0    NaN   \n",
       "topics                   4005   3977   \n",
       "related_talks            4005   4005   \n",
       "url                      4005   4005   \n",
       "description              4005   4005   \n",
       "transcript               4005   4005   \n",
       "time_since_published     4005    NaN   \n",
       "month                    4005     12   \n",
       "year                   4005.0    NaN   \n",
       "day                    4005.0    NaN   \n",
       "week_day                 4005      7   \n",
       "daily_views            4005.0    NaN   \n",
       "speaker_1_avg_views    4005.0    NaN   \n",
       "event_wise_avg_views   4005.0    NaN   \n",
       "number_of_lang         4005.0    NaN   \n",
       "num_of_topics          4005.0    NaN   \n",
       "topics_wise_avg_views  4005.0    NaN   \n",
       "related_views          4005.0    NaN   \n",
       "\n",
       "                                                                     top  \\\n",
       "talk_id                                                              NaN   \n",
       "title                                        Averting the climate crisis   \n",
       "speaker_1                                                   Alex Gendler   \n",
       "all_speakers                                         {0: 'Alex Gendler'}   \n",
       "occupations                                              {0: ['writer']}   \n",
       "about_speakers         {0: 'Alex Rosenthal takes everyday experiences...   \n",
       "views                                                                NaN   \n",
       "recorded_date                                        2017-04-24 00:00:00   \n",
       "published_date                                       2017-09-07 00:00:00   \n",
       "event                                                             TED-Ed   \n",
       "native_lang                                                           en   \n",
       "available_lang                                                    ['en']   \n",
       "comments                                                             NaN   \n",
       "duration                                                             NaN   \n",
       "topics                                                    [TED-Ed, math]   \n",
       "related_talks          {243: 'New thinking on the climate crisis', 54...   \n",
       "url                    https://www.ted.com/talks/al_gore_averting_the...   \n",
       "description            With the same humor and humanity he exuded in ...   \n",
       "transcript             Thank you so much, Chris. And it's truly a gre...   \n",
       "time_since_published                                                 NaN   \n",
       "month                                                                Apr   \n",
       "year                                                                 NaN   \n",
       "day                                                                  NaN   \n",
       "week_day                                                             Tue   \n",
       "daily_views                                                          NaN   \n",
       "speaker_1_avg_views                                                  NaN   \n",
       "event_wise_avg_views                                                 NaN   \n",
       "number_of_lang                                                       NaN   \n",
       "num_of_topics                                                        NaN   \n",
       "topics_wise_avg_views                                                NaN   \n",
       "related_views                                                        NaN   \n",
       "\n",
       "                       freq      first       last  \\\n",
       "talk_id                 NaN        NaT        NaT   \n",
       "title                     1        NaT        NaT   \n",
       "speaker_1                34        NaT        NaT   \n",
       "all_speakers             34        NaT        NaT   \n",
       "occupations              53        NaT        NaT   \n",
       "about_speakers           10        NaT        NaT   \n",
       "views                   NaN        NaT        NaT   \n",
       "recorded_date            97 1984-02-02 2020-04-30   \n",
       "published_date           27 2006-06-27 2020-04-30   \n",
       "event                   556        NaT        NaT   \n",
       "native_lang            3957        NaT        NaT   \n",
       "available_lang           24        NaT        NaT   \n",
       "comments                NaN        NaT        NaT   \n",
       "duration                NaN        NaT        NaT   \n",
       "topics                    8        NaT        NaT   \n",
       "related_talks             1        NaT        NaT   \n",
       "url                       1        NaT        NaT   \n",
       "description               1        NaT        NaT   \n",
       "transcript                1        NaT        NaT   \n",
       "time_since_published    NaN        NaT        NaT   \n",
       "month                   423        NaT        NaT   \n",
       "year                    NaN        NaT        NaT   \n",
       "day                     NaN        NaT        NaT   \n",
       "week_day                857        NaT        NaT   \n",
       "daily_views             NaN        NaT        NaT   \n",
       "speaker_1_avg_views     NaN        NaT        NaT   \n",
       "event_wise_avg_views    NaN        NaT        NaT   \n",
       "number_of_lang          NaN        NaT        NaT   \n",
       "num_of_topics           NaN        NaT        NaT   \n",
       "topics_wise_avg_views   NaN        NaT        NaT   \n",
       "related_views           NaN        NaT        NaT   \n",
       "\n",
       "                                               mean  \\\n",
       "talk_id                                12432.538327   \n",
       "title                                           NaN   \n",
       "speaker_1                                       NaN   \n",
       "all_speakers                                    NaN   \n",
       "occupations                                     NaN   \n",
       "about_speakers                                  NaN   \n",
       "views                                2148005.573783   \n",
       "recorded_date                                   NaN   \n",
       "published_date                                  NaN   \n",
       "event                                           NaN   \n",
       "native_lang                                     NaN   \n",
       "available_lang                                  NaN   \n",
       "comments                                 161.997015   \n",
       "duration                                 713.837762   \n",
       "topics                                          NaN   \n",
       "related_talks                                   NaN   \n",
       "url                                             NaN   \n",
       "description                                     NaN   \n",
       "transcript                                      NaN   \n",
       "time_since_published   1923 days 16:18:41.797752832   \n",
       "month                                           NaN   \n",
       "year                                    2014.596754   \n",
       "day                                       15.212984   \n",
       "week_day                                        NaN   \n",
       "daily_views                             3103.617844   \n",
       "speaker_1_avg_views                     3103.617844   \n",
       "event_wise_avg_views                    3103.617844   \n",
       "number_of_lang                           160.720599   \n",
       "num_of_topics                              7.915106   \n",
       "topics_wise_avg_views                   3208.539076   \n",
       "related_views                           2888.834956   \n",
       "\n",
       "                                                std              min  \\\n",
       "talk_id                                17447.576262              1.0   \n",
       "title                                           NaN              NaN   \n",
       "speaker_1                                       NaN              NaN   \n",
       "all_speakers                                    NaN              NaN   \n",
       "occupations                                     NaN              NaN   \n",
       "about_speakers                                  NaN              NaN   \n",
       "views                                3451225.523659              0.0   \n",
       "recorded_date                                   NaN              NaN   \n",
       "published_date                                  NaN              NaN   \n",
       "event                                           NaN              NaN   \n",
       "native_lang                                     NaN              NaN   \n",
       "available_lang                                  NaN              NaN   \n",
       "comments                                 268.838922              0.0   \n",
       "duration                                 329.259358             60.0   \n",
       "topics                                          NaN              NaN   \n",
       "related_talks                                   NaN              NaN   \n",
       "url                                             NaN              NaN   \n",
       "description                                     NaN              NaN   \n",
       "transcript                                      NaN              NaN   \n",
       "time_since_published   1446 days 09:32:04.389727216  0 days 00:00:00   \n",
       "month                                           NaN              NaN   \n",
       "year                                        3.99193           2006.0   \n",
       "day                                        8.613515              1.0   \n",
       "week_day                                        NaN              NaN   \n",
       "daily_views                             7463.261324              0.0   \n",
       "speaker_1_avg_views                     6284.865529              0.0   \n",
       "event_wise_avg_views                    5149.490183        21.282438   \n",
       "number_of_lang                            55.422837              6.0   \n",
       "num_of_topics                              3.904362              1.0   \n",
       "topics_wise_avg_views                   1298.926245            878.0   \n",
       "related_views                           3561.939651              0.0   \n",
       "\n",
       "                                     25%                 50%  \\\n",
       "talk_id                           1252.0              2333.0   \n",
       "title                                NaN                 NaN   \n",
       "speaker_1                            NaN                 NaN   \n",
       "all_speakers                         NaN                 NaN   \n",
       "occupations                          NaN                 NaN   \n",
       "about_speakers                       NaN                 NaN   \n",
       "views                           882069.0           1375508.0   \n",
       "recorded_date                        NaN                 NaN   \n",
       "published_date                       NaN                 NaN   \n",
       "event                                NaN                 NaN   \n",
       "native_lang                          NaN                 NaN   \n",
       "available_lang                       NaN                 NaN   \n",
       "comments                            38.0                89.0   \n",
       "duration                           393.0               732.0   \n",
       "topics                               NaN                 NaN   \n",
       "related_talks                        NaN                 NaN   \n",
       "url                                  NaN                 NaN   \n",
       "description                          NaN                 NaN   \n",
       "transcript                           NaN                 NaN   \n",
       "time_since_published   554 days 00:00:00  1675 days 00:00:00   \n",
       "month                                NaN                 NaN   \n",
       "year                              2011.0              2015.0   \n",
       "day                                  8.0                15.0   \n",
       "week_day                             NaN                 NaN   \n",
       "daily_views                   417.693951         1060.176027   \n",
       "speaker_1_avg_views            480.10854         1168.038131   \n",
       "event_wise_avg_views          704.246976         1499.333894   \n",
       "number_of_lang                     129.0               159.0   \n",
       "num_of_topics                        5.0                 7.0   \n",
       "topics_wise_avg_views             2433.0              2999.0   \n",
       "related_views                      893.0              1891.0   \n",
       "\n",
       "                                      75%                 max  \n",
       "talk_id                           23777.0             62794.0  \n",
       "title                                 NaN                 NaN  \n",
       "speaker_1                             NaN                 NaN  \n",
       "all_speakers                          NaN                 NaN  \n",
       "occupations                           NaN                 NaN  \n",
       "about_speakers                        NaN                 NaN  \n",
       "views                           2133110.0          65051954.0  \n",
       "recorded_date                         NaN                 NaN  \n",
       "published_date                        NaN                 NaN  \n",
       "event                                 NaN                 NaN  \n",
       "native_lang                           NaN                 NaN  \n",
       "available_lang                        NaN                 NaN  \n",
       "comments                            188.0              6449.0  \n",
       "duration                            968.0              1831.0  \n",
       "topics                                NaN                 NaN  \n",
       "related_talks                         NaN                 NaN  \n",
       "url                                   NaN                 NaN  \n",
       "description                           NaN                 NaN  \n",
       "transcript                            NaN                 NaN  \n",
       "time_since_published   3104 days 00:00:00  5056 days 00:00:00  \n",
       "month                                 NaN                 NaN  \n",
       "year                               2018.0              2020.0  \n",
       "day                                  22.0                31.0  \n",
       "week_day                              NaN                 NaN  \n",
       "daily_views                    2798.85654       166072.837838  \n",
       "speaker_1_avg_views           3077.077592       154804.666667  \n",
       "event_wise_avg_views          3947.896101         98747.78373  \n",
       "number_of_lang                      195.0               454.0  \n",
       "num_of_topics                        10.0                33.0  \n",
       "topics_wise_avg_views              3759.0             25532.0  \n",
       "related_views                      3693.0             60782.0  "
      ]
     },
     "execution_count": 78,
     "metadata": {},
     "output_type": "execute_result"
    }
   ],
   "source": [
    "data.describe(include='all').T"
   ]
  },
  {
   "cell_type": "code",
   "execution_count": 79,
   "id": "b9ce2d57",
   "metadata": {},
   "outputs": [
    {
     "data": {
      "text/plain": [
       "array(['talk_id', 'title', 'speaker_1', 'all_speakers', 'occupations',\n",
       "       'about_speakers', 'views', 'recorded_date', 'published_date',\n",
       "       'event', 'native_lang', 'available_lang', 'comments', 'duration',\n",
       "       'topics', 'related_talks', 'url', 'description', 'transcript',\n",
       "       'time_since_published', 'month', 'year', 'day', 'week_day',\n",
       "       'daily_views', 'speaker_1_avg_views', 'event_wise_avg_views',\n",
       "       'number_of_lang', 'num_of_topics', 'topics_wise_avg_views',\n",
       "       'related_views'], dtype=object)"
      ]
     },
     "execution_count": 79,
     "metadata": {},
     "output_type": "execute_result"
    }
   ],
   "source": [
    "data.columns.values"
   ]
  },
  {
   "cell_type": "code",
   "execution_count": 80,
   "id": "3a40e7c9",
   "metadata": {},
   "outputs": [
    {
     "data": {
      "text/html": [
       "<div>\n",
       "<style scoped>\n",
       "    .dataframe tbody tr th:only-of-type {\n",
       "        vertical-align: middle;\n",
       "    }\n",
       "\n",
       "    .dataframe tbody tr th {\n",
       "        vertical-align: top;\n",
       "    }\n",
       "\n",
       "    .dataframe thead th {\n",
       "        text-align: right;\n",
       "    }\n",
       "</style>\n",
       "<table border=\"1\" class=\"dataframe\">\n",
       "  <thead>\n",
       "    <tr style=\"text-align: right;\">\n",
       "      <th></th>\n",
       "      <th>talk_id</th>\n",
       "      <th>views</th>\n",
       "      <th>comments</th>\n",
       "      <th>duration</th>\n",
       "      <th>time_since_published</th>\n",
       "      <th>year</th>\n",
       "      <th>day</th>\n",
       "      <th>daily_views</th>\n",
       "      <th>speaker_1_avg_views</th>\n",
       "      <th>event_wise_avg_views</th>\n",
       "      <th>number_of_lang</th>\n",
       "      <th>num_of_topics</th>\n",
       "      <th>topics_wise_avg_views</th>\n",
       "      <th>related_views</th>\n",
       "    </tr>\n",
       "  </thead>\n",
       "  <tbody>\n",
       "    <tr>\n",
       "      <th>count</th>\n",
       "      <td>4005.000000</td>\n",
       "      <td>4.005000e+03</td>\n",
       "      <td>3350.000000</td>\n",
       "      <td>4005.000000</td>\n",
       "      <td>4005</td>\n",
       "      <td>4005.000000</td>\n",
       "      <td>4005.000000</td>\n",
       "      <td>4005.000000</td>\n",
       "      <td>4005.000000</td>\n",
       "      <td>4005.000000</td>\n",
       "      <td>4005.000000</td>\n",
       "      <td>4005.000000</td>\n",
       "      <td>4005.000000</td>\n",
       "      <td>4005.000000</td>\n",
       "    </tr>\n",
       "    <tr>\n",
       "      <th>mean</th>\n",
       "      <td>12432.538327</td>\n",
       "      <td>2.148006e+06</td>\n",
       "      <td>161.997015</td>\n",
       "      <td>713.837762</td>\n",
       "      <td>1923 days 16:18:41.797752832</td>\n",
       "      <td>2014.596754</td>\n",
       "      <td>15.212984</td>\n",
       "      <td>3103.617844</td>\n",
       "      <td>3103.617844</td>\n",
       "      <td>3103.617844</td>\n",
       "      <td>160.720599</td>\n",
       "      <td>7.915106</td>\n",
       "      <td>3208.539076</td>\n",
       "      <td>2888.834956</td>\n",
       "    </tr>\n",
       "    <tr>\n",
       "      <th>std</th>\n",
       "      <td>17447.576262</td>\n",
       "      <td>3.451226e+06</td>\n",
       "      <td>268.838922</td>\n",
       "      <td>329.259358</td>\n",
       "      <td>1446 days 09:32:04.389727216</td>\n",
       "      <td>3.991930</td>\n",
       "      <td>8.613515</td>\n",
       "      <td>7463.261324</td>\n",
       "      <td>6284.865529</td>\n",
       "      <td>5149.490183</td>\n",
       "      <td>55.422837</td>\n",
       "      <td>3.904362</td>\n",
       "      <td>1298.926245</td>\n",
       "      <td>3561.939651</td>\n",
       "    </tr>\n",
       "    <tr>\n",
       "      <th>min</th>\n",
       "      <td>1.000000</td>\n",
       "      <td>0.000000e+00</td>\n",
       "      <td>0.000000</td>\n",
       "      <td>60.000000</td>\n",
       "      <td>0 days 00:00:00</td>\n",
       "      <td>2006.000000</td>\n",
       "      <td>1.000000</td>\n",
       "      <td>0.000000</td>\n",
       "      <td>0.000000</td>\n",
       "      <td>21.282438</td>\n",
       "      <td>6.000000</td>\n",
       "      <td>1.000000</td>\n",
       "      <td>878.000000</td>\n",
       "      <td>0.000000</td>\n",
       "    </tr>\n",
       "    <tr>\n",
       "      <th>25%</th>\n",
       "      <td>1252.000000</td>\n",
       "      <td>8.820690e+05</td>\n",
       "      <td>38.000000</td>\n",
       "      <td>393.000000</td>\n",
       "      <td>554 days 00:00:00</td>\n",
       "      <td>2011.000000</td>\n",
       "      <td>8.000000</td>\n",
       "      <td>417.693951</td>\n",
       "      <td>480.108540</td>\n",
       "      <td>704.246976</td>\n",
       "      <td>129.000000</td>\n",
       "      <td>5.000000</td>\n",
       "      <td>2433.000000</td>\n",
       "      <td>893.000000</td>\n",
       "    </tr>\n",
       "    <tr>\n",
       "      <th>50%</th>\n",
       "      <td>2333.000000</td>\n",
       "      <td>1.375508e+06</td>\n",
       "      <td>89.000000</td>\n",
       "      <td>732.000000</td>\n",
       "      <td>1675 days 00:00:00</td>\n",
       "      <td>2015.000000</td>\n",
       "      <td>15.000000</td>\n",
       "      <td>1060.176027</td>\n",
       "      <td>1168.038131</td>\n",
       "      <td>1499.333894</td>\n",
       "      <td>159.000000</td>\n",
       "      <td>7.000000</td>\n",
       "      <td>2999.000000</td>\n",
       "      <td>1891.000000</td>\n",
       "    </tr>\n",
       "    <tr>\n",
       "      <th>75%</th>\n",
       "      <td>23777.000000</td>\n",
       "      <td>2.133110e+06</td>\n",
       "      <td>188.000000</td>\n",
       "      <td>968.000000</td>\n",
       "      <td>3104 days 00:00:00</td>\n",
       "      <td>2018.000000</td>\n",
       "      <td>22.000000</td>\n",
       "      <td>2798.856540</td>\n",
       "      <td>3077.077592</td>\n",
       "      <td>3947.896101</td>\n",
       "      <td>195.000000</td>\n",
       "      <td>10.000000</td>\n",
       "      <td>3759.000000</td>\n",
       "      <td>3693.000000</td>\n",
       "    </tr>\n",
       "    <tr>\n",
       "      <th>max</th>\n",
       "      <td>62794.000000</td>\n",
       "      <td>6.505195e+07</td>\n",
       "      <td>6449.000000</td>\n",
       "      <td>1831.000000</td>\n",
       "      <td>5056 days 00:00:00</td>\n",
       "      <td>2020.000000</td>\n",
       "      <td>31.000000</td>\n",
       "      <td>166072.837838</td>\n",
       "      <td>154804.666667</td>\n",
       "      <td>98747.783730</td>\n",
       "      <td>454.000000</td>\n",
       "      <td>33.000000</td>\n",
       "      <td>25532.000000</td>\n",
       "      <td>60782.000000</td>\n",
       "    </tr>\n",
       "  </tbody>\n",
       "</table>\n",
       "</div>"
      ],
      "text/plain": [
       "            talk_id         views     comments     duration  \\\n",
       "count   4005.000000  4.005000e+03  3350.000000  4005.000000   \n",
       "mean   12432.538327  2.148006e+06   161.997015   713.837762   \n",
       "std    17447.576262  3.451226e+06   268.838922   329.259358   \n",
       "min        1.000000  0.000000e+00     0.000000    60.000000   \n",
       "25%     1252.000000  8.820690e+05    38.000000   393.000000   \n",
       "50%     2333.000000  1.375508e+06    89.000000   732.000000   \n",
       "75%    23777.000000  2.133110e+06   188.000000   968.000000   \n",
       "max    62794.000000  6.505195e+07  6449.000000  1831.000000   \n",
       "\n",
       "               time_since_published         year          day    daily_views  \\\n",
       "count                          4005  4005.000000  4005.000000    4005.000000   \n",
       "mean   1923 days 16:18:41.797752832  2014.596754    15.212984    3103.617844   \n",
       "std    1446 days 09:32:04.389727216     3.991930     8.613515    7463.261324   \n",
       "min                 0 days 00:00:00  2006.000000     1.000000       0.000000   \n",
       "25%               554 days 00:00:00  2011.000000     8.000000     417.693951   \n",
       "50%              1675 days 00:00:00  2015.000000    15.000000    1060.176027   \n",
       "75%              3104 days 00:00:00  2018.000000    22.000000    2798.856540   \n",
       "max              5056 days 00:00:00  2020.000000    31.000000  166072.837838   \n",
       "\n",
       "       speaker_1_avg_views  event_wise_avg_views  number_of_lang  \\\n",
       "count          4005.000000           4005.000000     4005.000000   \n",
       "mean           3103.617844           3103.617844      160.720599   \n",
       "std            6284.865529           5149.490183       55.422837   \n",
       "min               0.000000             21.282438        6.000000   \n",
       "25%             480.108540            704.246976      129.000000   \n",
       "50%            1168.038131           1499.333894      159.000000   \n",
       "75%            3077.077592           3947.896101      195.000000   \n",
       "max          154804.666667          98747.783730      454.000000   \n",
       "\n",
       "       num_of_topics  topics_wise_avg_views  related_views  \n",
       "count    4005.000000            4005.000000    4005.000000  \n",
       "mean        7.915106            3208.539076    2888.834956  \n",
       "std         3.904362            1298.926245    3561.939651  \n",
       "min         1.000000             878.000000       0.000000  \n",
       "25%         5.000000            2433.000000     893.000000  \n",
       "50%         7.000000            2999.000000    1891.000000  \n",
       "75%        10.000000            3759.000000    3693.000000  \n",
       "max        33.000000           25532.000000   60782.000000  "
      ]
     },
     "execution_count": 80,
     "metadata": {},
     "output_type": "execute_result"
    }
   ],
   "source": [
    "data.describe()"
   ]
  },
  {
   "cell_type": "markdown",
   "id": "adb0bf9c",
   "metadata": {},
   "source": [
    "# Cat boost"
   ]
  },
  {
   "cell_type": "code",
   "execution_count": null,
   "id": "762d93e9",
   "metadata": {},
   "outputs": [],
   "source": [
    "import xgboost as xgb\n",
    "xgb_model= xgb.XGBRegressor(objective=\"reg:squarederror\")"
   ]
  },
  {
   "cell_type": "code",
   "execution_count": null,
   "id": "bd166188",
   "metadata": {},
   "outputs": [],
   "source": [
    "data.columns"
   ]
  },
  {
   "cell_type": "code",
   "execution_count": null,
   "id": "74b5b570",
   "metadata": {},
   "outputs": [],
   "source": [
    "X= data[['duration',\n",
    "       'speaker_1_avg_views', 'event_wise_avg_views',\n",
    "       'number_of_lang', 'num_of_topics', 'topics_wise_avg_views', 'year', 'day']]"
   ]
  },
  {
   "cell_type": "code",
   "execution_count": null,
   "id": "817ed145",
   "metadata": {},
   "outputs": [],
   "source": [
    "from sklearn.preprocessing import StandardScaler\n",
    "Scaler= StandardScaler()"
   ]
  },
  {
   "cell_type": "code",
   "execution_count": null,
   "id": "79ce7ace",
   "metadata": {},
   "outputs": [],
   "source": [
    "X= Scaler.fit_transform(X)\n",
    "y= Scaler.fit_transform(data['daily_views'].values.reshape(-1,1))"
   ]
  },
  {
   "cell_type": "code",
   "execution_count": null,
   "id": "b96e93d8",
   "metadata": {},
   "outputs": [],
   "source": [
    "X.shape"
   ]
  },
  {
   "cell_type": "code",
   "execution_count": null,
   "id": "e78e8f84",
   "metadata": {},
   "outputs": [],
   "source": [
    "y.shape"
   ]
  },
  {
   "cell_type": "code",
   "execution_count": null,
   "id": "2458da83",
   "metadata": {},
   "outputs": [],
   "source": [
    "X_train, X_test, y_train, y_test= train_test_split(X, y,  test_size= 0.20, random_state= 5)"
   ]
  },
  {
   "cell_type": "code",
   "execution_count": null,
   "id": "49b35a35",
   "metadata": {},
   "outputs": [],
   "source": [
    "xgb_model.fit(X_train, y_train)"
   ]
  },
  {
   "cell_type": "code",
   "execution_count": null,
   "id": "d3172ed9",
   "metadata": {},
   "outputs": [],
   "source": [
    "xgb_r2_train=xgb_model.score(X_train, y_train)\n",
    "xgb_r2_train"
   ]
  },
  {
   "cell_type": "code",
   "execution_count": null,
   "id": "a1aa1c8f",
   "metadata": {},
   "outputs": [],
   "source": [
    "xgb_r2_test= xgb_model.score(X_test, y_test)\n",
    "xgb_r2_test"
   ]
  },
  {
   "cell_type": "code",
   "execution_count": null,
   "id": "d9b46188",
   "metadata": {},
   "outputs": [],
   "source": [
    "xgb_y_train_pred= xgb_model.predict(X_train)\n",
    "xgb_y_test_pred= xgb_model.predict(X_test)"
   ]
  },
  {
   "cell_type": "code",
   "execution_count": null,
   "id": "036d7536",
   "metadata": {},
   "outputs": [],
   "source": [
    "from sklearn.metrics import mean_absolute_error\n",
    "from sklearn.metrics import mean_squared_error"
   ]
  },
  {
   "cell_type": "code",
   "execution_count": null,
   "id": "c84a22bc",
   "metadata": {},
   "outputs": [],
   "source": [
    "mean_absolute_error(y_train,xgb_y_train_pred)\n"
   ]
  },
  {
   "cell_type": "code",
   "execution_count": null,
   "id": "640f2788",
   "metadata": {},
   "outputs": [],
   "source": [
    "mean_absolute_error(y_test, xgb_y_test_pred)\n"
   ]
  },
  {
   "cell_type": "code",
   "execution_count": null,
   "id": "b76aefd4",
   "metadata": {},
   "outputs": [],
   "source": [
    "import math\n"
   ]
  },
  {
   "cell_type": "code",
   "execution_count": null,
   "id": "c55ad6ca",
   "metadata": {},
   "outputs": [],
   "source": [
    "xgb_rmse_train = math.sqrt(mean_squared_error(y_train,xgb_y_train_pred))\n",
    "xgb_rmse_train"
   ]
  },
  {
   "cell_type": "code",
   "execution_count": null,
   "id": "9c9f7d1f",
   "metadata": {},
   "outputs": [],
   "source": [
    "xgb_rmse_test = math.sqrt(mean_squared_error(y_test,xgb_y_test_pred))\n",
    "xgb_rmse_test"
   ]
  },
  {
   "cell_type": "code",
   "execution_count": null,
   "id": "d514054d",
   "metadata": {},
   "outputs": [],
   "source": [
    "xgb_model.get_booster().feature_names = ['duration', 'speaker_1_avg_views', 'event_wise_avg_views','number_of_lang', 'num_of_topics', 'topics_wise_avg_views']\n",
    "xgb.plot_importance(xgb_model.get_booster())"
   ]
  },
  {
   "cell_type": "code",
   "execution_count": null,
   "id": "033ad575",
   "metadata": {},
   "outputs": [],
   "source": [
    "from xgboost import plot_importance\n",
    "plt.rcParams[\"figure.figsize\"] = (14,7)\n",
    "plt.figure(figsize= (10,4))\n",
    "plot_importance(xgb_model, importance_type = 'gain', grid= False)"
   ]
  },
  {
   "cell_type": "markdown",
   "id": "8defe13b",
   "metadata": {},
   "source": [
    "# Catboost"
   ]
  },
  {
   "cell_type": "code",
   "execution_count": null,
   "id": "3730dddd",
   "metadata": {},
   "outputs": [],
   "source": [
    "!pip install catboost"
   ]
  },
  {
   "cell_type": "code",
   "execution_count": null,
   "id": "ac88aa25",
   "metadata": {},
   "outputs": [],
   "source": [
    "from catboost import CatBoostRegressor\n"
   ]
  },
  {
   "cell_type": "code",
   "execution_count": null,
   "id": "22c96756",
   "metadata": {},
   "outputs": [],
   "source": [
    "model = CatBoostRegressor(iterations=50,\n",
    "                          learning_rate=0.6,\n",
    "                          depth=10)\n",
    "model.fit(X_train, y_train)"
   ]
  },
  {
   "cell_type": "code",
   "execution_count": null,
   "id": "4cc8d4c9",
   "metadata": {},
   "outputs": [],
   "source": [
    "cat_y_train_pred= model.predict(X_train)\n",
    "cat_y_test_pred= model.predict(X_test)"
   ]
  },
  {
   "cell_type": "code",
   "execution_count": null,
   "id": "022fca23",
   "metadata": {},
   "outputs": [],
   "source": [
    "cat_boost_r2_test = r2_score(y_test,cat_y_test_pred)\n",
    "cat_boost_r2_test"
   ]
  },
  {
   "cell_type": "code",
   "execution_count": null,
   "id": "592f97bc",
   "metadata": {},
   "outputs": [],
   "source": [
    "cat_boost_r2_train=r2_score(y_train, cat_y_train_pred)\n",
    "cat_boost_r2_train"
   ]
  },
  {
   "cell_type": "code",
   "execution_count": null,
   "id": "8a02233c",
   "metadata": {},
   "outputs": [],
   "source": [
    "mean_absolute_error(y_train,cat_y_train_pred)"
   ]
  },
  {
   "cell_type": "code",
   "execution_count": null,
   "id": "82d0d790",
   "metadata": {},
   "outputs": [],
   "source": [
    "mean_absolute_error(y_test, cat_y_test_pred)"
   ]
  },
  {
   "cell_type": "code",
   "execution_count": null,
   "id": "6ea664a5",
   "metadata": {},
   "outputs": [],
   "source": [
    "cat_rmse_train = math.sqrt(mean_squared_error(y_train,cat_y_train_pred))\n",
    "cat_rmse_train"
   ]
  },
  {
   "cell_type": "code",
   "execution_count": null,
   "id": "dd945910",
   "metadata": {},
   "outputs": [],
   "source": [
    "cat_rmse_test = math.sqrt(mean_squared_error(y_test,cat_y_test_pred))\n",
    "cat_rmse_test"
   ]
  },
  {
   "cell_type": "markdown",
   "id": "f88e313b",
   "metadata": {},
   "source": [
    "# Continue"
   ]
  },
  {
   "cell_type": "markdown",
   "id": "d310dad6",
   "metadata": {},
   "source": [
    "Plotting the correlation matrix"
   ]
  },
  {
   "cell_type": "code",
   "execution_count": null,
   "id": "9276ce29",
   "metadata": {},
   "outputs": [],
   "source": [
    "X=pd.DataFrame(X)"
   ]
  },
  {
   "cell_type": "code",
   "execution_count": null,
   "id": "2dbb3d9c",
   "metadata": {},
   "outputs": [],
   "source": [
    "X.columns=['duration', 'speaker_1_avg_views', 'event_wise_avg_views','number_of_lang', 'num_of_topics', 'topics_wise_avg_views']"
   ]
  },
  {
   "cell_type": "code",
   "execution_count": null,
   "id": "20c17412",
   "metadata": {},
   "outputs": [],
   "source": [
    "# Lets look at the correlation matrix now.\n",
    "fig = plt.figure(figsize=(16,8))\n",
    "ax = fig.add_subplot(111)\n",
    "sns.heatmap(X.corr(),annot=True, cmap='Spectral_r')"
   ]
  },
  {
   "cell_type": "markdown",
   "id": "a12ff55e",
   "metadata": {},
   "source": [
    "# Applying train test split"
   ]
  },
  {
   "cell_type": "code",
   "execution_count": null,
   "id": "318f3b59",
   "metadata": {},
   "outputs": [],
   "source": [
    "X_train, X_test, y_train, y_test = train_test_split(X, y, test_size=0.3, random_state=42)"
   ]
  },
  {
   "cell_type": "markdown",
   "id": "938c015d",
   "metadata": {},
   "source": [
    "# Let's try to build a baseline model and we can improve from there."
   ]
  },
  {
   "cell_type": "markdown",
   "id": "3ee86c40",
   "metadata": {},
   "source": [
    "# 7. Fitting the regression models and hyperParameter Tuning"
   ]
  },
  {
   "cell_type": "markdown",
   "id": "f9f4b861",
   "metadata": {},
   "source": [
    "# 7.1 Let's apply linear regression model"
   ]
  },
  {
   "cell_type": "code",
   "execution_count": null,
   "id": "4c7196f4",
   "metadata": {},
   "outputs": [],
   "source": [
    "#fitting the model\n",
    "from sklearn.linear_model import LinearRegression\n",
    "reg = LinearRegression().fit(X_train, y_train)"
   ]
  },
  {
   "cell_type": "code",
   "execution_count": null,
   "id": "9b2a193a",
   "metadata": {},
   "outputs": [],
   "source": [
    "#predicting the values for train and test set\n",
    "y_pred = reg.predict(X_train)\n",
    "y_test_pred = reg.predict(X_test)\n",
    "\n",
    "MSE  = mean_squared_error(y_test, y_test_pred)\n",
    "print(\"MSE on test is\" , MSE)\n",
    "\n",
    "RMSE = np.sqrt(MSE)\n",
    "print(\"RMSE on test is\" ,RMSE)\n",
    "\n",
    "y_pred = reg.predict(X_train)\n",
    "y_test_pred = reg.predict(X_test)\n",
    "print('Training MAE: {:0.2f}'.format(mean_absolute_error(y_train, y_pred)))\n",
    "print('Test MAE: {:0.2f}'.format(mean_absolute_error(y_test, y_test_pred)))"
   ]
  },
  {
   "cell_type": "markdown",
   "id": "6309e128",
   "metadata": {},
   "source": [
    "# Despite of the fact that our features are not following linear assumption which we have checked earlier, this model is giving a satisfactory score."
   ]
  },
  {
   "cell_type": "markdown",
   "id": "edbee61e",
   "metadata": {},
   "source": [
    "# 7.2 Random Forest Regressor"
   ]
  },
  {
   "cell_type": "code",
   "execution_count": null,
   "id": "8f6b344d",
   "metadata": {},
   "outputs": [],
   "source": [
    "#applying RandomForestRegressor on default parameters\n",
    "rf = RandomForestRegressor(criterion='mae')\n",
    "rf.fit(X_train, y_train)\n",
    "y_pred = rf.predict(X_train)\n",
    "y_test_pred = rf.predict(X_test)\n",
    "print('Training MAE: {:0.2f}'.format(metrics.mean_absolute_error(y_train, y_pred)))\n",
    "print('Test MAE: {:0.2f}'.format(metrics.mean_absolute_error(y_test, y_test_pred)))\n",
    "print('Target mean: {:0.2f}'.format(y.mean()))\n",
    "print('Target std: {:0.2f}'.format(y.std()))"
   ]
  },
  {
   "cell_type": "markdown",
   "id": "792d67b9",
   "metadata": {},
   "source": [
    "* It's not a good score but we can improve by doing some feature selection and by hyperparameter tuning."
   ]
  },
  {
   "cell_type": "markdown",
   "id": "478fb8fb",
   "metadata": {},
   "source": [
    "Defining Parameter Dict for Hyperparameter Tuning"
   ]
  },
  {
   "cell_type": "code",
   "execution_count": null,
   "id": "8750b715",
   "metadata": {},
   "outputs": [],
   "source": [
    "#Random Forest Regressor param_dict\n",
    "n_estimators = [30,50,80,100,120,150]\n",
    "max_depth = [4,6,8,10,12]\n",
    "min_samples_split = [50,80,100,150,200]\n",
    "min_samples_leaf = [10,30,40,50,60,80]\n",
    "# HYperparameter Dict\n",
    "param_dict = {'n_estimators' : n_estimators,\n",
    "              'max_depth' : max_depth,\n",
    "              'min_samples_split' : min_samples_split,\n",
    "              'min_samples_leaf' : min_samples_leaf}"
   ]
  },
  {
   "cell_type": "markdown",
   "id": "b2cb6eee",
   "metadata": {},
   "source": [
    "1. Hyperparameter Tuning using Randomized Search CV"
   ]
  },
  {
   "cell_type": "code",
   "execution_count": null,
   "id": "e6ca1099",
   "metadata": {},
   "outputs": [],
   "source": [
    "# Create an instance of the random forest regressor\n",
    "rf_model = RandomForestRegressor(criterion='mae')\n",
    "\n",
    "#RandomSearch\n",
    "rf_random = RandomizedSearchCV(rf_model,param_dict,verbose=0,cv=5)\n",
    "rf_random.fit(X_train,y_train)"
   ]
  },
  {
   "cell_type": "code",
   "execution_count": null,
   "id": "acbd4020",
   "metadata": {},
   "outputs": [],
   "source": [
    "#finding the optimal model w.r.t. best_estimator_\n",
    "rf_optimal_model = rf_random.best_estimator_"
   ]
  },
  {
   "cell_type": "code",
   "execution_count": null,
   "id": "995e9069",
   "metadata": {},
   "outputs": [],
   "source": [
    "rf_optimal_model"
   ]
  },
  {
   "cell_type": "code",
   "execution_count": null,
   "id": "b84333a3",
   "metadata": {},
   "outputs": [],
   "source": [
    "#calculating the MAE on train and test set\n",
    "y_pred = rf_optimal_model.predict(X_train)\n",
    "y_test_pred = rf_optimal_model.predict(X_test)\n",
    "print('Training MAE: {:0.2f}'.format(metrics.mean_absolute_error(y_train, y_pred)))\n",
    "print('Test MAE: {:0.2f}'.format(metrics.mean_absolute_error(y_test, y_test_pred))"
   ]
  },
  {
   "cell_type": "markdown",
   "id": "860dd388",
   "metadata": {},
   "source": [
    "Let's plot all the scores of rf_optimal_model together."
   ]
  },
  {
   "cell_type": "code",
   "execution_count": null,
   "id": "22c02305",
   "metadata": {},
   "outputs": [],
   "source": [
    "#Defining the model\n",
    "model =[\n",
    "        ['RandomForest ',RandomForestRegressor(criterion='mae',max_depth=6,min_samples_leaf=30,min_samples_split=80,n_estimators=150,random_state=42)]\n",
    "      ]\n",
    "#Let's run the the model and store the results in a dataframe\n",
    "model_data = []\n",
    "for name,curr_model in model :\n",
    "    curr_model_data = {}\n",
    "    curr_model.random_state = 42\n",
    "    curr_model_data[\"Model_Name\"] = name\n",
    "    curr_model.fit(X_train,y_train)\n",
    "    curr_model_data[\"MAE_train\"] =metrics.mean_absolute_error(y_train, curr_model.predict(X_train))\n",
    "    curr_model_data[\"MAE_test\"] =metrics.mean_absolute_error(y_test, curr_model.predict(X_test))\n",
    "    curr_model_data[\"R2_Score_train\"] = r2_score(y_train,curr_model.predict(X_train))\n",
    "    curr_model_data[\"R2_Score_test\"] = r2_score(y_test,curr_model.predict(X_test))\n",
    "    curr_model_data[\"RMSE_Score_train\"] = np.sqrt(mean_squared_error(y_train,curr_model.predict(X_train)))\n",
    "    curr_model_data[\"RMSE_Score_test\"] = np.sqrt(mean_squared_error(y_test,curr_model.predict(X_test)))\n",
    "    model_data.append(curr_model_data)\n",
    "\n",
    "results_df_rf = pd.DataFrame(model_data)\n",
    "\n",
    "#printing the results_df_rf\n",
    "results_df_rf"
   ]
  },
  {
   "cell_type": "markdown",
   "id": "3d4a66a5",
   "metadata": {},
   "source": [
    "# Let's plot the feature importance score w.r.t. RF model\n"
   ]
  },
  {
   "cell_type": "code",
   "execution_count": null,
   "id": "9a77b130",
   "metadata": {},
   "outputs": [],
   "source": [
    "importances = pd.DataFrame({'Features': X.columns, \n",
    "                                'Importances': rf_optimal_model.feature_importances_})\n",
    "    \n",
    "importances.sort_values(by=['Importances'], axis='index', ascending=False, inplace=True)\n",
    "fig = plt.figure(figsize=(14, 4))\n",
    "sns.barplot(x='Features', y='Importances', data=importances)\n",
    "plt.xticks(rotation='vertical')\n",
    "plt.title('Feature importance score w.r.t. RFRegressor model')\n",
    "plt.show()"
   ]
  },
  {
   "cell_type": "markdown",
   "id": "a3f47487",
   "metadata": {},
   "source": [
    "* speaker_avg_views is the most important feature in RandomForestregressor followed by event_wise_avg_views."
   ]
  },
  {
   "cell_type": "markdown",
   "id": "4ab50636",
   "metadata": {},
   "source": [
    "# 7.3 Applying XGboost regressor model"
   ]
  },
  {
   "cell_type": "code",
   "execution_count": null,
   "id": "34bd7e60",
   "metadata": {},
   "outputs": [],
   "source": [
    "#XGBoost Regressor\n",
    "# Number of trees\n",
    "n_estimators = [50,80,100]\n",
    "# Maximum depth of trees\n",
    "max_depth = [4,6,8]\n",
    "# Minimum number of samples required to split a node\n",
    "min_samples_split = [50,100,150]\n",
    "# Minimum number of samples required at each leaf node\n",
    "min_samples_leaf = [40,50]\n",
    "# HYperparameter Dict\n",
    "param_dict = {'n_estimators' : n_estimators,\n",
    "              'max_depth' : max_depth,\n",
    "              'min_samples_split' : min_samples_split,\n",
    "              'min_samples_leaf' : min_samples_leaf}"
   ]
  },
  {
   "cell_type": "code",
   "execution_count": null,
   "id": "44593c7c",
   "metadata": {},
   "outputs": [],
   "source": [
    "from xgboost import XGBRegressor\n",
    "# Create an instance of the XGBoost\n",
    "xgb_model = XGBRegressor(learning_rate=0.1)\n",
    "#RandomSearch\n",
    "xgb_random = RandomizedSearchCV(xgb_model,param_dict,verbose=2,cv=5)\n",
    "xgb_random.fit(X_train,y_train)"
   ]
  },
  {
   "cell_type": "code",
   "execution_count": null,
   "id": "a8dc0380",
   "metadata": {},
   "outputs": [],
   "source": [
    "#finding xgb_optimal_model\n",
    "xgb_optimal_model = xgb_random.best_estimator_"
   ]
  },
  {
   "cell_type": "code",
   "execution_count": null,
   "id": "81012dda",
   "metadata": {},
   "outputs": [],
   "source": [
    "xgb_optimal_model"
   ]
  },
  {
   "cell_type": "code",
   "execution_count": null,
   "id": "8dfdc7c8",
   "metadata": {},
   "outputs": [],
   "source": [
    "# make predictions for test data\n",
    "y_hat = xgb_optimal_model.predict(X_test)\n",
    "print(f'r_sqr value for train: {xgb_optimal_model.score(X_train, y_train)}')\n",
    "r_squared= r2_score(y_test,y_hat)\n",
    "#Calculate Adjusted R-sqaured\n",
    "adjusted_r_squared = 1 - (1-r_squared)*(len(y)-1)/(len(y)-X.shape[1]-1)\n",
    "print(f'For test set the R_Squared for XGBoost is {r_squared} and adjusted R_S"
   ]
  },
  {
   "cell_type": "code",
   "execution_count": null,
   "id": "ce844683",
   "metadata": {},
   "outputs": [],
   "source": [
    "y_pred = xgb_optimal_model.predict(X_train)\n",
    "y_test_pred = xgb_optimal_model.predict(X_test)\n",
    "print('Training MAE: {:0.2f}'.format(metrics.mean_absolute_error(y_train, y_pred)))\n",
    "print('Test MAE: {:0.2f}'.format(metrics.mean_absolute_error(y_test, y_test_pred)))"
   ]
  },
  {
   "cell_type": "markdown",
   "id": "d50ea33e",
   "metadata": {},
   "source": [
    "# Let's plot all the scores of xgb_optimal_model together."
   ]
  },
  {
   "cell_type": "code",
   "execution_count": null,
   "id": "9d45304b",
   "metadata": {},
   "outputs": [],
   "source": [
    "#Defining the model\n",
    "model = [\n",
    "           ['XGBRegressor: ', xgb.XGBRegressor(base_score=0.5, booster='gbtree',colsample_bytree=1, gamma=0,importance_type='gain', learning_rate=0.1,max_depth=4, min_samples_leaf=40,\n",
    "             min_samples_split=150, n_estimators=80)]         \n",
    "         ]\n",
    "#Let's run the the model\n",
    "model_data = []\n",
    "for name,curr_model in model :\n",
    "    curr_model_data = {}\n",
    "    curr_model.random_state = 42\n",
    "    curr_model_data[\"Model_Name\"] = name\n",
    "    curr_model.fit(X_train,y_train)\n",
    "    curr_model_data[\"MAE_train\"] =metrics.mean_absolute_error(y_train, curr_model.predict(X_train))\n",
    "    curr_model_data[\"MAE_test\"] =metrics.mean_absolute_error(y_test, curr_model.predict(X_test))\n",
    "    curr_model_data[\"R2_Score_train\"] = r2_score(y_train,curr_model.predict(X_train))\n",
    "    curr_model_data[\"R2_Score_test\"] = r2_score(y_test,curr_model.predict(X_test))\n",
    "    curr_model_data[\"RMSE_Score_train\"] = np.sqrt(mean_squared_error(y_train,curr_model.predict(X_train)))\n",
    "    curr_model_data[\"RMSE_Score_test\"] = np.sqrt(mean_squared_error(y_test,curr_model.predict(X_test)))\n",
    "    model_data.append(curr_model_data)\n",
    "\n",
    "results_df_xgb = pd.DataFrame(model_data)\n",
    "#printing the results_df_xgb\n",
    "results_df_xgb"
   ]
  },
  {
   "cell_type": "markdown",
   "id": "db76aa7d",
   "metadata": {},
   "source": [
    "Let's plot the feature importance score w.r.t. XGBregressor model"
   ]
  },
  {
   "cell_type": "code",
   "execution_count": null,
   "id": "e2099cad",
   "metadata": {},
   "outputs": [],
   "source": [
    "importances = pd.DataFrame({'Features': X.columns, \n",
    "                                'Importances': xgb_optimal_model.feature_importances_})\n",
    "    \n",
    "importances.sort_values(by=['Importances'], axis='index', ascending=False, inplace=True)\n",
    "fig = plt.figure(figsize=(14, 4))\n",
    "sns.barplot(x='Features', y='Importances', data=importances)\n",
    "plt.xticks(rotation='vertical')\n",
    "plt.title('Feature importance score w.r.t. XGBregressor model')\n",
    "plt.show()"
   ]
  },
  {
   "cell_type": "markdown",
   "id": "66cabac1",
   "metadata": {},
   "source": [
    "* speaker1_avg_views is the most important feature in XGBregressor model followed by event_wise_avg_views.\n"
   ]
  },
  {
   "cell_type": "markdown",
   "id": "41fcfb6f",
   "metadata": {},
   "source": [
    "# 7.4 Let's try ExtraTreesRegressor.\n"
   ]
  },
  {
   "cell_type": "code",
   "execution_count": null,
   "id": "2427cb57",
   "metadata": {},
   "outputs": [],
   "source": [
    "et = ExtraTreesRegressor(criterion='mae', max_depth=30, n_estimators=200, min_samples_leaf=2, min_samples_split=6)\n",
    "et.fit(X_train, y_train)\n",
    "y_pred = et.predict(X_train)\n",
    "y_test_pred = et.predict(X_test)\n",
    "print('Training MAE: {:0.2f}'.format(metrics.mean_absolute_error(y_train, y_pred)))\n",
    "print('Test MAE: {:0.2f}'.format(metrics.mean_absolute_error(y_test, y_test_pred)))"
   ]
  },
  {
   "cell_type": "markdown",
   "id": "573be46e",
   "metadata": {},
   "source": [
    "* Hyperparameter Tuning using Randomized Search CV"
   ]
  },
  {
   "cell_type": "code",
   "execution_count": null,
   "id": "de0e18d7",
   "metadata": {},
   "outputs": [],
   "source": [
    "#Extra Trees Regressor paramdict\n",
    "# Number of trees\n",
    "n_estimators = [50,80,100]\n",
    "# Maximum depth of trees\n",
    "max_depth = [4,6,8]\n",
    "# Minimum number of samples required to split a node\n",
    "min_samples_split = [50,100,150]\n",
    "# Minimum number of samples required at each leaf node\n",
    "min_samples_leaf = [40,50]\n",
    "# HYperparameter Dict\n",
    "param_dict = {'n_estimators' : n_estimators,\n",
    "              'max_depth' : max_depth,\n",
    "              'min_samples_split' : min_samples_split,\n",
    "              'min_samples_leaf' : min_samples_leaf}"
   ]
  },
  {
   "cell_type": "code",
   "execution_count": null,
   "id": "8fcf1096",
   "metadata": {},
   "outputs": [],
   "source": [
    "# Create an instance of the Extratrees regressor\n",
    "et_model = ExtraTreesRegressor(criterion='mae')\n",
    "\n",
    "#RandomSearch\n",
    "et_random = RandomizedSearchCV(et_model,param_dict,verbose=2,cv=5)\n",
    "et_random.fit(X_train,y_train)"
   ]
  },
  {
   "cell_type": "code",
   "execution_count": null,
   "id": "bfc3c267",
   "metadata": {},
   "outputs": [],
   "source": [
    "et_optimal_model = et_random.best_estimator_"
   ]
  },
  {
   "cell_type": "code",
   "execution_count": null,
   "id": "0ea45956",
   "metadata": {},
   "outputs": [],
   "source": [
    "y_pred = et_optimal_model.predict(X_train)\n",
    "y_test_pred = et_optimal_model.predict(X_test)\n",
    "print('Training MAE: {:0.2f}'.format(metrics.mean_absolute_error(y_train, y_pred)))\n",
    "print('Test MAE: {:0.2f}'.format(metrics.mean_absolute_error(y_test, y_test_pred)))"
   ]
  },
  {
   "cell_type": "code",
   "execution_count": null,
   "id": "70e304ef",
   "metadata": {},
   "outputs": [],
   "source": [
    "# make predictions for test data\n",
    "y_hat = et_optimal_model.predict(X_test)\n",
    "print(f'r_sqr value for train: {et_optimal_model.score(X_train, y_train)}')\n",
    "r_squared= r2_score(y_test,y_hat)\n",
    "#Calculate Adjusted R-sqaured\n",
    "adjusted_r_squared = 1 - (1-r_squared)*(len(y)-1)/(len(y)-X.shape[1]-1)\n",
    "print(f'For test the R_Squared for ExtraTreesRegressor is {r_squared} and adjus"
   ]
  },
  {
   "cell_type": "markdown",
   "id": "24382c16",
   "metadata": {},
   "source": [
    "# Let's plot all the scores of et_optimal_model together."
   ]
  },
  {
   "cell_type": "code",
   "execution_count": null,
   "id": "de3db11e",
   "metadata": {},
   "outputs": [],
   "source": [
    "#Defining the model\n",
    "model = [\n",
    "           ['ExtraTreeRegressor :',ExtraTreesRegressor(criterion='mae',max_depth=6, min_samples_leaf=40,min_samples_split=100, n_estimators=50)],\n",
    "         ]\n",
    "#Let's run the the model\n",
    "model_data = []\n",
    "for name,curr_model in model :\n",
    "    curr_model_data = {}\n",
    "    curr_model.random_state = 42\n",
    "    curr_model_data[\"Model_Name\"] = name\n",
    "    curr_model.fit(X_train,y_train)\n",
    "    curr_model_data[\"MAE_train\"] =metrics.mean_absolute_error(y_train, curr_model.predict(X_train))\n",
    "    curr_model_data[\"MAE_test\"] =metrics.mean_absolute_error(y_test, curr_model.predict(X_test))\n",
    "    curr_model_data[\"R2_Score_train\"] = r2_score(y_train,curr_model.predict(X_train))\n",
    "    curr_model_data[\"R2_Score_test\"] = r2_score(y_test,curr_model.predict(X_test))\n",
    "    curr_model_data[\"RMSE_Score_train\"] = np.sqrt(mean_squared_error(y_train,curr_model.predict(X_train)))\n",
    "    curr_model_data[\"RMSE_Score_test\"] = np.sqrt(mean_squared_error(y_test,curr_model.predict(X_test)))\n",
    "    model_data.append(curr_model_data)\n",
    "\n",
    "results_df_et = pd.DataFrame(model_data)\n",
    "#printing the results_df_et\n",
    "results_df_et"
   ]
  },
  {
   "cell_type": "markdown",
   "id": "19ab5c24",
   "metadata": {},
   "source": [
    "Let's plot the feature importance score w.r.t. ExtraTreesRegressor model\n",
    "\n"
   ]
  },
  {
   "cell_type": "code",
   "execution_count": null,
   "id": "3b97fa4a",
   "metadata": {},
   "outputs": [],
   "source": [
    "importances = pd.DataFrame({'Features': X.columns, \n",
    "                                'Importances': et.feature_importances_})\n",
    "    \n",
    "importances.sort_values(by=['Importances'], axis='index', ascending=False, inplace=True)\n",
    "fig = plt.figure(figsize=(14, 4))\n",
    "sns.barplot(x='Features', y='Importances', data=importances)\n",
    "plt.xticks(rotation='vertical')\n",
    "plt.title('Feature importance score w.r.t. ExtraTreesRegressor model')\n",
    "plt.show()"
   ]
  },
  {
   "cell_type": "markdown",
   "id": "8dd92a45",
   "metadata": {},
   "source": [
    "*speaker1_avg_views is the most important feature in RandomForestregressor followed by comments.\n",
    "\n",
    "\n",
    "*In all the models speaker_1_avg_views is impacting the much."
   ]
  },
  {
   "cell_type": "markdown",
   "id": "22a09034",
   "metadata": {},
   "source": [
    "# 8. Comparison of different regressor Models"
   ]
  },
  {
   "cell_type": "markdown",
   "id": "3bfe816b",
   "metadata": {},
   "source": [
    "The ML regressor models that we have used are :\n"
   ]
  },
  {
   "cell_type": "markdown",
   "id": "4408f78f",
   "metadata": {},
   "source": [
    "* Lasso Regressor\n",
    "* Ridge Regressor\n",
    "* KNearestNeighbors Regressor\n",
    "* Random Forest Regressor\n",
    "* Extra Tree Regressor\n",
    "* Gradient Boosting Regressor\n",
    "* XGB Regressor"
   ]
  },
  {
   "cell_type": "markdown",
   "id": "66e1106d",
   "metadata": {},
   "source": [
    "* Let's try all these models together and store the scores in a new dataframe.\n"
   ]
  },
  {
   "cell_type": "code",
   "execution_count": null,
   "id": "1df16617",
   "metadata": {},
   "outputs": [],
   "source": [
    "#Defining all these models\n",
    "models = [\n",
    "           ['Lasso: ', Lasso()],\n",
    "           ['Ridge: ', Ridge()],\n",
    "           ['KNeighborsRegressor: ',  neighbors.KNeighborsRegressor()],\n",
    "           ['RandomForest ',RandomForestRegressor(criterion='mae',max_depth=6,min_samples_leaf=30,min_samples_split=80,n_estimators=150,random_state=42)],\n",
    "           ['ExtraTreeRegressor :',ExtraTreesRegressor(criterion='mae',max_depth=6, min_samples_leaf=40,min_samples_split=100, n_estimators=50)],\n",
    "           ['GradientBoostingRegressor: ', GradientBoostingRegressor()] ,\n",
    "           ['XGBRegressor: ', xgb.XGBRegressor(base_score=0.5, booster='gbtree',colsample_bytree=1, gamma=0,importance_type='gain', learning_rate=0.1,max_depth=4, min_samples_leaf=40,\n",
    "             min_samples_split=150, n_estimators=80)]          \n",
    "        ]"
   ]
  },
  {
   "cell_type": "code",
   "execution_count": null,
   "id": "9cac807f",
   "metadata": {},
   "outputs": [],
   "source": [
    "#Let's run all the models and store the scores\n",
    "model_data = []\n",
    "for name,curr_model in models :\n",
    "    curr_model_data = {}\n",
    "    curr_model.random_state = 78\n",
    "    curr_model_data[\"Name\"] = name\n",
    "    curr_model.fit(X_train,y_train)\n",
    "    curr_model_data[\"MAE_train\"] =metrics.mean_absolute_error(y_train, curr_model.predict(X_train))\n",
    "    curr_model_data[\"MAE_test\"] =metrics.mean_absolute_error(y_test, curr_model.predict(X_test))\n",
    "    curr_model_data[\"R2_Score_train\"] = r2_score(y_train,curr_model.predict(X_train))\n",
    "    curr_model_data[\"R2_Score_test\"] = r2_score(y_test,curr_model.predict(X_test))\n",
    "    curr_model_data[\"RMSE_Score_train\"] = np.sqrt(mean_squared_error(y_train,curr_model.predict(X_train)))\n",
    "    curr_model_data[\"RMSE_Score_test\"] = np.sqrt(mean_squared_error(y_test,curr_model.predict(X_test)))\n",
    "    model_data.append(curr_model_data)"
   ]
  },
  {
   "cell_type": "code",
   "execution_count": null,
   "id": "ddefdb2f",
   "metadata": {},
   "outputs": [],
   "source": [
    "#printing the results dataframe\n",
    "results_df = pd.DataFrame(model_data)\n",
    "results_df"
   ]
  },
  {
   "cell_type": "markdown",
   "id": "caea8189",
   "metadata": {},
   "source": [
    "# 9. Final selection of the model"
   ]
  },
  {
   "cell_type": "markdown",
   "id": "509c0b21",
   "metadata": {},
   "source": [
    "We choose MAE and not RMSE as the deciding factor of our model selection because of the following reasons:"
   ]
  },
  {
   "cell_type": "markdown",
   "id": "0545dbd3",
   "metadata": {},
   "source": [
    "* RMSE is heavily influenced by outliers as in the higher the values get the more the RMSE increases.\n",
    "* MAE doesn’t increase with outliers. MAE is linear and RMSE is quadratically increasing.\n",
    "\n",
    "* The best performing regressor model for this dataset is Random Forest Regressor on the basis of MAE."
   ]
  },
  {
   "cell_type": "code",
   "execution_count": null,
   "id": "c2d756d0",
   "metadata": {},
   "outputs": [],
   "source": [
    "#let's print the scores of Random Forest Regressor model \n",
    "results_df_rf"
   ]
  },
  {
   "cell_type": "code",
   "execution_count": null,
   "id": "3c7740b6",
   "metadata": {},
   "outputs": [],
   "source": [
    "print(f'Mean value of our target variable is {y.mean()}')"
   ]
  },
  {
   "cell_type": "markdown",
   "id": "87b8c89b",
   "metadata": {},
   "source": [
    "* For Random Forest Regressor model, MAE is around 12 % of target variable mean."
   ]
  },
  {
   "cell_type": "markdown",
   "id": "9465b5d2",
   "metadata": {},
   "source": [
    "# 10. Conclusion"
   ]
  },
  {
   "cell_type": "markdown",
   "id": "65407c19",
   "metadata": {},
   "source": [
    "That's it! We reached the end of our exercise.\n",
    "\n",
    "Started with loading the data so far we have done EDA ,feature engineering , data cleaning, target encoding and one hot encoding of categorical columns, feature selection and then model building.\n",
    "\n",
    "So far we have modelled on\n",
    "    * Lasso Regressor\n",
    "    * Ridge Regressor\n",
    "    * KNearestNeighbors Regressor\n",
    "    * Random Forest Regressor\n",
    "    * Extra Tree Regressor\n",
    "    * Gradient Boosting Regressor\n",
    "    * XGB Regressor\n",
    "In all of these models our errors have been in the range of 2,00,000 which is around 10% of the average views. We have been able to correctly predict views 90% of the time.\n",
    "\n",
    "After hyper parameter tuning, we have prevented overfitting and decreased errors by regularizing and reducing learning rate.\n",
    "\n",
    "Given that only have 10% errors, our models have performed very well on unseen data due to various factors like feature selection,correct model selection,etc.\n",
    "\n",
    "Out of all these models RandomForestRegressor is the best performer in terms of MAE.\n",
    "\n",
    "In all the features speaker_wise_avg_views is most important this implies that speakers are directly impacting the views."
   ]
  },
  {
   "cell_type": "markdown",
   "id": "b0fc7524",
   "metadata": {},
   "source": [
    "# Future Work"
   ]
  },
  {
   "cell_type": "markdown",
   "id": "857b24a6",
   "metadata": {},
   "source": [
    "We can do a dynamic regression time series modelling due to the availability of the time features.\n",
    "\n",
    "We can use topic modelling to tackle views in each topic separately."
   ]
  },
  {
   "cell_type": "code",
   "execution_count": null,
   "id": "8381f5e4",
   "metadata": {},
   "outputs": [],
   "source": []
  },
  {
   "cell_type": "code",
   "execution_count": null,
   "id": "d77e47bb",
   "metadata": {},
   "outputs": [],
   "source": []
  },
  {
   "cell_type": "code",
   "execution_count": null,
   "id": "eb87770b",
   "metadata": {},
   "outputs": [],
   "source": []
  }
 ],
 "metadata": {
  "kernelspec": {
   "display_name": "Python 3 (ipykernel)",
   "language": "python",
   "name": "python3"
  },
  "language_info": {
   "codemirror_mode": {
    "name": "ipython",
    "version": 3
   },
   "file_extension": ".py",
   "mimetype": "text/x-python",
   "name": "python",
   "nbconvert_exporter": "python",
   "pygments_lexer": "ipython3",
   "version": "3.7.6"
  }
 },
 "nbformat": 4,
 "nbformat_minor": 5
}
